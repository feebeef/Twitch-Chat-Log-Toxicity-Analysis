{
 "cells": [
  {
   "cell_type": "markdown",
   "metadata": {},
   "source": [
    "# Scripts for calculating Kappas"
   ]
  },
  {
   "cell_type": "markdown",
   "metadata": {},
   "source": [
    "#### Import Libraries"
   ]
  },
  {
   "cell_type": "code",
   "execution_count": 559,
   "metadata": {},
   "outputs": [],
   "source": [
    "from nltk import agreement\n",
    "import pandas as pd\n",
    "import os, glob\n",
    "import numpy as np\n",
    "import seaborn as sns\n",
    "import matplotlib.pyplot as plt"
   ]
  },
  {
   "cell_type": "markdown",
   "metadata": {},
   "source": [
    "## Kappas per Batch\n",
    "ref: https://learnaitech.com/how-to-compute-inter-rater-reliablity-metrics-cohens-kappa-fleisss-kappa-cronbach-alpha-kripndorff-alpha-scotts-pi-inter-class-correlation-in-python/"
   ]
  },
  {
   "cell_type": "code",
   "execution_count": 560,
   "metadata": {},
   "outputs": [
    {
     "name": "stdout",
     "output_type": "stream",
     "text": [
      "diego_manzano.csv\n",
      "marybelle_tandoc.csv\n",
      "samantha_santos.csv\n",
      "['diego_manzano.csv', 'marybelle_tandoc.csv', 'samantha_santos.csv']\n"
     ]
    }
   ],
   "source": [
    "os.chdir(\"D:\\Programs\\Jupyter Notebooks\\Thesis RIP Scripts\\Annotations\\Batch 012\") # CHANGE VALUE PER BATCH\n",
    "files = []\n",
    "for file in glob.glob(\"*.csv\"):\n",
    "    print(file)\n",
    "    files.append(file)\n",
    "    \n",
    "print(files)"
   ]
  },
  {
   "cell_type": "code",
   "execution_count": 561,
   "metadata": {
    "scrolled": true
   },
   "outputs": [],
   "source": [
    "coder1 = pd.read_csv(files[0])\n",
    "#coder1 = pd.read_excel('katrina_ruzol.xlsx')\n",
    "coder1 = coder1.replace(r'^\\s*$', np.NaN, regex=True)\n",
    "coder1.fillna(0)\n",
    "\n",
    "coder2 = pd.read_csv(files[1])\n",
    "#coder2 = pd.read_excel('')\n",
    "coder2 = coder2.replace(r'^\\s*$', np.NaN, regex=True)\n",
    "coder2.fillna(0)\n",
    "\n",
    "coder3 = pd.read_csv(files[2])\n",
    "#coder3 = pd.read_excel('samantha_santos.xlsx')\n",
    "coder3 = coder3.replace(r'^\\s*$', np.NaN, regex=True)\n",
    "coder3.fillna(0)\n",
    "\n",
    "coder1 = coder1.replace(np.nan,0)\n",
    "coder2 = coder2.replace(np.nan,0)\n",
    "coder3 = coder3.replace(np.nan,0)"
   ]
  },
  {
   "cell_type": "code",
   "execution_count": 562,
   "metadata": {},
   "outputs": [
    {
     "name": "stdout",
     "output_type": "stream",
     "text": [
      "<class 'pandas.core.frame.DataFrame'>\n",
      "RangeIndex: 1898 entries, 0 to 1897\n",
      "Data columns (total 10 columns):\n",
      " #   Column             Non-Null Count  Dtype  \n",
      "---  ------             --------------  -----  \n",
      " 0   Unnamed: 0         1898 non-null   int64  \n",
      " 1   message            1898 non-null   object \n",
      " 2   author             1898 non-null   object \n",
      " 3   time_text          1898 non-null   object \n",
      " 4   Direct Harassment  1898 non-null   float64\n",
      " 5   Hate Speech        1898 non-null   float64\n",
      " 6   Sexual Harassment  1898 non-null   float64\n",
      " 7   Trolling           1898 non-null   float64\n",
      " 8   Others             1898 non-null   float64\n",
      " 9   Toxic              1898 non-null   float64\n",
      "dtypes: float64(6), int64(1), object(3)\n",
      "memory usage: 148.4+ KB\n",
      "None\n",
      "<class 'pandas.core.frame.DataFrame'>\n",
      "RangeIndex: 1898 entries, 0 to 1897\n",
      "Data columns (total 10 columns):\n",
      " #   Column             Non-Null Count  Dtype  \n",
      "---  ------             --------------  -----  \n",
      " 0   Unnamed: 0         1898 non-null   int64  \n",
      " 1   message            1898 non-null   object \n",
      " 2   author             1898 non-null   object \n",
      " 3   time_text          1898 non-null   object \n",
      " 4   Direct Harassment  1898 non-null   float64\n",
      " 5   Hate Speech        1898 non-null   float64\n",
      " 6   Sexual Harassment  1898 non-null   float64\n",
      " 7   Trolling           1898 non-null   float64\n",
      " 8   Others             1898 non-null   float64\n",
      " 9   Toxic              1898 non-null   float64\n",
      "dtypes: float64(6), int64(1), object(3)\n",
      "memory usage: 148.4+ KB\n",
      "None\n",
      "<class 'pandas.core.frame.DataFrame'>\n",
      "RangeIndex: 1898 entries, 0 to 1897\n",
      "Data columns (total 10 columns):\n",
      " #   Column             Non-Null Count  Dtype  \n",
      "---  ------             --------------  -----  \n",
      " 0   Unnamed: 0         1898 non-null   int64  \n",
      " 1   message            1898 non-null   object \n",
      " 2   author             1898 non-null   object \n",
      " 3   time_text          1898 non-null   object \n",
      " 4   Direct Harassment  1898 non-null   float64\n",
      " 5   Hate Speech        1898 non-null   float64\n",
      " 6   Sexual Harassment  1898 non-null   float64\n",
      " 7   Trolling           1898 non-null   float64\n",
      " 8   Others             1898 non-null   float64\n",
      " 9   Toxic              1898 non-null   float64\n",
      "dtypes: float64(6), int64(1), object(3)\n",
      "memory usage: 148.4+ KB\n",
      "None\n"
     ]
    }
   ],
   "source": [
    "print(coder1.info())\n",
    "print(coder2.info())\n",
    "print(coder3.info())"
   ]
  },
  {
   "cell_type": "code",
   "execution_count": 563,
   "metadata": {},
   "outputs": [],
   "source": [
    "coder1.drop(coder1.columns.difference(['Direct Harassment','Hate Speech', 'Sexual Harassment', 'Trolling', 'Others', 'Toxic']), 1, inplace=True)\n",
    "coder2.drop(coder2.columns.difference(['Direct Harassment','Hate Speech', 'Sexual Harassment', 'Trolling', 'Others', 'Toxic']), 1, inplace=True)\n",
    "coder3.drop(coder3.columns.difference(['Direct Harassment','Hate Speech', 'Sexual Harassment', 'Trolling', 'Others', 'Toxic']), 1, inplace=True)\n",
    "\n",
    "columns = coder1.columns\n"
   ]
  },
  {
   "cell_type": "code",
   "execution_count": 564,
   "metadata": {},
   "outputs": [],
   "source": [
    "for y in coder1.columns:\n",
    "    #print(f'Coder 1: {y}')\n",
    "    coder1[y] = coder1[y].astype(str).astype(float)\n",
    "        \n",
    "            \n",
    "for y in coder2.columns:\n",
    "    #print(f'Coder 2: {y}')\n",
    "    coder2[y] = coder2[y].astype(str).astype(float)\n",
    "\n",
    "for y in coder3.columns:\n",
    "    #print(f'Coder 3: {y}')        \n",
    "    coder3[y] = coder3[y].astype(str).astype(float)"
   ]
  },
  {
   "cell_type": "code",
   "execution_count": 565,
   "metadata": {},
   "outputs": [
    {
     "name": "stdout",
     "output_type": "stream",
     "text": [
      "<class 'pandas.core.frame.DataFrame'>\n",
      "RangeIndex: 1898 entries, 0 to 1897\n",
      "Data columns (total 6 columns):\n",
      " #   Column             Non-Null Count  Dtype  \n",
      "---  ------             --------------  -----  \n",
      " 0   Direct Harassment  1898 non-null   float64\n",
      " 1   Hate Speech        1898 non-null   float64\n",
      " 2   Sexual Harassment  1898 non-null   float64\n",
      " 3   Trolling           1898 non-null   float64\n",
      " 4   Others             1898 non-null   float64\n",
      " 5   Toxic              1898 non-null   float64\n",
      "dtypes: float64(6)\n",
      "memory usage: 89.1 KB\n",
      "[0. 1.]\n",
      "[0. 1.]\n",
      "[0.]\n",
      "[0. 1.]\n",
      "[0.]\n",
      "[0.]\n"
     ]
    },
    {
     "data": {
      "text/html": [
       "<div>\n",
       "<style scoped>\n",
       "    .dataframe tbody tr th:only-of-type {\n",
       "        vertical-align: middle;\n",
       "    }\n",
       "\n",
       "    .dataframe tbody tr th {\n",
       "        vertical-align: top;\n",
       "    }\n",
       "\n",
       "    .dataframe thead th {\n",
       "        text-align: right;\n",
       "    }\n",
       "</style>\n",
       "<table border=\"1\" class=\"dataframe\">\n",
       "  <thead>\n",
       "    <tr style=\"text-align: right;\">\n",
       "      <th></th>\n",
       "      <th>Direct Harassment</th>\n",
       "      <th>Hate Speech</th>\n",
       "      <th>Sexual Harassment</th>\n",
       "      <th>Trolling</th>\n",
       "      <th>Others</th>\n",
       "      <th>Toxic</th>\n",
       "    </tr>\n",
       "  </thead>\n",
       "  <tbody>\n",
       "    <tr>\n",
       "      <th>0</th>\n",
       "      <td>0.0</td>\n",
       "      <td>0.0</td>\n",
       "      <td>0.0</td>\n",
       "      <td>0.0</td>\n",
       "      <td>0.0</td>\n",
       "      <td>0.0</td>\n",
       "    </tr>\n",
       "    <tr>\n",
       "      <th>1</th>\n",
       "      <td>0.0</td>\n",
       "      <td>0.0</td>\n",
       "      <td>0.0</td>\n",
       "      <td>0.0</td>\n",
       "      <td>0.0</td>\n",
       "      <td>0.0</td>\n",
       "    </tr>\n",
       "    <tr>\n",
       "      <th>2</th>\n",
       "      <td>0.0</td>\n",
       "      <td>0.0</td>\n",
       "      <td>0.0</td>\n",
       "      <td>0.0</td>\n",
       "      <td>0.0</td>\n",
       "      <td>0.0</td>\n",
       "    </tr>\n",
       "    <tr>\n",
       "      <th>3</th>\n",
       "      <td>0.0</td>\n",
       "      <td>0.0</td>\n",
       "      <td>0.0</td>\n",
       "      <td>0.0</td>\n",
       "      <td>0.0</td>\n",
       "      <td>0.0</td>\n",
       "    </tr>\n",
       "    <tr>\n",
       "      <th>4</th>\n",
       "      <td>0.0</td>\n",
       "      <td>0.0</td>\n",
       "      <td>0.0</td>\n",
       "      <td>0.0</td>\n",
       "      <td>0.0</td>\n",
       "      <td>0.0</td>\n",
       "    </tr>\n",
       "    <tr>\n",
       "      <th>...</th>\n",
       "      <td>...</td>\n",
       "      <td>...</td>\n",
       "      <td>...</td>\n",
       "      <td>...</td>\n",
       "      <td>...</td>\n",
       "      <td>...</td>\n",
       "    </tr>\n",
       "    <tr>\n",
       "      <th>1893</th>\n",
       "      <td>0.0</td>\n",
       "      <td>0.0</td>\n",
       "      <td>0.0</td>\n",
       "      <td>0.0</td>\n",
       "      <td>0.0</td>\n",
       "      <td>0.0</td>\n",
       "    </tr>\n",
       "    <tr>\n",
       "      <th>1894</th>\n",
       "      <td>0.0</td>\n",
       "      <td>0.0</td>\n",
       "      <td>0.0</td>\n",
       "      <td>0.0</td>\n",
       "      <td>0.0</td>\n",
       "      <td>0.0</td>\n",
       "    </tr>\n",
       "    <tr>\n",
       "      <th>1895</th>\n",
       "      <td>0.0</td>\n",
       "      <td>0.0</td>\n",
       "      <td>0.0</td>\n",
       "      <td>0.0</td>\n",
       "      <td>0.0</td>\n",
       "      <td>0.0</td>\n",
       "    </tr>\n",
       "    <tr>\n",
       "      <th>1896</th>\n",
       "      <td>0.0</td>\n",
       "      <td>0.0</td>\n",
       "      <td>0.0</td>\n",
       "      <td>0.0</td>\n",
       "      <td>0.0</td>\n",
       "      <td>0.0</td>\n",
       "    </tr>\n",
       "    <tr>\n",
       "      <th>1897</th>\n",
       "      <td>0.0</td>\n",
       "      <td>0.0</td>\n",
       "      <td>0.0</td>\n",
       "      <td>0.0</td>\n",
       "      <td>0.0</td>\n",
       "      <td>0.0</td>\n",
       "    </tr>\n",
       "  </tbody>\n",
       "</table>\n",
       "<p>1898 rows × 6 columns</p>\n",
       "</div>"
      ],
      "text/plain": [
       "      Direct Harassment  Hate Speech  Sexual Harassment  Trolling  Others  \\\n",
       "0                   0.0          0.0                0.0       0.0     0.0   \n",
       "1                   0.0          0.0                0.0       0.0     0.0   \n",
       "2                   0.0          0.0                0.0       0.0     0.0   \n",
       "3                   0.0          0.0                0.0       0.0     0.0   \n",
       "4                   0.0          0.0                0.0       0.0     0.0   \n",
       "...                 ...          ...                ...       ...     ...   \n",
       "1893                0.0          0.0                0.0       0.0     0.0   \n",
       "1894                0.0          0.0                0.0       0.0     0.0   \n",
       "1895                0.0          0.0                0.0       0.0     0.0   \n",
       "1896                0.0          0.0                0.0       0.0     0.0   \n",
       "1897                0.0          0.0                0.0       0.0     0.0   \n",
       "\n",
       "      Toxic  \n",
       "0       0.0  \n",
       "1       0.0  \n",
       "2       0.0  \n",
       "3       0.0  \n",
       "4       0.0  \n",
       "...     ...  \n",
       "1893    0.0  \n",
       "1894    0.0  \n",
       "1895    0.0  \n",
       "1896    0.0  \n",
       "1897    0.0  \n",
       "\n",
       "[1898 rows x 6 columns]"
      ]
     },
     "execution_count": 565,
     "metadata": {},
     "output_type": "execute_result"
    }
   ],
   "source": [
    "coder3.info()\n",
    "print(coder3['Direct Harassment'].unique())\n",
    "print(coder3['Hate Speech'].unique())\n",
    "print(coder3['Sexual Harassment'].unique())\n",
    "print(coder3['Trolling'].unique())\n",
    "print(coder3['Others'].unique())\n",
    "print(coder3['Toxic'].unique())\n",
    "\n",
    "coder3"
   ]
  },
  {
   "cell_type": "code",
   "execution_count": 566,
   "metadata": {},
   "outputs": [
    {
     "name": "stdout",
     "output_type": "stream",
     "text": [
      "Direct Harassment: 0.057123572450655975\n",
      "Hate Speech: -0.002350083177082824\n",
      "Sexual Harassment: 0.0\n",
      "Trolling: 0.0538469070742539\n",
      "Others: 0.0\n",
      "Toxic: 0.0\n"
     ]
    }
   ],
   "source": [
    "data = []\n",
    "for col in columns:\n",
    "    col_code1 = coder1[col]\n",
    "    col_code2 = coder2[col]\n",
    "    col_code3 = coder3[col]\n",
    "    \n",
    "    formatted_codes = [[1,i,col_code1[i]] for i in range(len(col_code1))] + [[2,i,col_code2[i]] for i in range(len(col_code2))]  + [[3,i,col_code3[i]] for i in range(len(col_code3))]\n",
    "    #print(formatted_codes)\n",
    "    kappa = agreement.AnnotationTask(data=formatted_codes)\n",
    "    try:\n",
    "        kappa = kappa.multi_kappa()\n",
    "    except ZeroDivisionError:\n",
    "        kappa = 1.0\n",
    "    print(f'{col}: {kappa}')\n",
    "    data.append(kappa)"
   ]
  },
  {
   "cell_type": "code",
   "execution_count": 567,
   "metadata": {},
   "outputs": [
    {
     "data": {
      "image/png": "[encoded data removed]",
      "text/plain": [
       "<Figure size 432x288 with 1 Axes>"
      ]
     },
     "metadata": {
      "needs_background": "light"
     },
     "output_type": "display_data"
    }
   ],
   "source": [
    "objects = ('Direct Harassment', 'Hate Speech', 'Sexual Harassment', 'Trolling', 'Others', 'Toxic')\n",
    "y_pos = np.arange(len(objects))\n",
    "\n",
    "plt.bar(y_pos, data, align='center', alpha=0.5)\n",
    "plt.xticks(y_pos, objects)\n",
    "plt.xticks(rotation=90)\n",
    "plt.ylabel('Kappa Score')\n",
    "plt.title('Fleiss Kappa Scores per Category')\n",
    "axes = plt.gca()\n",
    "axes.set_ylim([0,1])\n",
    "plt.show()"
   ]
  },
  {
   "cell_type": "markdown",
   "metadata": {},
   "source": [
    "## Kappas per Video"
   ]
  },
  {
   "cell_type": "markdown",
   "metadata": {},
   "source": [
    "## Kappas per Channel"
   ]
  },
  {
   "cell_type": "code",
   "execution_count": null,
   "metadata": {},
   "outputs": [],
   "source": []
  }
 ],
 "metadata": {
  "kernelspec": {
   "display_name": "Python 3",
   "language": "python",
   "name": "python3"
  },
  "language_info": {
   "codemirror_mode": {
    "name": "ipython",
    "version": 3
   },
   "file_extension": ".py",
   "mimetype": "text/x-python",
   "name": "python",
   "nbconvert_exporter": "python",
   "pygments_lexer": "ipython3",
   "version": "3.8.5"
  }
 },
 "nbformat": 4,
 "nbformat_minor": 4
}
