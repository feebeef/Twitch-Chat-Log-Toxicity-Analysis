{
 "cells": [
  {
   "cell_type": "markdown",
   "metadata": {},
   "source": [
    "# Scripts for calculating Kappas"
   ]
  },
  {
   "cell_type": "markdown",
   "metadata": {},
   "source": [
    "#### Import Libraries"
   ]
  },
  {
   "cell_type": "code",
   "execution_count": 13,
   "metadata": {},
   "outputs": [],
   "source": [
    "from nltk import agreement\n",
    "import pandas as pd\n",
    "import os, glob\n",
    "import numpy as np\n",
    "import seaborn as sns\n",
    "import matplotlib.pyplot as plt\n",
    "import csv"
   ]
  },
  {
   "cell_type": "markdown",
   "metadata": {},
   "source": [
    "## Kappas per Batch\n",
    "ref: https://learnaitech.com/how-to-compute-inter-rater-reliablity-metrics-cohens-kappa-fleisss-kappa-cronbach-alpha-kripndorff-alpha-scotts-pi-inter-class-correlation-in-python/"
   ]
  },
  {
   "cell_type": "code",
   "execution_count": 14,
   "metadata": {},
   "outputs": [
    {
     "name": "stdout",
     "output_type": "stream",
     "text": [
      "katrina_ruzol.csv\n",
      "luis_raymundo.csv\n",
      "samantha_santos.csv\n",
      "['katrina_ruzol.csv', 'luis_raymundo.csv', 'samantha_santos.csv']\n"
     ]
    }
   ],
   "source": [
    "os.chdir(\"D:\\Programs\\Jupyter Notebooks\\Thesis RIP Scripts\\Annotations\\Batch 003\") # CHANGE VALUE PER BATCH\n",
    "files = []\n",
    "for file in glob.glob(\"*.csv\"):\n",
    "    print(file)\n",
    "    files.append(file)\n",
    "    \n",
    "print(files)"
   ]
  },
  {
   "cell_type": "code",
   "execution_count": 21,
   "metadata": {
    "scrolled": true
   },
   "outputs": [],
   "source": [
    "#coder1 = pd.read_csv(files[0],delimiter= ',', encoding='utf-8', quoting=csv.QUOTE_ALL)\n",
    "coder1 = pd.read_excel('katrina_ruzol.xlsx')\n",
    "coder1 = coder1.replace(r'^\\s*$', np.NaN, regex=True)\n",
    "coder1.fillna(0)\n",
    "\n",
    "coder2 = pd.read_csv(files[1],delimiter= ',', encoding='utf-8', quoting=csv.QUOTE_ALL)\n",
    "#coder2 = pd.read_excel('')\n",
    "coder2 = coder2.replace(r'^\\s*$', np.NaN, regex=True)\n",
    "coder2.fillna(0)\n",
    "\n",
    "#coder3 = pd.read_csv(files[2],delimiter= ',', encoding='utf-8', quoting=csv.QUOTE_ALL)\n",
    "coder3 = pd.read_excel('samantha_santos.xlsx')\n",
    "coder3 = coder3.replace(r'^\\s*$', np.NaN, regex=True)\n",
    "coder3.fillna(0)\n",
    "\n",
    "coder1 = coder1.replace(np.nan,0)\n",
    "coder2 = coder2.replace(np.nan,0)\n",
    "coder3 = coder3.replace(np.nan,0)"
   ]
  },
  {
   "cell_type": "code",
   "execution_count": 22,
   "metadata": {},
   "outputs": [
    {
     "name": "stdout",
     "output_type": "stream",
     "text": [
      "<class 'pandas.core.frame.DataFrame'>\n",
      "RangeIndex: 3000 entries, 0 to 2999\n",
      "Data columns (total 10 columns):\n",
      " #   Column             Non-Null Count  Dtype         \n",
      "---  ------             --------------  -----         \n",
      " 0   Unnamed: 0         3000 non-null   int64         \n",
      " 1   message            3000 non-null   object        \n",
      " 2   author             3000 non-null   object        \n",
      " 3   time_text          3000 non-null   datetime64[ns]\n",
      " 4   Direct Harassment  3000 non-null   float64       \n",
      " 5   Hate Speech        3000 non-null   float64       \n",
      " 6   Sexual Harassment  3000 non-null   float64       \n",
      " 7   Trolling           3000 non-null   float64       \n",
      " 8   Others             3000 non-null   float64       \n",
      " 9   Toxic              3000 non-null   float64       \n",
      "dtypes: datetime64[ns](1), float64(6), int64(1), object(2)\n",
      "memory usage: 234.5+ KB\n",
      "None\n",
      "<class 'pandas.core.frame.DataFrame'>\n",
      "RangeIndex: 3000 entries, 0 to 2999\n",
      "Data columns (total 10 columns):\n",
      " #   Column             Non-Null Count  Dtype  \n",
      "---  ------             --------------  -----  \n",
      " 0   Unnamed: 0         3000 non-null   int64  \n",
      " 1   message            3000 non-null   object \n",
      " 2   author             3000 non-null   object \n",
      " 3   time_text          3000 non-null   object \n",
      " 4   Direct Harassment  3000 non-null   float64\n",
      " 5   Hate Speech        3000 non-null   float64\n",
      " 6   Sexual Harassment  3000 non-null   float64\n",
      " 7   Trolling           3000 non-null   float64\n",
      " 8   Others             3000 non-null   float64\n",
      " 9   Toxic              3000 non-null   float64\n",
      "dtypes: float64(6), int64(1), object(3)\n",
      "memory usage: 234.5+ KB\n",
      "None\n",
      "<class 'pandas.core.frame.DataFrame'>\n",
      "RangeIndex: 3000 entries, 0 to 2999\n",
      "Data columns (total 10 columns):\n",
      " #   Column             Non-Null Count  Dtype         \n",
      "---  ------             --------------  -----         \n",
      " 0   Unnamed: 0         3000 non-null   int64         \n",
      " 1   message            3000 non-null   object        \n",
      " 2   author             3000 non-null   object        \n",
      " 3   time_text          3000 non-null   datetime64[ns]\n",
      " 4   Direct Harassment  3000 non-null   float64       \n",
      " 5   Hate Speech        3000 non-null   float64       \n",
      " 6   Sexual Harassment  3000 non-null   float64       \n",
      " 7   Trolling           3000 non-null   float64       \n",
      " 8   Others             3000 non-null   float64       \n",
      " 9   Toxic              3000 non-null   float64       \n",
      "dtypes: datetime64[ns](1), float64(6), int64(1), object(2)\n",
      "memory usage: 234.5+ KB\n",
      "None\n"
     ]
    }
   ],
   "source": [
    "print(coder1.info())\n",
    "print(coder2.info())\n",
    "print(coder3.info())"
   ]
  },
  {
   "cell_type": "code",
   "execution_count": 17,
   "metadata": {},
   "outputs": [],
   "source": [
    "coder1.drop(coder1.columns.difference(['Direct Harassment','Hate Speech', 'Sexual Harassment', 'Trolling', 'Others', 'Toxic']), 1, inplace=True)\n",
    "coder2.drop(coder2.columns.difference(['Direct Harassment','Hate Speech', 'Sexual Harassment', 'Trolling', 'Others', 'Toxic']), 1, inplace=True)\n",
    "coder3.drop(coder3.columns.difference(['Direct Harassment','Hate Speech', 'Sexual Harassment', 'Trolling', 'Others', 'Toxic']), 1, inplace=True)\n",
    "\n",
    "columns = coder1.columns\n"
   ]
  },
  {
   "cell_type": "code",
   "execution_count": 18,
   "metadata": {},
   "outputs": [],
   "source": [
    "for y in coder1.columns:\n",
    "    #print(f'Coder 1: {y}')\n",
    "    coder1[y] = coder1[y].astype(str).astype(float)\n",
    "        \n",
    "            \n",
    "for y in coder2.columns:\n",
    "    #print(f'Coder 2: {y}')\n",
    "    coder2[y] = coder2[y].astype(str).astype(float)\n",
    "\n",
    "for y in coder3.columns:\n",
    "    #print(f'Coder 3: {y}')        \n",
    "    coder3[y] = coder3[y].astype(str).astype(float)"
   ]
  },
  {
   "cell_type": "code",
   "execution_count": 19,
   "metadata": {},
   "outputs": [
    {
     "name": "stdout",
     "output_type": "stream",
     "text": [
      "<class 'pandas.core.frame.DataFrame'>\n",
      "RangeIndex: 3002 entries, 0 to 3001\n",
      "Data columns (total 6 columns):\n",
      " #   Column             Non-Null Count  Dtype  \n",
      "---  ------             --------------  -----  \n",
      " 0   Direct Harassment  3002 non-null   float64\n",
      " 1   Hate Speech        3002 non-null   float64\n",
      " 2   Sexual Harassment  3002 non-null   float64\n",
      " 3   Trolling           3002 non-null   float64\n",
      " 4   Others             3002 non-null   float64\n",
      " 5   Toxic              3002 non-null   float64\n",
      "dtypes: float64(6)\n",
      "memory usage: 140.8 KB\n",
      "[0. 1.]\n",
      "[0. 1.]\n",
      "[0.]\n",
      "[0. 1.]\n",
      "[0. 1.]\n",
      "[0. 1.]\n"
     ]
    },
    {
     "data": {
      "text/html": [
       "<div>\n",
       "<style scoped>\n",
       "    .dataframe tbody tr th:only-of-type {\n",
       "        vertical-align: middle;\n",
       "    }\n",
       "\n",
       "    .dataframe tbody tr th {\n",
       "        vertical-align: top;\n",
       "    }\n",
       "\n",
       "    .dataframe thead th {\n",
       "        text-align: right;\n",
       "    }\n",
       "</style>\n",
       "<table border=\"1\" class=\"dataframe\">\n",
       "  <thead>\n",
       "    <tr style=\"text-align: right;\">\n",
       "      <th></th>\n",
       "      <th>Direct Harassment</th>\n",
       "      <th>Hate Speech</th>\n",
       "      <th>Sexual Harassment</th>\n",
       "      <th>Trolling</th>\n",
       "      <th>Others</th>\n",
       "      <th>Toxic</th>\n",
       "    </tr>\n",
       "  </thead>\n",
       "  <tbody>\n",
       "    <tr>\n",
       "      <th>0</th>\n",
       "      <td>0.0</td>\n",
       "      <td>0.0</td>\n",
       "      <td>0.0</td>\n",
       "      <td>0.0</td>\n",
       "      <td>0.0</td>\n",
       "      <td>0.0</td>\n",
       "    </tr>\n",
       "    <tr>\n",
       "      <th>1</th>\n",
       "      <td>0.0</td>\n",
       "      <td>0.0</td>\n",
       "      <td>0.0</td>\n",
       "      <td>0.0</td>\n",
       "      <td>0.0</td>\n",
       "      <td>0.0</td>\n",
       "    </tr>\n",
       "    <tr>\n",
       "      <th>2</th>\n",
       "      <td>0.0</td>\n",
       "      <td>0.0</td>\n",
       "      <td>0.0</td>\n",
       "      <td>0.0</td>\n",
       "      <td>0.0</td>\n",
       "      <td>0.0</td>\n",
       "    </tr>\n",
       "    <tr>\n",
       "      <th>3</th>\n",
       "      <td>0.0</td>\n",
       "      <td>0.0</td>\n",
       "      <td>0.0</td>\n",
       "      <td>0.0</td>\n",
       "      <td>0.0</td>\n",
       "      <td>0.0</td>\n",
       "    </tr>\n",
       "    <tr>\n",
       "      <th>4</th>\n",
       "      <td>0.0</td>\n",
       "      <td>0.0</td>\n",
       "      <td>0.0</td>\n",
       "      <td>0.0</td>\n",
       "      <td>0.0</td>\n",
       "      <td>0.0</td>\n",
       "    </tr>\n",
       "    <tr>\n",
       "      <th>...</th>\n",
       "      <td>...</td>\n",
       "      <td>...</td>\n",
       "      <td>...</td>\n",
       "      <td>...</td>\n",
       "      <td>...</td>\n",
       "      <td>...</td>\n",
       "    </tr>\n",
       "    <tr>\n",
       "      <th>2997</th>\n",
       "      <td>0.0</td>\n",
       "      <td>0.0</td>\n",
       "      <td>0.0</td>\n",
       "      <td>0.0</td>\n",
       "      <td>0.0</td>\n",
       "      <td>0.0</td>\n",
       "    </tr>\n",
       "    <tr>\n",
       "      <th>2998</th>\n",
       "      <td>0.0</td>\n",
       "      <td>0.0</td>\n",
       "      <td>0.0</td>\n",
       "      <td>0.0</td>\n",
       "      <td>0.0</td>\n",
       "      <td>0.0</td>\n",
       "    </tr>\n",
       "    <tr>\n",
       "      <th>2999</th>\n",
       "      <td>0.0</td>\n",
       "      <td>0.0</td>\n",
       "      <td>0.0</td>\n",
       "      <td>0.0</td>\n",
       "      <td>0.0</td>\n",
       "      <td>0.0</td>\n",
       "    </tr>\n",
       "    <tr>\n",
       "      <th>3000</th>\n",
       "      <td>0.0</td>\n",
       "      <td>0.0</td>\n",
       "      <td>0.0</td>\n",
       "      <td>0.0</td>\n",
       "      <td>0.0</td>\n",
       "      <td>0.0</td>\n",
       "    </tr>\n",
       "    <tr>\n",
       "      <th>3001</th>\n",
       "      <td>0.0</td>\n",
       "      <td>0.0</td>\n",
       "      <td>0.0</td>\n",
       "      <td>0.0</td>\n",
       "      <td>0.0</td>\n",
       "      <td>0.0</td>\n",
       "    </tr>\n",
       "  </tbody>\n",
       "</table>\n",
       "<p>3002 rows × 6 columns</p>\n",
       "</div>"
      ],
      "text/plain": [
       "      Direct Harassment  Hate Speech  Sexual Harassment  Trolling  Others  \\\n",
       "0                   0.0          0.0                0.0       0.0     0.0   \n",
       "1                   0.0          0.0                0.0       0.0     0.0   \n",
       "2                   0.0          0.0                0.0       0.0     0.0   \n",
       "3                   0.0          0.0                0.0       0.0     0.0   \n",
       "4                   0.0          0.0                0.0       0.0     0.0   \n",
       "...                 ...          ...                ...       ...     ...   \n",
       "2997                0.0          0.0                0.0       0.0     0.0   \n",
       "2998                0.0          0.0                0.0       0.0     0.0   \n",
       "2999                0.0          0.0                0.0       0.0     0.0   \n",
       "3000                0.0          0.0                0.0       0.0     0.0   \n",
       "3001                0.0          0.0                0.0       0.0     0.0   \n",
       "\n",
       "      Toxic  \n",
       "0       0.0  \n",
       "1       0.0  \n",
       "2       0.0  \n",
       "3       0.0  \n",
       "4       0.0  \n",
       "...     ...  \n",
       "2997    0.0  \n",
       "2998    0.0  \n",
       "2999    0.0  \n",
       "3000    0.0  \n",
       "3001    0.0  \n",
       "\n",
       "[3002 rows x 6 columns]"
      ]
     },
     "execution_count": 19,
     "metadata": {},
     "output_type": "execute_result"
    }
   ],
   "source": [
    "coder3.info()\n",
    "print(coder3['Direct Harassment'].unique())\n",
    "print(coder3['Hate Speech'].unique())\n",
    "print(coder3['Sexual Harassment'].unique())\n",
    "print(coder3['Trolling'].unique())\n",
    "print(coder3['Others'].unique())\n",
    "print(coder3['Toxic'].unique())\n",
    "\n",
    "coder3"
   ]
  },
  {
   "cell_type": "code",
   "execution_count": 20,
   "metadata": {},
   "outputs": [
    {
     "ename": "RuntimeError",
     "evalue": "generator raised StopIteration",
     "output_type": "error",
     "traceback": [
      "\u001b[1;31m---------------------------------------------------------------------------\u001b[0m",
      "\u001b[1;31mStopIteration\u001b[0m                             Traceback (most recent call last)",
      "\u001b[1;32mD:\\anaconda3\\lib\\site-packages\\nltk\\metrics\\agreement.py\u001b[0m in \u001b[0;36m<genexpr>\u001b[1;34m(.0)\u001b[0m\n\u001b[0;32m    195\u001b[0m         )\n\u001b[1;32m--> 196\u001b[1;33m         ret = sum(self.agr(cA, cB, item, item_data) for item, item_data in data) / len(\n\u001b[0m\u001b[0;32m    197\u001b[0m             \u001b[0mself\u001b[0m\u001b[1;33m.\u001b[0m\u001b[0mI\u001b[0m\u001b[1;33m\u001b[0m\u001b[1;33m\u001b[0m\u001b[0m\n",
      "\u001b[1;32mD:\\anaconda3\\lib\\site-packages\\nltk\\metrics\\agreement.py\u001b[0m in \u001b[0;36magr\u001b[1;34m(self, cA, cB, i, data)\u001b[0m\n\u001b[0;32m    146\u001b[0m         \u001b[1;32mif\u001b[0m \u001b[0mk1\u001b[0m\u001b[1;33m[\u001b[0m\u001b[1;34m\"coder\"\u001b[0m\u001b[1;33m]\u001b[0m \u001b[1;33m==\u001b[0m \u001b[0mcA\u001b[0m\u001b[1;33m:\u001b[0m\u001b[1;33m\u001b[0m\u001b[1;33m\u001b[0m\u001b[0m\n\u001b[1;32m--> 147\u001b[1;33m             \u001b[0mk2\u001b[0m \u001b[1;33m=\u001b[0m \u001b[0mnext\u001b[0m\u001b[1;33m(\u001b[0m\u001b[1;33m(\u001b[0m\u001b[0mx\u001b[0m \u001b[1;32mfor\u001b[0m \u001b[0mx\u001b[0m \u001b[1;32min\u001b[0m \u001b[0mdata\u001b[0m \u001b[1;32mif\u001b[0m \u001b[0mx\u001b[0m\u001b[1;33m[\u001b[0m\u001b[1;34m\"coder\"\u001b[0m\u001b[1;33m]\u001b[0m \u001b[1;33m==\u001b[0m \u001b[0mcB\u001b[0m \u001b[1;32mand\u001b[0m \u001b[0mx\u001b[0m\u001b[1;33m[\u001b[0m\u001b[1;34m\"item\"\u001b[0m\u001b[1;33m]\u001b[0m \u001b[1;33m==\u001b[0m \u001b[0mi\u001b[0m\u001b[1;33m)\u001b[0m\u001b[1;33m)\u001b[0m\u001b[1;33m\u001b[0m\u001b[1;33m\u001b[0m\u001b[0m\n\u001b[0m\u001b[0;32m    148\u001b[0m         \u001b[1;32melse\u001b[0m\u001b[1;33m:\u001b[0m\u001b[1;33m\u001b[0m\u001b[1;33m\u001b[0m\u001b[0m\n",
      "\u001b[1;31mStopIteration\u001b[0m: ",
      "\nThe above exception was the direct cause of the following exception:\n",
      "\u001b[1;31mRuntimeError\u001b[0m                              Traceback (most recent call last)",
      "\u001b[1;32m<ipython-input-20-f161044c958c>\u001b[0m in \u001b[0;36m<module>\u001b[1;34m\u001b[0m\n\u001b[0;32m      9\u001b[0m     \u001b[0mkappa\u001b[0m \u001b[1;33m=\u001b[0m \u001b[0magreement\u001b[0m\u001b[1;33m.\u001b[0m\u001b[0mAnnotationTask\u001b[0m\u001b[1;33m(\u001b[0m\u001b[0mdata\u001b[0m\u001b[1;33m=\u001b[0m\u001b[0mformatted_codes\u001b[0m\u001b[1;33m)\u001b[0m\u001b[1;33m\u001b[0m\u001b[1;33m\u001b[0m\u001b[0m\n\u001b[0;32m     10\u001b[0m     \u001b[1;32mtry\u001b[0m\u001b[1;33m:\u001b[0m\u001b[1;33m\u001b[0m\u001b[1;33m\u001b[0m\u001b[0m\n\u001b[1;32m---> 11\u001b[1;33m         \u001b[0mkappa\u001b[0m \u001b[1;33m=\u001b[0m \u001b[0mkappa\u001b[0m\u001b[1;33m.\u001b[0m\u001b[0mmulti_kappa\u001b[0m\u001b[1;33m(\u001b[0m\u001b[1;33m)\u001b[0m\u001b[1;33m\u001b[0m\u001b[1;33m\u001b[0m\u001b[0m\n\u001b[0m\u001b[0;32m     12\u001b[0m     \u001b[1;32mexcept\u001b[0m \u001b[0mZeroDivisionError\u001b[0m\u001b[1;33m:\u001b[0m\u001b[1;33m\u001b[0m\u001b[1;33m\u001b[0m\u001b[0m\n\u001b[0;32m     13\u001b[0m         \u001b[0mkappa\u001b[0m \u001b[1;33m=\u001b[0m \u001b[1;36m1.0\u001b[0m\u001b[1;33m\u001b[0m\u001b[1;33m\u001b[0m\u001b[0m\n",
      "\u001b[1;32mD:\\anaconda3\\lib\\site-packages\\nltk\\metrics\\agreement.py\u001b[0m in \u001b[0;36mmulti_kappa\u001b[1;34m(self)\u001b[0m\n\u001b[0;32m    298\u001b[0m         \"\"\"\n\u001b[0;32m    299\u001b[0m         \u001b[0mAe\u001b[0m \u001b[1;33m=\u001b[0m \u001b[0mself\u001b[0m\u001b[1;33m.\u001b[0m\u001b[0m_pairwise_average\u001b[0m\u001b[1;33m(\u001b[0m\u001b[0mself\u001b[0m\u001b[1;33m.\u001b[0m\u001b[0mAe_kappa\u001b[0m\u001b[1;33m)\u001b[0m\u001b[1;33m\u001b[0m\u001b[1;33m\u001b[0m\u001b[0m\n\u001b[1;32m--> 300\u001b[1;33m         \u001b[1;32mreturn\u001b[0m \u001b[1;33m(\u001b[0m\u001b[0mself\u001b[0m\u001b[1;33m.\u001b[0m\u001b[0mavg_Ao\u001b[0m\u001b[1;33m(\u001b[0m\u001b[1;33m)\u001b[0m \u001b[1;33m-\u001b[0m \u001b[0mAe\u001b[0m\u001b[1;33m)\u001b[0m \u001b[1;33m/\u001b[0m \u001b[1;33m(\u001b[0m\u001b[1;36m1.0\u001b[0m \u001b[1;33m-\u001b[0m \u001b[0mAe\u001b[0m\u001b[1;33m)\u001b[0m\u001b[1;33m\u001b[0m\u001b[1;33m\u001b[0m\u001b[0m\n\u001b[0m\u001b[0;32m    301\u001b[0m \u001b[1;33m\u001b[0m\u001b[0m\n\u001b[0;32m    302\u001b[0m     \u001b[1;32mdef\u001b[0m \u001b[0mDisagreement\u001b[0m\u001b[1;33m(\u001b[0m\u001b[0mself\u001b[0m\u001b[1;33m,\u001b[0m \u001b[0mlabel_freqs\u001b[0m\u001b[1;33m)\u001b[0m\u001b[1;33m:\u001b[0m\u001b[1;33m\u001b[0m\u001b[1;33m\u001b[0m\u001b[0m\n",
      "\u001b[1;32mD:\\anaconda3\\lib\\site-packages\\nltk\\metrics\\agreement.py\u001b[0m in \u001b[0;36mavg_Ao\u001b[1;34m(self)\u001b[0m\n\u001b[0;32m    219\u001b[0m \u001b[1;33m\u001b[0m\u001b[0m\n\u001b[0;32m    220\u001b[0m         \"\"\"\n\u001b[1;32m--> 221\u001b[1;33m         \u001b[0mret\u001b[0m \u001b[1;33m=\u001b[0m \u001b[0mself\u001b[0m\u001b[1;33m.\u001b[0m\u001b[0m_pairwise_average\u001b[0m\u001b[1;33m(\u001b[0m\u001b[0mself\u001b[0m\u001b[1;33m.\u001b[0m\u001b[0mAo\u001b[0m\u001b[1;33m)\u001b[0m\u001b[1;33m\u001b[0m\u001b[1;33m\u001b[0m\u001b[0m\n\u001b[0m\u001b[0;32m    222\u001b[0m         \u001b[0mlog\u001b[0m\u001b[1;33m.\u001b[0m\u001b[0mdebug\u001b[0m\u001b[1;33m(\u001b[0m\u001b[1;34m\"Average observed agreement: %f\"\u001b[0m\u001b[1;33m,\u001b[0m \u001b[0mret\u001b[0m\u001b[1;33m)\u001b[0m\u001b[1;33m\u001b[0m\u001b[1;33m\u001b[0m\u001b[0m\n\u001b[0;32m    223\u001b[0m         \u001b[1;32mreturn\u001b[0m \u001b[0mret\u001b[0m\u001b[1;33m\u001b[0m\u001b[1;33m\u001b[0m\u001b[0m\n",
      "\u001b[1;32mD:\\anaconda3\\lib\\site-packages\\nltk\\metrics\\agreement.py\u001b[0m in \u001b[0;36m_pairwise_average\u001b[1;34m(self, function)\u001b[0m\n\u001b[0;32m    210\u001b[0m             \u001b[0ms\u001b[0m\u001b[1;33m.\u001b[0m\u001b[0mremove\u001b[0m\u001b[1;33m(\u001b[0m\u001b[0mcA\u001b[0m\u001b[1;33m)\u001b[0m\u001b[1;33m\u001b[0m\u001b[1;33m\u001b[0m\u001b[0m\n\u001b[0;32m    211\u001b[0m             \u001b[1;32mfor\u001b[0m \u001b[0mcB\u001b[0m \u001b[1;32min\u001b[0m \u001b[0ms\u001b[0m\u001b[1;33m:\u001b[0m\u001b[1;33m\u001b[0m\u001b[1;33m\u001b[0m\u001b[0m\n\u001b[1;32m--> 212\u001b[1;33m                 \u001b[0mtotal\u001b[0m \u001b[1;33m+=\u001b[0m \u001b[0mfunction\u001b[0m\u001b[1;33m(\u001b[0m\u001b[0mcA\u001b[0m\u001b[1;33m,\u001b[0m \u001b[0mcB\u001b[0m\u001b[1;33m)\u001b[0m\u001b[1;33m\u001b[0m\u001b[1;33m\u001b[0m\u001b[0m\n\u001b[0m\u001b[0;32m    213\u001b[0m                 \u001b[0mn\u001b[0m \u001b[1;33m+=\u001b[0m \u001b[1;36m1\u001b[0m\u001b[1;33m\u001b[0m\u001b[1;33m\u001b[0m\u001b[0m\n\u001b[0;32m    214\u001b[0m         \u001b[0mret\u001b[0m \u001b[1;33m=\u001b[0m \u001b[0mtotal\u001b[0m \u001b[1;33m/\u001b[0m \u001b[0mn\u001b[0m\u001b[1;33m\u001b[0m\u001b[1;33m\u001b[0m\u001b[0m\n",
      "\u001b[1;32mD:\\anaconda3\\lib\\site-packages\\nltk\\metrics\\agreement.py\u001b[0m in \u001b[0;36mAo\u001b[1;34m(self, cA, cB)\u001b[0m\n\u001b[0;32m    194\u001b[0m             \u001b[1;34m\"item\"\u001b[0m\u001b[1;33m,\u001b[0m \u001b[1;33m(\u001b[0m\u001b[0mx\u001b[0m \u001b[1;32mfor\u001b[0m \u001b[0mx\u001b[0m \u001b[1;32min\u001b[0m \u001b[0mself\u001b[0m\u001b[1;33m.\u001b[0m\u001b[0mdata\u001b[0m \u001b[1;32mif\u001b[0m \u001b[0mx\u001b[0m\u001b[1;33m[\u001b[0m\u001b[1;34m\"coder\"\u001b[0m\u001b[1;33m]\u001b[0m \u001b[1;32min\u001b[0m \u001b[1;33m(\u001b[0m\u001b[0mcA\u001b[0m\u001b[1;33m,\u001b[0m \u001b[0mcB\u001b[0m\u001b[1;33m)\u001b[0m\u001b[1;33m)\u001b[0m\u001b[1;33m\u001b[0m\u001b[1;33m\u001b[0m\u001b[0m\n\u001b[0;32m    195\u001b[0m         )\n\u001b[1;32m--> 196\u001b[1;33m         ret = sum(self.agr(cA, cB, item, item_data) for item, item_data in data) / len(\n\u001b[0m\u001b[0;32m    197\u001b[0m             \u001b[0mself\u001b[0m\u001b[1;33m.\u001b[0m\u001b[0mI\u001b[0m\u001b[1;33m\u001b[0m\u001b[1;33m\u001b[0m\u001b[0m\n\u001b[0;32m    198\u001b[0m         )\n",
      "\u001b[1;31mRuntimeError\u001b[0m: generator raised StopIteration"
     ]
    }
   ],
   "source": [
    "data = []\n",
    "for col in columns:\n",
    "    col_code1 = coder1[col]\n",
    "    col_code2 = coder2[col]\n",
    "    col_code3 = coder3[col]\n",
    "    \n",
    "    formatted_codes = [[1,i,col_code1[i]] for i in range(len(col_code1))] + [[2,i,col_code2[i]] for i in range(len(col_code2))]  + [[3,i,col_code3[i]] for i in range(len(col_code3))]\n",
    "    #print(formatted_codes)\n",
    "    kappa = agreement.AnnotationTask(data=formatted_codes)\n",
    "    try:\n",
    "        kappa = kappa.multi_kappa()\n",
    "    except ZeroDivisionError:\n",
    "        kappa = 1.0\n",
    "    print(f'{col}: {kappa}')\n",
    "    data.append(kappa)"
   ]
  },
  {
   "cell_type": "code",
   "execution_count": null,
   "metadata": {},
   "outputs": [],
   "source": [
    "objects = ('Direct Harassment', 'Hate Speech', 'Sexual Harassment', 'Trolling', 'Others', 'Toxic')\n",
    "y_pos = np.arange(len(objects))\n",
    "\n",
    "plt.bar(y_pos, data, align='center', alpha=0.5)\n",
    "plt.xticks(y_pos, objects)\n",
    "plt.xticks(rotation=90)\n",
    "plt.ylabel('Kappa Score')\n",
    "plt.title('Fleiss Kappa Scores per Category')\n",
    "axes = plt.gca()\n",
    "axes.set_ylim([0,1])\n",
    "plt.show()"
   ]
  },
  {
   "cell_type": "markdown",
   "metadata": {},
   "source": [
    "## Kappas per Video"
   ]
  },
  {
   "cell_type": "markdown",
   "metadata": {},
   "source": [
    "## Kappas per Channel"
   ]
  },
  {
   "cell_type": "code",
   "execution_count": null,
   "metadata": {},
   "outputs": [],
   "source": []
  }
 ],
 "metadata": {
  "kernelspec": {
   "display_name": "Python 3",
   "language": "python",
   "name": "python3"
  },
  "language_info": {
   "codemirror_mode": {
    "name": "ipython",
    "version": 3
   },
   "file_extension": ".py",
   "mimetype": "text/x-python",
   "name": "python",
   "nbconvert_exporter": "python",
   "pygments_lexer": "ipython3",
   "version": "3.8.5"
  }
 },
 "nbformat": 4,
 "nbformat_minor": 4
}
