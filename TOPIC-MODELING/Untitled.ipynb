{
 "cells": [
  {
   "cell_type": "code",
   "execution_count": 252,
   "metadata": {},
   "outputs": [],
   "source": [
    "import pandas as pd\n",
    "import numpy as np\n",
    "import json\n",
    "import random"
   ]
  },
  {
   "cell_type": "code",
   "execution_count": 253,
   "metadata": {},
   "outputs": [],
   "source": [
    "n_features = 5000\n",
    "n_components = 5\n",
    "n_top_words = 15"
   ]
  },
  {
   "cell_type": "code",
   "execution_count": 254,
   "metadata": {},
   "outputs": [],
   "source": [
    "#lda_topics = ['talk.politics.mideast', 'rec.sport.hockey', 'soc.religion.christian', 'sci.crypt', 'comp.graphics']"
   ]
  },
  {
   "cell_type": "code",
   "execution_count": 302,
   "metadata": {},
   "outputs": [
    {
     "name": "stdout",
     "output_type": "stream",
     "text": [
      "['foxnews_FULL.csv', 'rae_FULL.csv', 'terror_FULL.csv', 'usanews.csv', 'pew0.csv', 'nogla0.csv', 'drdisrespect_FULL.csv', 'gaming_channels_GENRE.csv', 'news_channel_GENRE.csv']\n"
     ]
    }
   ],
   "source": [
    "labels = [\"Direct Harassment\", \"Hate Speech\",\"Sexual Harassment\",\"Trolling\", \"Others\", \"Toxic\"]\n",
    "\n",
    "batch_files = ['usanews.csv', 'foxnews0.csv', 'foxnews1.csv', 'foxnews2.csv', 'foxnews3.csv', \n",
    "                'nogla0.csv','pew0.csv', 'rae0_0.csv', \n",
    "                 'rae0_1.csv', 'terror0_0.csv', 'terror0_1.csv']\n",
    "\n",
    "vid_files = [\"foxnews_FULL.csv\", \"rae_FULL.csv\",  \"terror_FULL.csv\",\n",
    "             \"usanews.csv\" , \"pew0.csv\", \"nogla0.csv\", \"drdisrespect_FULL.csv\"]\n",
    "genre_files = [\"gaming_channels_GENRE.csv\", \"news_channel_GENRE.csv\" ]\n",
    "\n",
    "files = []\n",
    "files.extend(vid_files)\n",
    "files.extend(genre_files)\n",
    "print(files)"
   ]
  },
  {
   "cell_type": "code",
   "execution_count": 256,
   "metadata": {},
   "outputs": [],
   "source": [
    "from sklearn.feature_extraction.text import CountVectorizer\n",
    "def get_tf(doc):\n",
    "    tf_vectorizer = CountVectorizer(max_df=0.95, min_df=2, max_features=n_features, stop_words='english', ngram_range=(2, 3))\n",
    "    vector = tf_vectorizer.fit_transform(doc)\n",
    "    feature_names = np.array(tf_vectorizer.get_feature_names())\n",
    "    return pd.DataFrame(vector.todense(), columns=feature_names), vector, feature_names\n",
    "    "
   ]
  },
  {
   "cell_type": "code",
   "execution_count": 306,
   "metadata": {},
   "outputs": [
    {
     "name": "stdout",
     "output_type": "stream",
     "text": [
      "Series([], Name: Toxic, dtype: object)\n"
     ]
    }
   ],
   "source": [
    "src_folder = \"../Annotations/CSVs/\"\n",
    "df = pd.read_csv(src_folder + \"chatlogs_ALL.csv\", index_col = 0)\n",
    "df[\"words\"] = df[\"words\"].replace(np.nan, '', regex=True).apply(str)\n",
    "x = pd.DataFrame(columns = [\"message\"], )\n",
    "for label in labels:\n",
    "    \n",
    "    \n",
    "print(x[\"Toxic\"])\n",
    "#tf_df, vect, features = get_tf(x[\"Toxic\"])"
   ]
  },
  {
   "cell_type": "code",
   "execution_count": 247,
   "metadata": {},
   "outputs": [],
   "source": [
    "from sklearn.decomposition import NMF, LatentDirichletAllocation, TruncatedSVD\n",
    "def get_keywords(doc):\n",
    "    lda = LatentDirichletAllocation(n_components=10,random_state=15)\n",
    "    vector = lda.fit(doc)\n",
    "    return vector"
   ]
  },
  {
   "cell_type": "code",
   "execution_count": 248,
   "metadata": {},
   "outputs": [],
   "source": [
    "lda = get_keywords(vect)"
   ]
  },
  {
   "cell_type": "code",
   "execution_count": 249,
   "metadata": {},
   "outputs": [
    {
     "name": "stdout",
     "output_type": "stream",
     "text": [
      "Top 15 words for Topic #0\n",
      "['usa usa usa', '2020 maga', 'ðÿ ½ðÿ ðÿ', 'ðÿ ½ðÿ', '½ðÿ ðÿ', 'ðÿ ¼ðÿ', 'discord follow', 'server make sure', 'join pewdiepie', 'youtube account discord', 'discord follow step', 'server make', 'want join pewdiepie', 'sure connect', 'step discord', 'discord server make', 'sure connect youtube', 'account discord follow', 'follow step discord', 'make sure connect', 'follow step', 'account discord', 'vp pence', 'https www', 'discord server', 'president trump', 'connect youtube account', 'make sure', 'user settings', 'connect youtube', 'youtube account', 'âœ âœ', 'vote trump 2020', 'member chat', 'baby baby', 'usa usa', 'yt yt', 'want join', 'life matter', 'trump 2020']\n",
      "\n",
      "\n",
      "Top 15 words for Topic #1\n",
      "['creepy joe', 'love john', 'pewdietambo _pewdietambo', 'nogla stream', 'live matter', 'pence great', 'biden crime', 'pewdiewat _pewdiewat', 'chillwcat chillwcat', 'vote president trump', 'biden prison', 'free speech', 'hi jack', 'like stream', 'vote president', 'bless trump', 'god bless trump', 'trump god', 'feel like', 'mike pence', '_pewdiewat _pewdiewat', 'vice president pence', 'bless president trump', 'black op', 'john james', 'american people', 'president pence', '_rsbnredcalif _rsbnredcalif _rsbnredcalif', 'god bless president', 'bless president', 'god bless america', 'trump train', 'bless america', '_rsbnredcalif _rsbnredcalif', 'vice president', 'donald trump', 'jiggy jiggy', 'vote red', 'president trump', 'god bless']\n",
      "\n",
      "\n",
      "Top 15 words for Topic #2\n",
      "['_pewdierip _pewdierip', 'pewdierip _pewdierip', 'like 2x yayayayayaya', '2x yayayayayaya', 'like 2x', 'live stream', 'ƒðÿ ºðÿ', 'let goooo', 'ºðÿ ƒðÿ', 'america trump', 'stayhome stayhome', '_raesalute _raesalute', '_rsbnblueline _rsbnblueline', 'hey hey', '2020 2024', '_pewdiefloorgang2 _pewdiefloorgang2', 'vote tomorrow', 'president donald trump', 'watch stream', 'president donald', 'great president', 'face cam', '_pumpkin _buffer2', 'buffer1 _pumpkin', 'buffer1 _pumpkin _buffer2', 'year trump', 'hi nogla', 'trump year', 'trump vote', 'donald trump', 'win win win', 'ya ya ya', 'ya ya', 'trump 2020', 'win win', 'john james', 'trump pence 2020', 'love trump', 'pence 2020', 'trump pence']\n",
      "\n",
      "\n",
      "Top 15 words for Topic #3\n",
      "['ðÿœ ðÿœ', 'œðÿ ðÿ ðÿ', 'ðÿ žðÿ', 'ðÿ ðÿš', '_rsbnrnc _rsbnrnc _rsbnrnc', 'ðÿ trump 2020', 'ðÿ ðÿ œðÿ', 'ðÿš ðÿ', 'big brain', 'šðÿ ðÿ ðÿ', 'ÿðÿ ÿðÿ', '_rsbnrnc _rsbnrnc', 'trump ðÿ ðÿ', 'ðÿ ðÿ trump', 'hi brian', 'œðÿ œðÿ', 'ðÿ ðÿ šðÿ', 'šðÿ šðÿ', 'ðÿ œðÿ ðÿ', 'œðÿ ðÿ', 'ðÿ šðÿ ðÿ', '½ðÿ ½ðÿ ½ðÿ', 'šðÿ ðÿ', 'ðÿ œðÿ', 'trump ðÿ', '½ðÿ ½ðÿ', '_rsbnpence _rsbnpence _rsbnpence', 'ðÿ šðÿ', '_rsbnpence _rsbnpence', 'lord chairroriser hail', 'chairroriser hail lord', 'chairroriser hail', 'ðÿ trump', 'lord chairroriser', 'hail lord chairroriser', 'hail lord', 'joe biden', 'pence 2024', 'ðÿ ðÿ ðÿ', 'ðÿ ðÿ']\n",
      "\n",
      "\n",
      "Top 15 words for Topic #4\n",
      "['charity members money', 'donations charity members', 'ðÿ žðÿ', 'ðÿ žðÿ žðÿ', '_pewdiereee _pewdiereee', 'let doc', 'raewoo _raewoo', '_raehype _raehype _raehype', 'red vote', 'buffer1 _love _buffer2', 'biden harris', '_love _buffer2', 'good luck', 'buffer1 _love', 'lady gaga', 'buffer1 _alien _buffer2', 'buffer1 _alien', 'use code moo', 'look like', '_alien _buffer2', 'use code', 'thank rsbn', '_raehype _raehype', 'jack loud', 'code moo', '_raewoo _raewoo', 'dothefive dothefive dothefive', 'pewdiehead2 _pewdietorso2 _pewdieleg2', 'mike pence', '_pewdietorso2 _pewdieleg2', 'vote red', 'pewdiehead2 _pewdietorso2', 'dothefive dothefive', 'vote vote vote', 'biden 2020', 'žðÿ žðÿ žðÿ', 'ˆâ ˆâ ˆâ', 'ˆâ ˆâ', 'vote vote', 'žðÿ žðÿ']\n",
      "\n",
      "\n",
      "Top 15 words for Topic #5\n",
      "['trump save', 'john james senate', 'hear jack', 'john james', 'latinos trump', 'love doc', 'maga 2020', 'red remove', 'yaya _yaya', '_buffer2 _buffer1 _pumpkin', '_pumpkin _buffer2 _buffer1', '_yaya _yaya _yaya', '³ðÿ ³ðÿ', 'good night', 'james senate', 'uh oh', 'china joe', 'let gooooo', '_buffer1 _pumpkin _buffer2', '_buffer1 _pumpkin', 'thank donation', 'jack quiet', '_dance _dance', 'trump rally', '_buffer2 _buffer1', 'mr president', '_pumpkin _buffer2', 'vote person', 'alex miss', 'trump landslide', 'vote red', '12 year', 'lives matter', '_terroriserlove _terroriserlove _terroriserlove', '_yaya _yaya', '_terroriserlove _terroriserlove', 'âš âš âš', 'âš âš', 'trump trump trump', 'trump trump']\n",
      "\n",
      "\n",
      "Top 15 words for Topic #6\n",
      "['_terroriserrip _terroriserrip', '_terroriserbluecoin _terroriserbluecoin', '_terroriserggg _terroriserggg', 'hey nogla', 'best come', 'jack low', 'biden trump', '_rsbn2nda _rsbn2nda', 'like hit like', 'john james', 'california trump', 'like like', 'ðÿ ªðÿ', 'hit like hit', '_rsbnusa2 _rsbnusa2 _rsbnusa2', 'like hit', 'washhands washhands', '_pewdieleg _pewdieleg _pewdieleg', 'sound like', 'pewdieleg _pewdieleg _pewdieleg', 'vote john james', 'pewdieleg _pewdieleg', 'vote john', 'biden win', 'trump president', 'love president trump', '_rsbnusa2 _rsbnusa2', 'hit like', 'join discord', 'love president', '_pewdieleg _pewdieleg', 'elbowcough elbowcough elbowcough', 'president trump', 'ªðÿ ªðÿ ªðÿ', 'ðÿš ðÿš ðÿš', 'elbowcough elbowcough', 'ªðÿ ªðÿ', 'ðÿš ðÿš', 'thanksdoc thanksdoc thanksdoc', 'thanksdoc thanksdoc']\n",
      "\n",
      "\n",
      "Top 15 words for Topic #7\n",
      "['biden rise taxi', 'play jacksepticeye', 'like button', 'wear mask', 'biden rise', 'enjoy stream', 'cap warn', 'spamme cap warn', 'biden 47 year', 'biden 47', '_terroriserredcoin _terroriserredcoin', 'stop spamme cap', 'spamme cap', 'vote 45', 'need trump', 'pewds play', 'trump country', 'pray trump', 'john james', 'trump 2q2q', 'biden suck', 'trump love', 'vote trump pence', 'love pence', '_handshake _handshake', 'stop spamme', '_warcry _warcry _warcry', 'good job', '_rsbndjtmaga _rsbndjtmaga _rsbndjtmaga', 'michigan vote', '_rsbndjtmaga _rsbndjtmaga', '47 year', 'username vrvvalrykv', '_rsbngovote _rsbngovote _rsbngovote', '_warcry _warcry', '_rsbngovote _rsbngovote', 'vote biden', 'floor gang', 'trump win', 'vote trump']\n",
      "\n",
      "\n",
      "Top 15 words for Topic #8\n",
      "['streamlabs 100', '100 donation', 'portion use link', 'use link', 'streamlabs com terroriser', 'streamlabs 100 donation', 'instead https streamlabs', 'use streamlabs 100', 'use streamlabs', 'superchat portion', 'link instead https', 'use link instead', 'link instead', '100 donation terroriser', 'lord jesus christ', 'ðÿ ¼ï', '_noglafail _noglafail _noglafail', 'pewdieouh _pewdieouh _pewdieouh', 'streamlabs com', 'https streamlabs com', 'https streamlabs', '_noglafail _noglafail', 'lord jesus', '_rsbnlogo _rsbnlogo _rsbnlogo', 'raesweat _raesweat', '_rsbnlogo _rsbnlogo', 'black white', 'let gooo', '_raesweat _raesweat', 'pewdieouh _pewdieouh', '_pewdieouh _pewdieouh', 'bye bye', 'jesus christ', 'red tsunami', 'šðÿ šðÿ šðÿ', 'šðÿ šðÿ', 'terroriserleo _terroriserleo _terroriserleo', 'terroriserleo _terroriserleo', '_terroriserleo _terroriserleo _terroriserleo', '_terroriserleo _terroriserleo']\n",
      "\n",
      "\n",
      "Top 15 words for Topic #9\n",
      "['canada trump', 'james charles', 'pence year', '_pewdieface _pewdieface', 'law order', 'air force', 'play game', '_pumpkin _pumpkin', 'uk trump', 'rip alex', '_pewdieleg2 _pewdieleg2', 'red wave come', 'black ops', 'wave come', 'ðÿž ðÿž', 'kind sus', 'wave red wave', 'red wave red', 'wave red', 'new member', 'make america great', 'ðÿ ƒðÿ', '_raestab _raestab _raestab', 'fake news', 'sleepy joe', 'make america', 'ƒðÿ ƒðÿ ƒðÿ', 'µðÿ µðÿ µðÿ', '_raestab _raestab', 'america great', 'µðÿ µðÿ', 'michigan trump', 'drain swamp', 'ƒðÿ ƒðÿ', '_rsbnusa _rsbnusa _rsbnusa', 'martial check', 'ðÿÿ ðÿÿ ðÿÿ', '_rsbnusa _rsbnusa', 'ðÿÿ ðÿÿ', 'red wave']\n",
      "\n",
      "\n"
     ]
    }
   ],
   "source": [
    "for index, topic in enumerate(lda.components_):\n",
    "    print(f'Top 15 words for Topic #{index}')\n",
    "    print([features[i] for i in topic.argsort()[-40:]])\n",
    "    print('\\n')"
   ]
  },
  {
   "cell_type": "code",
   "execution_count": 231,
   "metadata": {},
   "outputs": [
    {
     "name": "stdout",
     "output_type": "stream",
     "text": [
      "Top 15 words for Topic #0\n",
      "['trump pence', 'trump america', 'civil war', 'coronavirus hoax', 'trump 2020', 'biden kamala', 'biden corrupt', 'biden vote trump', 'brain dead', 'biden vote', 'blm joke', 'fake news', 'ðÿ ðÿ ðÿ', 'ðÿ ðÿ', 'vote trump']\n",
      "\n",
      "\n",
      "Top 15 words for Topic #1\n",
      "['matter blue', 'matter blue lives', 'great trump', '2020 make amirica', 'creepy joe', 'blue lives matter', 'blue lives', 'trump 2020', 'lady gaga', 'žðÿ žðÿ žðÿ', 'lives matter', 'žðÿ žðÿ', 'trump trump trump', 'joe biden', 'trump trump']\n",
      "\n",
      "\n",
      "Top 15 words for Topic #2\n",
      "['vote trump', 'trump vote', 'prison 2020', 'gobble gobble', 'crime family', 'biden crime family', 'charity members money', 'charity members', 'donations charity', 'donations charity members', 'members money', 'biden crime', 'dothefive dothefive', 'president trump', 'biden prison']\n",
      "\n",
      "\n",
      "Top 15 words for Topic #3\n",
      "['life matter', 'biden liar', 'wear mask', '47 year', 'fake news', 'vote biden', 'hate trump', 'vote joe', 'joe vote', 'black guy', 'vote trump', 'joe biden', 'vote red', 'trump 2020', 'china joe']\n",
      "\n",
      "\n",
      "Top 15 words for Topic #4\n",
      "['drain swamp', 'biden lock', 'dementia joe', 'dems ruin', 'trump 2020', 'kamala harris', 'china biden', 'moron biden 2020', 'biden china', 'china virus', 'moron biden', 'biden jail', 'biden 2020', 'biden suck', 'vote biden']\n",
      "\n",
      "\n",
      "Top 15 words for Topic #5\n",
      "['rid democrats', 'medium vote straight', 'rid corrupt swamp', 'democrats rid', 'mainstream social medium', 'mainstream social', 'democrats rid corrupt', 'joe biden', 'red way', 'social medium', 'trump win', 'biden harris', 'sleepy joe', 'biden supporter', 'biden win']\n",
      "\n",
      "\n"
     ]
    }
   ],
   "source": [
    "for index, topic in enumerate(lda.components_):\n",
    "    print(f'Top 15 words for Topic #{index}')\n",
    "    print([features[i] for i in topic.argsort()[-15:]])\n",
    "    print('\\n')"
   ]
  },
  {
   "cell_type": "code",
   "execution_count": null,
   "metadata": {},
   "outputs": [],
   "source": []
  }
 ],
 "metadata": {
  "kernelspec": {
   "display_name": "Python 3",
   "language": "python",
   "name": "python3"
  },
  "language_info": {
   "codemirror_mode": {
    "name": "ipython",
    "version": 3
   },
   "file_extension": ".py",
   "mimetype": "text/x-python",
   "name": "python",
   "nbconvert_exporter": "python",
   "pygments_lexer": "ipython3",
   "version": "3.8.5"
  }
 },
 "nbformat": 4,
 "nbformat_minor": 4
}
