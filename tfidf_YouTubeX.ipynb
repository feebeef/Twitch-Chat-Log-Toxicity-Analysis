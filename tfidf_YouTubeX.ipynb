{
 "cells": [
  {
   "cell_type": "markdown",
   "metadata": {},
   "source": [
    "# TF-IDF Scripts"
   ]
  },
  {
   "cell_type": "markdown",
   "metadata": {},
   "source": [
    "### Import Libraries"
   ]
  },
  {
   "cell_type": "code",
   "execution_count": 351,
   "metadata": {},
   "outputs": [
    {
     "name": "stderr",
     "output_type": "stream",
     "text": [
      "[nltk_data] Downloading package stopwords to\n",
      "[nltk_data]     C:\\Users\\kylet\\AppData\\Roaming\\nltk_data...\n",
      "[nltk_data]   Package stopwords is already up-to-date!\n",
      "[nltk_data] Downloading package punkt to\n",
      "[nltk_data]     C:\\Users\\kylet\\AppData\\Roaming\\nltk_data...\n",
      "[nltk_data]   Package punkt is already up-to-date!\n",
      "[nltk_data] Downloading package averaged_perceptron_tagger to\n",
      "[nltk_data]     C:\\Users\\kylet\\AppData\\Roaming\\nltk_data...\n",
      "[nltk_data]   Package averaged_perceptron_tagger is already up-to-\n",
      "[nltk_data]       date!\n"
     ]
    },
    {
     "name": "stdout",
     "output_type": "stream",
     "text": [
      "Requirement already satisfied: detoxify in d:\\anaconda3\\lib\\site-packages (0.2.2)\n",
      "Requirement already satisfied: torch>=1.7.0 in d:\\anaconda3\\lib\\site-packages (from detoxify) (1.8.1)\n",
      "Requirement already satisfied: transformers>=3.2.0 in d:\\anaconda3\\lib\\site-packages (from detoxify) (4.5.1)\n",
      "Requirement already satisfied: sentencepiece>=0.1.94 in d:\\anaconda3\\lib\\site-packages (from detoxify) (0.1.95)\n",
      "Requirement already satisfied: numpy in d:\\anaconda3\\lib\\site-packages (from torch>=1.7.0->detoxify) (1.19.2)\n",
      "Requirement already satisfied: typing-extensions in d:\\anaconda3\\lib\\site-packages (from torch>=1.7.0->detoxify) (3.7.4.3)\n",
      "Requirement already satisfied: regex!=2019.12.17 in d:\\anaconda3\\lib\\site-packages (from transformers>=3.2.0->detoxify) (2020.10.15)\n",
      "Requirement already satisfied: tqdm>=4.27 in d:\\anaconda3\\lib\\site-packages (from transformers>=3.2.0->detoxify) (4.50.2)\n",
      "Requirement already satisfied: filelock in d:\\anaconda3\\lib\\site-packages (from transformers>=3.2.0->detoxify) (3.0.12)\n",
      "Requirement already satisfied: tokenizers<0.11,>=0.10.1 in d:\\anaconda3\\lib\\site-packages (from transformers>=3.2.0->detoxify) (0.10.2)\n",
      "Requirement already satisfied: sacremoses in d:\\anaconda3\\lib\\site-packages (from transformers>=3.2.0->detoxify) (0.0.45)\n",
      "Requirement already satisfied: packaging in d:\\anaconda3\\lib\\site-packages (from transformers>=3.2.0->detoxify) (20.4)\n",
      "Requirement already satisfied: requests in d:\\anaconda3\\lib\\site-packages (from transformers>=3.2.0->detoxify) (2.24.0)\n",
      "Requirement already satisfied: joblib in d:\\anaconda3\\lib\\site-packages (from sacremoses->transformers>=3.2.0->detoxify) (0.17.0)\n",
      "Requirement already satisfied: click in d:\\anaconda3\\lib\\site-packages (from sacremoses->transformers>=3.2.0->detoxify) (7.1.2)\n",
      "Requirement already satisfied: six in d:\\anaconda3\\lib\\site-packages (from sacremoses->transformers>=3.2.0->detoxify) (1.15.0)\n",
      "Requirement already satisfied: pyparsing>=2.0.2 in d:\\anaconda3\\lib\\site-packages (from packaging->transformers>=3.2.0->detoxify) (2.4.7)\n",
      "Requirement already satisfied: urllib3!=1.25.0,!=1.25.1,<1.26,>=1.21.1 in d:\\anaconda3\\lib\\site-packages (from requests->transformers>=3.2.0->detoxify) (1.25.11)\n",
      "Requirement already satisfied: certifi>=2017.4.17 in d:\\anaconda3\\lib\\site-packages (from requests->transformers>=3.2.0->detoxify) (2020.6.20)\n",
      "Requirement already satisfied: chardet<4,>=3.0.2 in d:\\anaconda3\\lib\\site-packages (from requests->transformers>=3.2.0->detoxify) (3.0.4)\n",
      "Requirement already satisfied: idna<3,>=2.5 in d:\\anaconda3\\lib\\site-packages (from requests->transformers>=3.2.0->detoxify) (2.10)\n"
     ]
    }
   ],
   "source": [
    "import pandas as pd\n",
    "import numpy as np\n",
    "import nltk\n",
    "from nltk.tokenize.toktok import ToktokTokenizer\n",
    "from nltk import word_tokenize, pos_tag_sents, pos_tag\n",
    "import re\n",
    "from bs4 import BeautifulSoup\n",
    "import unicodedata\n",
    "from nltk.stem import WordNetLemmatizer \n",
    "from nltk.corpus import stopwords\n",
    "from nltk.tokenize import word_tokenize\n",
    "from nltk.stem import PorterStemmer\n",
    "from string import punctuation\n",
    "import os, glob\n",
    "from sklearn.feature_extraction.text import TfidfVectorizer\n",
    "import matplotlib.pyplot as plt\n",
    "\n",
    "nltk.download('stopwords')\n",
    "nltk.download('punkt')\n",
    "nltk.download('averaged_perceptron_tagger')\n",
    "\n",
    "import sys\n",
    "!{sys.executable} -m pip install detoxify\n",
    "\n",
    "from detoxify import Detoxify\n",
    "from collections import Counter"
   ]
  },
  {
   "cell_type": "markdown",
   "metadata": {},
   "source": [
    "### Custom Functions and File Imports"
   ]
  },
  {
   "cell_type": "code",
   "execution_count": 352,
   "metadata": {},
   "outputs": [],
   "source": [
    "stemming = PorterStemmer()\n",
    "stops = set(stopwords.words(\"english\")) \n",
    "counters = []\n",
    "\n",
    "def removeStopWords(row):\n",
    "    stemmed = row['stemmed']\n",
    "    cleaned = [w for w in stemmed if not w in stops]\n",
    "    cleaned = listToString(cleaned)\n",
    "    return cleaned\n",
    "\n",
    "def tokenize(row):\n",
    "    message = row['message'].lower()\n",
    "    tokens = word_tokenize(message)\n",
    "    tok_words = [w for w in tokens if w.isalpha()]\n",
    "    return tok_words\n",
    "    \n",
    "def stem(row):\n",
    "    tokens = row['tokenized']\n",
    "    stemmed = [stemming.stem(word) for word in tokens]\n",
    "    return stemmed\n",
    "\n",
    "def listToString(lst):\n",
    "    text = ' '.join(lst)\n",
    "    return text\n",
    "\n",
    "def posTag(row):\n",
    "    message = row['message']\n",
    "    tokens = word_tokenize(message)\n",
    "    tagged = nltk.pos_tag(tokens)\n",
    "    return tagged\n",
    "\n",
    "def posCounter(row):\n",
    "    message = row['message']\n",
    "    tokens = word_tokenize(message)\n",
    "    tagged = nltk.pos_tag(tokens)\n",
    "    counts = Counter( tag for word,  tag in tagged)\n",
    "    counters.append(counts)"
   ]
  },
  {
   "cell_type": "code",
   "execution_count": 353,
   "metadata": {},
   "outputs": [
    {
     "name": "stdout",
     "output_type": "stream",
     "text": [
      "annotatorA.csv\n",
      "annotatorB.csv\n",
      "annotatorC.csv\n",
      "['annotatorA.csv', 'annotatorB.csv', 'annotatorC.csv']\n"
     ]
    }
   ],
   "source": [
    "os.chdir(r\"D:\\Programs\\Jupyter Notebooks\\Thesis RIP Scripts\\Annotations\\foxnews1\") # CHANGE VALUE PER BATCH\n",
    "files = []\n",
    "for file in glob.glob(\"*.csv\"):\n",
    "    print(file)\n",
    "    files.append(file)\n",
    "    \n",
    "print(files)    "
   ]
  },
  {
   "cell_type": "code",
   "execution_count": 354,
   "metadata": {},
   "outputs": [
    {
     "data": {
      "text/html": [
       "<div>\n",
       "<style scoped>\n",
       "    .dataframe tbody tr th:only-of-type {\n",
       "        vertical-align: middle;\n",
       "    }\n",
       "\n",
       "    .dataframe tbody tr th {\n",
       "        vertical-align: top;\n",
       "    }\n",
       "\n",
       "    .dataframe thead th {\n",
       "        text-align: right;\n",
       "    }\n",
       "</style>\n",
       "<table border=\"1\" class=\"dataframe\">\n",
       "  <thead>\n",
       "    <tr style=\"text-align: right;\">\n",
       "      <th></th>\n",
       "      <th>Unnamed: 0</th>\n",
       "      <th>message</th>\n",
       "      <th>author</th>\n",
       "      <th>time_text</th>\n",
       "      <th>Direct Harassment</th>\n",
       "      <th>Hate Speech</th>\n",
       "      <th>Sexual Harassment</th>\n",
       "      <th>Trolling</th>\n",
       "      <th>Others</th>\n",
       "      <th>Toxic</th>\n",
       "    </tr>\n",
       "  </thead>\n",
       "  <tbody>\n",
       "    <tr>\n",
       "      <th>0</th>\n",
       "      <td>0</td>\n",
       "      <td>?</td>\n",
       "      <td>username@eesesatees</td>\n",
       "      <td>00:15:00</td>\n",
       "      <td>0.0</td>\n",
       "      <td>0.0</td>\n",
       "      <td>0.0</td>\n",
       "      <td>0.0</td>\n",
       "      <td>0.0</td>\n",
       "      <td>0.0</td>\n",
       "    </tr>\n",
       "    <tr>\n",
       "      <th>1</th>\n",
       "      <td>1</td>\n",
       "      <td>fox fail</td>\n",
       "      <td>username@EPTTALHTTE</td>\n",
       "      <td>01:00:00</td>\n",
       "      <td>0.0</td>\n",
       "      <td>0.0</td>\n",
       "      <td>0.0</td>\n",
       "      <td>0.0</td>\n",
       "      <td>0.0</td>\n",
       "      <td>0.0</td>\n",
       "    </tr>\n",
       "    <tr>\n",
       "      <th>2</th>\n",
       "      <td>2</td>\n",
       "      <td>Tell baby clown boy to get out</td>\n",
       "      <td>username@NiC  eeeie</td>\n",
       "      <td>01:26:00</td>\n",
       "      <td>0.0</td>\n",
       "      <td>0.0</td>\n",
       "      <td>0.0</td>\n",
       "      <td>0.0</td>\n",
       "      <td>0.0</td>\n",
       "      <td>0.0</td>\n",
       "    </tr>\n",
       "    <tr>\n",
       "      <th>3</th>\n",
       "      <td>3</td>\n",
       "      <td>awe are you poor losers upset you lost the ele...</td>\n",
       "      <td>username@oHeysy yoo</td>\n",
       "      <td>01:28:00</td>\n",
       "      <td>0.0</td>\n",
       "      <td>0.0</td>\n",
       "      <td>0.0</td>\n",
       "      <td>0.0</td>\n",
       "      <td>0.0</td>\n",
       "      <td>0.0</td>\n",
       "    </tr>\n",
       "    <tr>\n",
       "      <th>4</th>\n",
       "      <td>4</td>\n",
       "      <td>Biden won bigly</td>\n",
       "      <td>username@RRRnanRaRR</td>\n",
       "      <td>01:52:00</td>\n",
       "      <td>0.0</td>\n",
       "      <td>0.0</td>\n",
       "      <td>0.0</td>\n",
       "      <td>0.0</td>\n",
       "      <td>0.0</td>\n",
       "      <td>0.0</td>\n",
       "    </tr>\n",
       "    <tr>\n",
       "      <th>...</th>\n",
       "      <td>...</td>\n",
       "      <td>...</td>\n",
       "      <td>...</td>\n",
       "      <td>...</td>\n",
       "      <td>...</td>\n",
       "      <td>...</td>\n",
       "      <td>...</td>\n",
       "      <td>...</td>\n",
       "      <td>...</td>\n",
       "      <td>...</td>\n",
       "    </tr>\n",
       "    <tr>\n",
       "      <th>60</th>\n",
       "      <td>60</td>\n",
       "      <td>eew</td>\n",
       "      <td>username@MtuuUhMggS</td>\n",
       "      <td>06:47:00</td>\n",
       "      <td>0.0</td>\n",
       "      <td>0.0</td>\n",
       "      <td>0.0</td>\n",
       "      <td>0.0</td>\n",
       "      <td>0.0</td>\n",
       "      <td>0.0</td>\n",
       "    </tr>\n",
       "    <tr>\n",
       "      <th>61</th>\n",
       "      <td>61</td>\n",
       "      <td>Entire election was rigged</td>\n",
       "      <td>username@oGoyyJiaoa</td>\n",
       "      <td>06:47:00</td>\n",
       "      <td>0.0</td>\n",
       "      <td>0.0</td>\n",
       "      <td>0.0</td>\n",
       "      <td>0.0</td>\n",
       "      <td>0.0</td>\n",
       "      <td>0.0</td>\n",
       "    </tr>\n",
       "    <tr>\n",
       "      <th>62</th>\n",
       "      <td>62</td>\n",
       "      <td>CULT45 SQUARELY BEHIND THE 🎱 ON THE U.S. ELECT...</td>\n",
       "      <td>username@uwwaDsggSS</td>\n",
       "      <td>06:57:00</td>\n",
       "      <td>0.0</td>\n",
       "      <td>0.0</td>\n",
       "      <td>0.0</td>\n",
       "      <td>0.0</td>\n",
       "      <td>0.0</td>\n",
       "      <td>0.0</td>\n",
       "    </tr>\n",
       "    <tr>\n",
       "      <th>63</th>\n",
       "      <td>63</td>\n",
       "      <td>Busted!</td>\n",
       "      <td>username@gViKnKViep</td>\n",
       "      <td>06:57:00</td>\n",
       "      <td>0.0</td>\n",
       "      <td>0.0</td>\n",
       "      <td>0.0</td>\n",
       "      <td>0.0</td>\n",
       "      <td>0.0</td>\n",
       "      <td>0.0</td>\n",
       "    </tr>\n",
       "    <tr>\n",
       "      <th>64</th>\n",
       "      <td>64</td>\n",
       "      <td>🤟BYE👋DON👍 2020..ish</td>\n",
       "      <td>username@aavinoainl</td>\n",
       "      <td>06:58:00</td>\n",
       "      <td>0.0</td>\n",
       "      <td>0.0</td>\n",
       "      <td>0.0</td>\n",
       "      <td>0.0</td>\n",
       "      <td>0.0</td>\n",
       "      <td>0.0</td>\n",
       "    </tr>\n",
       "  </tbody>\n",
       "</table>\n",
       "<p>65 rows × 10 columns</p>\n",
       "</div>"
      ],
      "text/plain": [
       "    Unnamed: 0                                            message  \\\n",
       "0            0                                                  ?   \n",
       "1            1                                           fox fail   \n",
       "2            2                     Tell baby clown boy to get out   \n",
       "3            3  awe are you poor losers upset you lost the ele...   \n",
       "4            4                                    Biden won bigly   \n",
       "..         ...                                                ...   \n",
       "60          60                                                eew   \n",
       "61          61                         Entire election was rigged   \n",
       "62          62  CULT45 SQUARELY BEHIND THE 🎱 ON THE U.S. ELECT...   \n",
       "63          63                                            Busted!   \n",
       "64          64                                🤟BYE👋DON👍 2020..ish   \n",
       "\n",
       "                 author time_text  Direct Harassment  Hate Speech  \\\n",
       "0   username@eesesatees  00:15:00                0.0          0.0   \n",
       "1   username@EPTTALHTTE  01:00:00                0.0          0.0   \n",
       "2   username@NiC  eeeie  01:26:00                0.0          0.0   \n",
       "3   username@oHeysy yoo  01:28:00                0.0          0.0   \n",
       "4   username@RRRnanRaRR  01:52:00                0.0          0.0   \n",
       "..                  ...       ...                ...          ...   \n",
       "60  username@MtuuUhMggS  06:47:00                0.0          0.0   \n",
       "61  username@oGoyyJiaoa  06:47:00                0.0          0.0   \n",
       "62  username@uwwaDsggSS  06:57:00                0.0          0.0   \n",
       "63  username@gViKnKViep  06:57:00                0.0          0.0   \n",
       "64  username@aavinoainl  06:58:00                0.0          0.0   \n",
       "\n",
       "    Sexual Harassment  Trolling  Others  Toxic  \n",
       "0                 0.0       0.0     0.0    0.0  \n",
       "1                 0.0       0.0     0.0    0.0  \n",
       "2                 0.0       0.0     0.0    0.0  \n",
       "3                 0.0       0.0     0.0    0.0  \n",
       "4                 0.0       0.0     0.0    0.0  \n",
       "..                ...       ...     ...    ...  \n",
       "60                0.0       0.0     0.0    0.0  \n",
       "61                0.0       0.0     0.0    0.0  \n",
       "62                0.0       0.0     0.0    0.0  \n",
       "63                0.0       0.0     0.0    0.0  \n",
       "64                0.0       0.0     0.0    0.0  \n",
       "\n",
       "[65 rows x 10 columns]"
      ]
     },
     "execution_count": 354,
     "metadata": {},
     "output_type": "execute_result"
    }
   ],
   "source": [
    "coder1 = pd.read_csv(files[0])\n",
    "coder1.fillna(0)\n",
    "coder2 = pd.read_csv(files[1])\n",
    "coder2.fillna(0)\n",
    "#coder3 = pd.read_excel('usanews0full_3.xlsx')\n",
    "coder3 = pd.read_csv(files[2])\n",
    "coder3.fillna(0)"
   ]
  },
  {
   "cell_type": "markdown",
   "metadata": {},
   "source": [
    "### Combine Documents Per Label"
   ]
  },
  {
   "cell_type": "code",
   "execution_count": 355,
   "metadata": {},
   "outputs": [
    {
     "data": {
      "text/html": [
       "<div>\n",
       "<style scoped>\n",
       "    .dataframe tbody tr th:only-of-type {\n",
       "        vertical-align: middle;\n",
       "    }\n",
       "\n",
       "    .dataframe tbody tr th {\n",
       "        vertical-align: top;\n",
       "    }\n",
       "\n",
       "    .dataframe thead th {\n",
       "        text-align: right;\n",
       "    }\n",
       "</style>\n",
       "<table border=\"1\" class=\"dataframe\">\n",
       "  <thead>\n",
       "    <tr style=\"text-align: right;\">\n",
       "      <th></th>\n",
       "      <th>Unnamed: 0</th>\n",
       "      <th>message</th>\n",
       "      <th>Direct Harassment</th>\n",
       "    </tr>\n",
       "  </thead>\n",
       "  <tbody>\n",
       "  </tbody>\n",
       "</table>\n",
       "</div>"
      ],
      "text/plain": [
       "Empty DataFrame\n",
       "Columns: [Unnamed: 0, message, Direct Harassment]\n",
       "Index: []"
      ]
     },
     "execution_count": 355,
     "metadata": {},
     "output_type": "execute_result"
    }
   ],
   "source": [
    "dHarassment = pd.DataFrame()\n",
    "temp0 = coder1.loc[coder1['Direct Harassment'] == 1.0]\n",
    "temp1 = coder2.loc[coder2['Direct Harassment'] == 1.0]\n",
    "temp2 = coder3.loc[coder3['Direct Harassment'] == 1.0]\n",
    "\n",
    "dHarassment = pd.concat([temp0, temp1, temp2])\n",
    "dHarassment.drop(dHarassment.columns.difference(['Unnamed: 0', 'message','Direct Harassment']), 1, inplace=True)\n",
    "\n",
    "dHarassment.drop_duplicates(subset =\"message\", keep = False, inplace = True)\n",
    "dHarassment\n",
    "#duplicateRowsDF = dHarassment[dHarassment.duplicated()]\n",
    "#duplicateRowsDF"
   ]
  },
  {
   "cell_type": "code",
   "execution_count": 356,
   "metadata": {
    "scrolled": true
   },
   "outputs": [
    {
     "data": {
      "text/html": [
       "<div>\n",
       "<style scoped>\n",
       "    .dataframe tbody tr th:only-of-type {\n",
       "        vertical-align: middle;\n",
       "    }\n",
       "\n",
       "    .dataframe tbody tr th {\n",
       "        vertical-align: top;\n",
       "    }\n",
       "\n",
       "    .dataframe thead th {\n",
       "        text-align: right;\n",
       "    }\n",
       "</style>\n",
       "<table border=\"1\" class=\"dataframe\">\n",
       "  <thead>\n",
       "    <tr style=\"text-align: right;\">\n",
       "      <th></th>\n",
       "      <th>Unnamed: 0</th>\n",
       "      <th>message</th>\n",
       "      <th>Hate Speech</th>\n",
       "    </tr>\n",
       "  </thead>\n",
       "  <tbody>\n",
       "    <tr>\n",
       "      <th>20</th>\n",
       "      <td>20</td>\n",
       "      <td>of course Trump lost. He is a lunatic. Most Am...</td>\n",
       "      <td>1.0</td>\n",
       "    </tr>\n",
       "    <tr>\n",
       "      <th>21</th>\n",
       "      <td>21</td>\n",
       "      <td>Biden and his supporters will always have to l...</td>\n",
       "      <td>1.0</td>\n",
       "    </tr>\n",
       "    <tr>\n",
       "      <th>52</th>\n",
       "      <td>52</td>\n",
       "      <td>Biden cheated</td>\n",
       "      <td>1.0</td>\n",
       "    </tr>\n",
       "    <tr>\n",
       "      <th>55</th>\n",
       "      <td>55</td>\n",
       "      <td>youtube is doing this on purpose...making it h...</td>\n",
       "      <td>1.0</td>\n",
       "    </tr>\n",
       "  </tbody>\n",
       "</table>\n",
       "</div>"
      ],
      "text/plain": [
       "    Unnamed: 0                                            message  Hate Speech\n",
       "20          20  of course Trump lost. He is a lunatic. Most Am...          1.0\n",
       "21          21  Biden and his supporters will always have to l...          1.0\n",
       "52          52                                      Biden cheated          1.0\n",
       "55          55  youtube is doing this on purpose...making it h...          1.0"
      ]
     },
     "execution_count": 356,
     "metadata": {},
     "output_type": "execute_result"
    }
   ],
   "source": [
    "hSpeech = pd.DataFrame()\n",
    "temp0 = coder1.loc[coder1['Hate Speech'] == 1.0]\n",
    "temp1 = coder2.loc[coder2['Hate Speech'] == 1.0]\n",
    "temp2 = coder3.loc[coder3['Hate Speech'] == 1.0]\n",
    "\n",
    "hSpeech = pd.concat([temp0, temp1, temp2])\n",
    "hSpeech.drop(hSpeech.columns.difference(['Unnamed: 0', 'message','Hate Speech']), 1, inplace=True)\n",
    "\n",
    "hSpeech.drop_duplicates(subset =\"message\", keep = False, inplace = True)\n",
    "hSpeech"
   ]
  },
  {
   "cell_type": "code",
   "execution_count": 357,
   "metadata": {},
   "outputs": [
    {
     "data": {
      "text/html": [
       "<div>\n",
       "<style scoped>\n",
       "    .dataframe tbody tr th:only-of-type {\n",
       "        vertical-align: middle;\n",
       "    }\n",
       "\n",
       "    .dataframe tbody tr th {\n",
       "        vertical-align: top;\n",
       "    }\n",
       "\n",
       "    .dataframe thead th {\n",
       "        text-align: right;\n",
       "    }\n",
       "</style>\n",
       "<table border=\"1\" class=\"dataframe\">\n",
       "  <thead>\n",
       "    <tr style=\"text-align: right;\">\n",
       "      <th></th>\n",
       "      <th>Unnamed: 0</th>\n",
       "      <th>message</th>\n",
       "      <th>Sexual Harassment</th>\n",
       "    </tr>\n",
       "  </thead>\n",
       "  <tbody>\n",
       "  </tbody>\n",
       "</table>\n",
       "</div>"
      ],
      "text/plain": [
       "Empty DataFrame\n",
       "Columns: [Unnamed: 0, message, Sexual Harassment]\n",
       "Index: []"
      ]
     },
     "execution_count": 357,
     "metadata": {},
     "output_type": "execute_result"
    }
   ],
   "source": [
    "sHarassment = pd.DataFrame()\n",
    "temp0 = coder1.loc[coder1['Sexual Harassment'] == 1.0]\n",
    "temp1 = coder2.loc[coder2['Sexual Harassment'] == 1.0]\n",
    "temp2 = coder3.loc[coder3['Sexual Harassment'] == 1.0]\n",
    "\n",
    "sHarassment = pd.concat([temp0, temp1, temp2])\n",
    "sHarassment.drop(sHarassment.columns.difference(['Unnamed: 0', 'message','Sexual Harassment']), 1, inplace=True)\n",
    "\n",
    "sHarassment.drop_duplicates(subset =\"message\", keep = False, inplace = True)\n",
    "sHarassment"
   ]
  },
  {
   "cell_type": "code",
   "execution_count": 358,
   "metadata": {},
   "outputs": [
    {
     "data": {
      "text/html": [
       "<div>\n",
       "<style scoped>\n",
       "    .dataframe tbody tr th:only-of-type {\n",
       "        vertical-align: middle;\n",
       "    }\n",
       "\n",
       "    .dataframe tbody tr th {\n",
       "        vertical-align: top;\n",
       "    }\n",
       "\n",
       "    .dataframe thead th {\n",
       "        text-align: right;\n",
       "    }\n",
       "</style>\n",
       "<table border=\"1\" class=\"dataframe\">\n",
       "  <thead>\n",
       "    <tr style=\"text-align: right;\">\n",
       "      <th></th>\n",
       "      <th>Unnamed: 0</th>\n",
       "      <th>message</th>\n",
       "      <th>Trolling</th>\n",
       "    </tr>\n",
       "  </thead>\n",
       "  <tbody>\n",
       "    <tr>\n",
       "      <th>21</th>\n",
       "      <td>21</td>\n",
       "      <td>Biden and his supporters will always have to l...</td>\n",
       "      <td>1.0</td>\n",
       "    </tr>\n",
       "    <tr>\n",
       "      <th>25</th>\n",
       "      <td>25</td>\n",
       "      <td>Biden 2020-2028 Kamala 2028-2036</td>\n",
       "      <td>1.0</td>\n",
       "    </tr>\n",
       "    <tr>\n",
       "      <th>34</th>\n",
       "      <td>34</td>\n",
       "      <td>Trump will be president for 12 more years</td>\n",
       "      <td>1.0</td>\n",
       "    </tr>\n",
       "    <tr>\n",
       "      <th>36</th>\n",
       "      <td>36</td>\n",
       "      <td>Kamala was picked based on gender and race...n...</td>\n",
       "      <td>1.0</td>\n",
       "    </tr>\n",
       "  </tbody>\n",
       "</table>\n",
       "</div>"
      ],
      "text/plain": [
       "    Unnamed: 0                                            message  Trolling\n",
       "21          21  Biden and his supporters will always have to l...       1.0\n",
       "25          25                   Biden 2020-2028 Kamala 2028-2036       1.0\n",
       "34          34          Trump will be president for 12 more years       1.0\n",
       "36          36  Kamala was picked based on gender and race...n...       1.0"
      ]
     },
     "execution_count": 358,
     "metadata": {},
     "output_type": "execute_result"
    }
   ],
   "source": [
    "trolling = pd.DataFrame()\n",
    "temp0 = coder1.loc[coder1['Trolling'] == 1.0]\n",
    "temp1 = coder2.loc[coder2['Trolling'] == 1.0]\n",
    "temp2 = coder3.loc[coder3['Trolling'] == 1.0]\n",
    "\n",
    "trolling = pd.concat([temp0, temp1, temp2])\n",
    "trolling.drop(trolling.columns.difference(['Unnamed: 0', 'message','Trolling']), 1, inplace=True)\n",
    "\n",
    "trolling.drop_duplicates(subset =\"message\", keep = False, inplace = True)\n",
    "trolling"
   ]
  },
  {
   "cell_type": "code",
   "execution_count": 359,
   "metadata": {},
   "outputs": [
    {
     "data": {
      "text/html": [
       "<div>\n",
       "<style scoped>\n",
       "    .dataframe tbody tr th:only-of-type {\n",
       "        vertical-align: middle;\n",
       "    }\n",
       "\n",
       "    .dataframe tbody tr th {\n",
       "        vertical-align: top;\n",
       "    }\n",
       "\n",
       "    .dataframe thead th {\n",
       "        text-align: right;\n",
       "    }\n",
       "</style>\n",
       "<table border=\"1\" class=\"dataframe\">\n",
       "  <thead>\n",
       "    <tr style=\"text-align: right;\">\n",
       "      <th></th>\n",
       "      <th>Unnamed: 0</th>\n",
       "      <th>message</th>\n",
       "      <th>Others</th>\n",
       "    </tr>\n",
       "  </thead>\n",
       "  <tbody>\n",
       "  </tbody>\n",
       "</table>\n",
       "</div>"
      ],
      "text/plain": [
       "Empty DataFrame\n",
       "Columns: [Unnamed: 0, message, Others]\n",
       "Index: []"
      ]
     },
     "execution_count": 359,
     "metadata": {},
     "output_type": "execute_result"
    }
   ],
   "source": [
    "others = pd.DataFrame()\n",
    "temp0 = coder1.loc[coder1['Others'] == 1.0]\n",
    "temp1 = coder2.loc[coder2['Others'] == 1.0]\n",
    "temp2 = coder3.loc[coder3['Others'] == 1.0]\n",
    "\n",
    "others = pd.concat([temp0, temp1, temp2])\n",
    "others.drop(others.columns.difference(['Unnamed: 0', 'message','Others']), 1, inplace=True)\n",
    "\n",
    "others.drop_duplicates(subset =\"message\", keep = False, inplace = True)\n",
    "others"
   ]
  },
  {
   "cell_type": "code",
   "execution_count": 360,
   "metadata": {},
   "outputs": [
    {
     "data": {
      "text/html": [
       "<div>\n",
       "<style scoped>\n",
       "    .dataframe tbody tr th:only-of-type {\n",
       "        vertical-align: middle;\n",
       "    }\n",
       "\n",
       "    .dataframe tbody tr th {\n",
       "        vertical-align: top;\n",
       "    }\n",
       "\n",
       "    .dataframe thead th {\n",
       "        text-align: right;\n",
       "    }\n",
       "</style>\n",
       "<table border=\"1\" class=\"dataframe\">\n",
       "  <thead>\n",
       "    <tr style=\"text-align: right;\">\n",
       "      <th></th>\n",
       "      <th>Unnamed: 0</th>\n",
       "      <th>message</th>\n",
       "      <th>Toxic</th>\n",
       "    </tr>\n",
       "  </thead>\n",
       "  <tbody>\n",
       "  </tbody>\n",
       "</table>\n",
       "</div>"
      ],
      "text/plain": [
       "Empty DataFrame\n",
       "Columns: [Unnamed: 0, message, Toxic]\n",
       "Index: []"
      ]
     },
     "execution_count": 360,
     "metadata": {},
     "output_type": "execute_result"
    }
   ],
   "source": [
    "toxic = pd.DataFrame()\n",
    "temp0 = coder1.loc[coder1['Toxic'] == 1.0]\n",
    "temp1 = coder2.loc[coder2['Toxic'] == 1.0]\n",
    "temp2 = coder3.loc[coder3['Toxic'] == 1.0]\n",
    "\n",
    "toxic = pd.concat([temp0, temp1, temp2])\n",
    "toxic.drop(toxic.columns.difference(['Unnamed: 0', 'message','Toxic']), 1, inplace=True)\n",
    "\n",
    "toxic.drop_duplicates(subset =\"message\", keep = False, inplace = True)\n",
    "toxic"
   ]
  },
  {
   "cell_type": "markdown",
   "metadata": {},
   "source": [
    "## NLP Text Processing Stuff\n"
   ]
  },
  {
   "cell_type": "code",
   "execution_count": 361,
   "metadata": {},
   "outputs": [
    {
     "data": {
      "text/html": [
       "<div>\n",
       "<style scoped>\n",
       "    .dataframe tbody tr th:only-of-type {\n",
       "        vertical-align: middle;\n",
       "    }\n",
       "\n",
       "    .dataframe tbody tr th {\n",
       "        vertical-align: top;\n",
       "    }\n",
       "\n",
       "    .dataframe thead th {\n",
       "        text-align: right;\n",
       "    }\n",
       "</style>\n",
       "<table border=\"1\" class=\"dataframe\">\n",
       "  <thead>\n",
       "    <tr style=\"text-align: right;\">\n",
       "      <th></th>\n",
       "      <th>Unnamed: 0</th>\n",
       "      <th>message</th>\n",
       "      <th>Direct Harassment</th>\n",
       "    </tr>\n",
       "  </thead>\n",
       "  <tbody>\n",
       "  </tbody>\n",
       "</table>\n",
       "</div>"
      ],
      "text/plain": [
       "Empty DataFrame\n",
       "Columns: [Unnamed: 0, message, Direct Harassment]\n",
       "Index: []"
      ]
     },
     "execution_count": 361,
     "metadata": {},
     "output_type": "execute_result"
    }
   ],
   "source": [
    "if not dHarassment.empty:\n",
    "    dHarassment['tokenized'] = dHarassment.apply(tokenize, axis=1)\n",
    "    dHarassment['stemmed'] = dHarassment.apply(stem, axis=1)\n",
    "    dHarassment['stop_words'] = dHarassment.apply(removeStopWords, axis=1)\n",
    "dHarassment"
   ]
  },
  {
   "cell_type": "code",
   "execution_count": 362,
   "metadata": {},
   "outputs": [
    {
     "data": {
      "text/html": [
       "<div>\n",
       "<style scoped>\n",
       "    .dataframe tbody tr th:only-of-type {\n",
       "        vertical-align: middle;\n",
       "    }\n",
       "\n",
       "    .dataframe tbody tr th {\n",
       "        vertical-align: top;\n",
       "    }\n",
       "\n",
       "    .dataframe thead th {\n",
       "        text-align: right;\n",
       "    }\n",
       "</style>\n",
       "<table border=\"1\" class=\"dataframe\">\n",
       "  <thead>\n",
       "    <tr style=\"text-align: right;\">\n",
       "      <th></th>\n",
       "      <th>Unnamed: 0</th>\n",
       "      <th>message</th>\n",
       "      <th>Hate Speech</th>\n",
       "      <th>tokenized</th>\n",
       "      <th>stemmed</th>\n",
       "      <th>stop_words</th>\n",
       "    </tr>\n",
       "  </thead>\n",
       "  <tbody>\n",
       "    <tr>\n",
       "      <th>20</th>\n",
       "      <td>20</td>\n",
       "      <td>of course Trump lost. He is a lunatic. Most Am...</td>\n",
       "      <td>1.0</td>\n",
       "      <td>[of, course, trump, lost, he, is, a, lunatic, ...</td>\n",
       "      <td>[of, cours, trump, lost, he, is, a, lunat, mos...</td>\n",
       "      <td>cours trump lost lunat american see</td>\n",
       "    </tr>\n",
       "    <tr>\n",
       "      <th>21</th>\n",
       "      <td>21</td>\n",
       "      <td>Biden and his supporters will always have to l...</td>\n",
       "      <td>1.0</td>\n",
       "      <td>[biden, and, his, supporters, will, always, ha...</td>\n",
       "      <td>[biden, and, hi, support, will, alway, have, t...</td>\n",
       "      <td>biden hi support alway live shame cheat america</td>\n",
       "    </tr>\n",
       "    <tr>\n",
       "      <th>52</th>\n",
       "      <td>52</td>\n",
       "      <td>Biden cheated</td>\n",
       "      <td>1.0</td>\n",
       "      <td>[biden, cheated]</td>\n",
       "      <td>[biden, cheat]</td>\n",
       "      <td>biden cheat</td>\n",
       "    </tr>\n",
       "    <tr>\n",
       "      <th>55</th>\n",
       "      <td>55</td>\n",
       "      <td>youtube is doing this on purpose...making it h...</td>\n",
       "      <td>1.0</td>\n",
       "      <td>[youtube, is, doing, this, on, purpose, making...</td>\n",
       "      <td>[youtub, is, do, thi, on, purpos, make, it, ha...</td>\n",
       "      <td>youtub thi purpos make hard hear</td>\n",
       "    </tr>\n",
       "  </tbody>\n",
       "</table>\n",
       "</div>"
      ],
      "text/plain": [
       "    Unnamed: 0                                            message  \\\n",
       "20          20  of course Trump lost. He is a lunatic. Most Am...   \n",
       "21          21  Biden and his supporters will always have to l...   \n",
       "52          52                                      Biden cheated   \n",
       "55          55  youtube is doing this on purpose...making it h...   \n",
       "\n",
       "    Hate Speech                                          tokenized  \\\n",
       "20          1.0  [of, course, trump, lost, he, is, a, lunatic, ...   \n",
       "21          1.0  [biden, and, his, supporters, will, always, ha...   \n",
       "52          1.0                                   [biden, cheated]   \n",
       "55          1.0  [youtube, is, doing, this, on, purpose, making...   \n",
       "\n",
       "                                              stemmed  \\\n",
       "20  [of, cours, trump, lost, he, is, a, lunat, mos...   \n",
       "21  [biden, and, hi, support, will, alway, have, t...   \n",
       "52                                     [biden, cheat]   \n",
       "55  [youtub, is, do, thi, on, purpos, make, it, ha...   \n",
       "\n",
       "                                         stop_words  \n",
       "20              cours trump lost lunat american see  \n",
       "21  biden hi support alway live shame cheat america  \n",
       "52                                      biden cheat  \n",
       "55                 youtub thi purpos make hard hear  "
      ]
     },
     "execution_count": 362,
     "metadata": {},
     "output_type": "execute_result"
    }
   ],
   "source": [
    "if not hSpeech.empty:\n",
    "    hSpeech['tokenized'] = hSpeech.apply(tokenize, axis=1)\n",
    "    hSpeech['stemmed'] = hSpeech.apply(stem, axis=1)\n",
    "    hSpeech['stop_words'] = hSpeech.apply(removeStopWords, axis=1)\n",
    "hSpeech"
   ]
  },
  {
   "cell_type": "code",
   "execution_count": 363,
   "metadata": {},
   "outputs": [
    {
     "data": {
      "text/html": [
       "<div>\n",
       "<style scoped>\n",
       "    .dataframe tbody tr th:only-of-type {\n",
       "        vertical-align: middle;\n",
       "    }\n",
       "\n",
       "    .dataframe tbody tr th {\n",
       "        vertical-align: top;\n",
       "    }\n",
       "\n",
       "    .dataframe thead th {\n",
       "        text-align: right;\n",
       "    }\n",
       "</style>\n",
       "<table border=\"1\" class=\"dataframe\">\n",
       "  <thead>\n",
       "    <tr style=\"text-align: right;\">\n",
       "      <th></th>\n",
       "      <th>Unnamed: 0</th>\n",
       "      <th>message</th>\n",
       "      <th>Sexual Harassment</th>\n",
       "    </tr>\n",
       "  </thead>\n",
       "  <tbody>\n",
       "  </tbody>\n",
       "</table>\n",
       "</div>"
      ],
      "text/plain": [
       "Empty DataFrame\n",
       "Columns: [Unnamed: 0, message, Sexual Harassment]\n",
       "Index: []"
      ]
     },
     "execution_count": 363,
     "metadata": {},
     "output_type": "execute_result"
    }
   ],
   "source": [
    "if not sHarassment.empty:\n",
    "    sHarassment['tokenized'] = sHarassment.apply(tokenize, axis=1)\n",
    "    sHarassment['stemmed'] = sHarassment.apply(stem, axis=1)\n",
    "    sHarassment['stop_words'] = sHarassment.apply(removeStopWords, axis=1)\n",
    "sHarassment"
   ]
  },
  {
   "cell_type": "code",
   "execution_count": 364,
   "metadata": {},
   "outputs": [
    {
     "name": "stdout",
     "output_type": "stream",
     "text": [
      "test\n"
     ]
    },
    {
     "data": {
      "text/html": [
       "<div>\n",
       "<style scoped>\n",
       "    .dataframe tbody tr th:only-of-type {\n",
       "        vertical-align: middle;\n",
       "    }\n",
       "\n",
       "    .dataframe tbody tr th {\n",
       "        vertical-align: top;\n",
       "    }\n",
       "\n",
       "    .dataframe thead th {\n",
       "        text-align: right;\n",
       "    }\n",
       "</style>\n",
       "<table border=\"1\" class=\"dataframe\">\n",
       "  <thead>\n",
       "    <tr style=\"text-align: right;\">\n",
       "      <th></th>\n",
       "      <th>Unnamed: 0</th>\n",
       "      <th>message</th>\n",
       "      <th>Trolling</th>\n",
       "      <th>tokenized</th>\n",
       "      <th>stemmed</th>\n",
       "      <th>stop_words</th>\n",
       "    </tr>\n",
       "  </thead>\n",
       "  <tbody>\n",
       "    <tr>\n",
       "      <th>21</th>\n",
       "      <td>21</td>\n",
       "      <td>Biden and his supporters will always have to l...</td>\n",
       "      <td>1.0</td>\n",
       "      <td>[biden, and, his, supporters, will, always, ha...</td>\n",
       "      <td>[biden, and, hi, support, will, alway, have, t...</td>\n",
       "      <td>biden hi support alway live shame cheat america</td>\n",
       "    </tr>\n",
       "    <tr>\n",
       "      <th>25</th>\n",
       "      <td>25</td>\n",
       "      <td>Biden 2020-2028 Kamala 2028-2036</td>\n",
       "      <td>1.0</td>\n",
       "      <td>[biden, kamala]</td>\n",
       "      <td>[biden, kamala]</td>\n",
       "      <td>biden kamala</td>\n",
       "    </tr>\n",
       "    <tr>\n",
       "      <th>34</th>\n",
       "      <td>34</td>\n",
       "      <td>Trump will be president for 12 more years</td>\n",
       "      <td>1.0</td>\n",
       "      <td>[trump, will, be, president, for, more, years]</td>\n",
       "      <td>[trump, will, be, presid, for, more, year]</td>\n",
       "      <td>trump presid year</td>\n",
       "    </tr>\n",
       "    <tr>\n",
       "      <th>36</th>\n",
       "      <td>36</td>\n",
       "      <td>Kamala was picked based on gender and race...n...</td>\n",
       "      <td>1.0</td>\n",
       "      <td>[kamala, was, picked, based, on, gender, and, ...</td>\n",
       "      <td>[kamala, wa, pick, base, on, gender, and, race...</td>\n",
       "      <td>kamala wa pick base gender race merit</td>\n",
       "    </tr>\n",
       "  </tbody>\n",
       "</table>\n",
       "</div>"
      ],
      "text/plain": [
       "    Unnamed: 0                                            message  Trolling  \\\n",
       "21          21  Biden and his supporters will always have to l...       1.0   \n",
       "25          25                   Biden 2020-2028 Kamala 2028-2036       1.0   \n",
       "34          34          Trump will be president for 12 more years       1.0   \n",
       "36          36  Kamala was picked based on gender and race...n...       1.0   \n",
       "\n",
       "                                            tokenized  \\\n",
       "21  [biden, and, his, supporters, will, always, ha...   \n",
       "25                                    [biden, kamala]   \n",
       "34     [trump, will, be, president, for, more, years]   \n",
       "36  [kamala, was, picked, based, on, gender, and, ...   \n",
       "\n",
       "                                              stemmed  \\\n",
       "21  [biden, and, hi, support, will, alway, have, t...   \n",
       "25                                    [biden, kamala]   \n",
       "34         [trump, will, be, presid, for, more, year]   \n",
       "36  [kamala, wa, pick, base, on, gender, and, race...   \n",
       "\n",
       "                                         stop_words  \n",
       "21  biden hi support alway live shame cheat america  \n",
       "25                                     biden kamala  \n",
       "34                                trump presid year  \n",
       "36            kamala wa pick base gender race merit  "
      ]
     },
     "execution_count": 364,
     "metadata": {},
     "output_type": "execute_result"
    }
   ],
   "source": [
    "if not trolling.empty:\n",
    "    print('test')\n",
    "    trolling['tokenized'] = trolling.apply(tokenize, axis=1)\n",
    "    trolling['stemmed'] = trolling.apply(stem, axis=1)\n",
    "    trolling['stop_words'] = trolling.apply(removeStopWords, axis=1)\n",
    "trolling"
   ]
  },
  {
   "cell_type": "code",
   "execution_count": 365,
   "metadata": {},
   "outputs": [
    {
     "data": {
      "text/html": [
       "<div>\n",
       "<style scoped>\n",
       "    .dataframe tbody tr th:only-of-type {\n",
       "        vertical-align: middle;\n",
       "    }\n",
       "\n",
       "    .dataframe tbody tr th {\n",
       "        vertical-align: top;\n",
       "    }\n",
       "\n",
       "    .dataframe thead th {\n",
       "        text-align: right;\n",
       "    }\n",
       "</style>\n",
       "<table border=\"1\" class=\"dataframe\">\n",
       "  <thead>\n",
       "    <tr style=\"text-align: right;\">\n",
       "      <th></th>\n",
       "      <th>Unnamed: 0</th>\n",
       "      <th>message</th>\n",
       "      <th>Others</th>\n",
       "    </tr>\n",
       "  </thead>\n",
       "  <tbody>\n",
       "  </tbody>\n",
       "</table>\n",
       "</div>"
      ],
      "text/plain": [
       "Empty DataFrame\n",
       "Columns: [Unnamed: 0, message, Others]\n",
       "Index: []"
      ]
     },
     "execution_count": 365,
     "metadata": {},
     "output_type": "execute_result"
    }
   ],
   "source": [
    "if not others.empty:\n",
    "    others['tokenized'] = others.apply(tokenize, axis=1)\n",
    "    others['stemmed'] = others.apply(stem, axis=1)\n",
    "    others['stop_words'] = others.apply(removeStopWords, axis=1)\n",
    "others"
   ]
  },
  {
   "cell_type": "code",
   "execution_count": 366,
   "metadata": {},
   "outputs": [
    {
     "data": {
      "text/html": [
       "<div>\n",
       "<style scoped>\n",
       "    .dataframe tbody tr th:only-of-type {\n",
       "        vertical-align: middle;\n",
       "    }\n",
       "\n",
       "    .dataframe tbody tr th {\n",
       "        vertical-align: top;\n",
       "    }\n",
       "\n",
       "    .dataframe thead th {\n",
       "        text-align: right;\n",
       "    }\n",
       "</style>\n",
       "<table border=\"1\" class=\"dataframe\">\n",
       "  <thead>\n",
       "    <tr style=\"text-align: right;\">\n",
       "      <th></th>\n",
       "      <th>Unnamed: 0</th>\n",
       "      <th>message</th>\n",
       "      <th>Toxic</th>\n",
       "    </tr>\n",
       "  </thead>\n",
       "  <tbody>\n",
       "  </tbody>\n",
       "</table>\n",
       "</div>"
      ],
      "text/plain": [
       "Empty DataFrame\n",
       "Columns: [Unnamed: 0, message, Toxic]\n",
       "Index: []"
      ]
     },
     "execution_count": 366,
     "metadata": {},
     "output_type": "execute_result"
    }
   ],
   "source": [
    "if not toxic.empty:\n",
    "    toxic['tokenized'] = toxic.apply(tokenize, axis=1)\n",
    "    toxic['stemmed'] = toxic.apply(stem, axis=1)\n",
    "    toxic['stop_words'] = toxic.apply(removeStopWords, axis=1)\n",
    "    toxic['pos'] = toxic.apply(posTag, axis=1)\n",
    "    toxic.apply(posCounter, axis=1)\n",
    "    print(sum(counters, Counter()))\n",
    "toxic"
   ]
  },
  {
   "cell_type": "markdown",
   "metadata": {},
   "source": [
    "### TFIDF Stuff"
   ]
  },
  {
   "cell_type": "markdown",
   "metadata": {},
   "source": [
    "#### TFIDF On Direct Harassment"
   ]
  },
  {
   "cell_type": "code",
   "execution_count": 367,
   "metadata": {},
   "outputs": [],
   "source": [
    "#no text processing\n",
    "df = pd.DataFrame()\n",
    "if not dHarassment.empty:\n",
    "    vectorizer = TfidfVectorizer()\n",
    "    dHar = vectorizer.fit_transform(dHarassment['message'])\n",
    "    features = vectorizer.get_feature_names()\n",
    "    df = pd.DataFrame(dHar.toarray(), columns=features)\n",
    "    vals = df.sum(axis = 0, skipna = True)\n",
    "    vals = vals.sort_values(ascending=False)"
   ]
  },
  {
   "cell_type": "code",
   "execution_count": 368,
   "metadata": {},
   "outputs": [],
   "source": [
    "#stop words removed\n",
    "df1 = pd.DataFrame()\n",
    "if not dHarassment.empty:\n",
    "    vectorizer = TfidfVectorizer()\n",
    "    dHar = vectorizer.fit_transform(dHarassment['stop_words'])\n",
    "    features = vectorizer.get_feature_names()\n",
    "    df1 = pd.DataFrame(dHar.toarray(), columns=features)\n",
    "    vals1 = df1.sum(axis = 0, skipna = True)\n",
    "    vals1 = vals1.sort_values(ascending=False)"
   ]
  },
  {
   "cell_type": "code",
   "execution_count": 369,
   "metadata": {},
   "outputs": [
    {
     "data": {
      "text/html": [
       "<div>\n",
       "<style scoped>\n",
       "    .dataframe tbody tr th:only-of-type {\n",
       "        vertical-align: middle;\n",
       "    }\n",
       "\n",
       "    .dataframe tbody tr th {\n",
       "        vertical-align: top;\n",
       "    }\n",
       "\n",
       "    .dataframe thead th {\n",
       "        text-align: right;\n",
       "    }\n",
       "</style>\n",
       "<table border=\"1\" class=\"dataframe\">\n",
       "  <thead>\n",
       "    <tr style=\"text-align: right;\">\n",
       "      <th></th>\n",
       "    </tr>\n",
       "  </thead>\n",
       "  <tbody>\n",
       "  </tbody>\n",
       "</table>\n",
       "</div>"
      ],
      "text/plain": [
       "Empty DataFrame\n",
       "Columns: []\n",
       "Index: []"
      ]
     },
     "execution_count": 369,
     "metadata": {},
     "output_type": "execute_result"
    }
   ],
   "source": [
    "df.head()"
   ]
  },
  {
   "cell_type": "code",
   "execution_count": 370,
   "metadata": {},
   "outputs": [
    {
     "data": {
      "text/html": [
       "<div>\n",
       "<style scoped>\n",
       "    .dataframe tbody tr th:only-of-type {\n",
       "        vertical-align: middle;\n",
       "    }\n",
       "\n",
       "    .dataframe tbody tr th {\n",
       "        vertical-align: top;\n",
       "    }\n",
       "\n",
       "    .dataframe thead th {\n",
       "        text-align: right;\n",
       "    }\n",
       "</style>\n",
       "<table border=\"1\" class=\"dataframe\">\n",
       "  <thead>\n",
       "    <tr style=\"text-align: right;\">\n",
       "      <th></th>\n",
       "    </tr>\n",
       "  </thead>\n",
       "  <tbody>\n",
       "  </tbody>\n",
       "</table>\n",
       "</div>"
      ],
      "text/plain": [
       "Empty DataFrame\n",
       "Columns: []\n",
       "Index: []"
      ]
     },
     "execution_count": 370,
     "metadata": {},
     "output_type": "execute_result"
    }
   ],
   "source": [
    "df1.head()"
   ]
  },
  {
   "cell_type": "code",
   "execution_count": 371,
   "metadata": {},
   "outputs": [],
   "source": [
    "if not dHarassment.empty:\n",
    "    vals = vals[0:10]\n",
    "    vals.plot.bar()"
   ]
  },
  {
   "cell_type": "code",
   "execution_count": 372,
   "metadata": {},
   "outputs": [],
   "source": [
    "if not dHarassment.empty:\n",
    "    vals1 = vals1[0:10]\n",
    "    vals1.plot.bar()"
   ]
  },
  {
   "cell_type": "markdown",
   "metadata": {},
   "source": [
    "#### TFIDF on Hate Speech"
   ]
  },
  {
   "cell_type": "code",
   "execution_count": 373,
   "metadata": {},
   "outputs": [],
   "source": [
    "df = pd.DataFrame()\n",
    "if not hSpeech.empty:\n",
    "    vectorizer = TfidfVectorizer()\n",
    "    hSpe = vectorizer.fit_transform(hSpeech['message'])\n",
    "    features = vectorizer.get_feature_names()\n",
    "    df = pd.DataFrame(hSpe.toarray(), columns=features)\n",
    "    vals = df.sum(axis = 0, skipna = True)\n",
    "    vals = vals.sort_values(ascending=False)"
   ]
  },
  {
   "cell_type": "code",
   "execution_count": 374,
   "metadata": {},
   "outputs": [],
   "source": [
    "#stop words removed\n",
    "df1 = pd.DataFrame()\n",
    "if not hSpeech.empty:\n",
    "    vectorizer = TfidfVectorizer()\n",
    "    hSpe = vectorizer.fit_transform(hSpeech['stop_words'])\n",
    "    features = vectorizer.get_feature_names()\n",
    "    df1 = pd.DataFrame(hSpe.toarray(), columns=features)\n",
    "    vals1 = df1.sum(axis = 0, skipna = True)\n",
    "    vals1 = vals1.sort_values(ascending=False)"
   ]
  },
  {
   "cell_type": "code",
   "execution_count": 375,
   "metadata": {},
   "outputs": [
    {
     "data": {
      "image/png": "[encoded data removed]",
      "text/plain": [
       "<Figure size 432x288 with 1 Axes>"
      ]
     },
     "metadata": {
      "needs_background": "light"
     },
     "output_type": "display_data"
    }
   ],
   "source": [
    "if not hSpeech.empty:\n",
    "    vals = vals[0:10]\n",
    "    vals.plot.bar()"
   ]
  },
  {
   "cell_type": "code",
   "execution_count": 376,
   "metadata": {},
   "outputs": [
    {
     "data": {
      "image/png": "[encoded data removed]",
      "text/plain": [
       "<Figure size 432x288 with 1 Axes>"
      ]
     },
     "metadata": {
      "needs_background": "light"
     },
     "output_type": "display_data"
    }
   ],
   "source": [
    "if not hSpeech.empty:\n",
    "    vals1 = vals1[0:10]\n",
    "    vals1.plot.bar()"
   ]
  },
  {
   "cell_type": "markdown",
   "metadata": {},
   "source": [
    "#### TFIDF on Sexual Harassment"
   ]
  },
  {
   "cell_type": "code",
   "execution_count": 377,
   "metadata": {},
   "outputs": [],
   "source": [
    "df = pd.DataFrame()\n",
    "if not sHarassment.empty:\n",
    "    vectorizer = TfidfVectorizer()\n",
    "    sHar = vectorizer.fit_transform(sHarassment['message'])\n",
    "    features = vectorizer.get_feature_names()\n",
    "    df = pd.DataFrame(sHar.toarray(), columns=features)\n",
    "    vals = df.sum(axis = 0, skipna = True)\n",
    "    vals = vals.sort_values(ascending=False)"
   ]
  },
  {
   "cell_type": "code",
   "execution_count": 378,
   "metadata": {},
   "outputs": [],
   "source": [
    "#stop words removed\n",
    "df1 = pd.DataFrame()\n",
    "if not sHarassment.empty:\n",
    "    vectorizer = TfidfVectorizer()\n",
    "    sHar = vectorizer.fit_transform(sHarassment['stop_words'])\n",
    "    features = vectorizer.get_feature_names()\n",
    "    df1 = pd.DataFrame(sHar.toarray(), columns=features)\n",
    "    vals1 = df1.sum(axis = 0, skipna = True)\n",
    "    vals1 = vals1.sort_values(ascending=False)"
   ]
  },
  {
   "cell_type": "code",
   "execution_count": 379,
   "metadata": {},
   "outputs": [],
   "source": [
    "if not sHarassment.empty:\n",
    "    vals = vals[0:10]\n",
    "    vals.plot.bar()"
   ]
  },
  {
   "cell_type": "code",
   "execution_count": 380,
   "metadata": {},
   "outputs": [],
   "source": [
    "if not sHarassment.empty:\n",
    "    vals1 = vals1[0:10]\n",
    "    vals1.plot.bar()"
   ]
  },
  {
   "cell_type": "markdown",
   "metadata": {},
   "source": [
    "#### TFIDF on Trolling"
   ]
  },
  {
   "cell_type": "code",
   "execution_count": 381,
   "metadata": {},
   "outputs": [],
   "source": [
    "df = pd.DataFrame()\n",
    "if not trolling.empty:\n",
    "    vectorizer = TfidfVectorizer()\n",
    "    troll = vectorizer.fit_transform(trolling['message'])\n",
    "    features = vectorizer.get_feature_names()\n",
    "    df = pd.DataFrame(troll.toarray(), columns=features)\n",
    "    vals = df.sum(axis = 0, skipna = True)\n",
    "    vals = vals.sort_values(ascending=False)"
   ]
  },
  {
   "cell_type": "code",
   "execution_count": 382,
   "metadata": {},
   "outputs": [],
   "source": [
    "#stop words removed\n",
    "df1 = pd.DataFrame()\n",
    "if not trolling.empty:\n",
    "    vectorizer = TfidfVectorizer()\n",
    "    troll = vectorizer.fit_transform(trolling['stop_words'])\n",
    "    features = vectorizer.get_feature_names()\n",
    "    df1 = pd.DataFrame(troll.toarray(), columns=features)\n",
    "    vals1 = df1.sum(axis = 0, skipna = True)\n",
    "    vals1 = vals1.sort_values(ascending=False)"
   ]
  },
  {
   "cell_type": "code",
   "execution_count": 383,
   "metadata": {},
   "outputs": [
    {
     "data": {
      "image/png": "[encoded data removed]",
      "text/plain": [
       "<Figure size 432x288 with 1 Axes>"
      ]
     },
     "metadata": {
      "needs_background": "light"
     },
     "output_type": "display_data"
    }
   ],
   "source": [
    "if not trolling.empty:\n",
    "    vals = vals[0:10]\n",
    "    vals.plot.bar()"
   ]
  },
  {
   "cell_type": "code",
   "execution_count": 384,
   "metadata": {},
   "outputs": [
    {
     "data": {
      "image/png": "[encoded data removed]",
      "text/plain": [
       "<Figure size 432x288 with 1 Axes>"
      ]
     },
     "metadata": {
      "needs_background": "light"
     },
     "output_type": "display_data"
    }
   ],
   "source": [
    "if not trolling.empty:\n",
    "    vals1 = vals1[0:10]\n",
    "    vals1.plot.bar()"
   ]
  },
  {
   "cell_type": "markdown",
   "metadata": {},
   "source": [
    "#### TFIDF on Others"
   ]
  },
  {
   "cell_type": "code",
   "execution_count": 385,
   "metadata": {},
   "outputs": [],
   "source": [
    "df = pd.DataFrame()\n",
    "if not others.empty:\n",
    "    vectorizer = TfidfVectorizer()\n",
    "    oth = vectorizer.fit_transform(others['message'])\n",
    "    features = vectorizer.get_feature_names()\n",
    "    df = pd.DataFrame(oth.toarray(), columns=features)\n",
    "    vals = df.sum(axis = 0, skipna = True)\n",
    "    vals = vals.sort_values(ascending=False)"
   ]
  },
  {
   "cell_type": "code",
   "execution_count": 386,
   "metadata": {},
   "outputs": [],
   "source": [
    "#stop words removed\n",
    "df1 = pd.DataFrame()\n",
    "if not others.empty:\n",
    "    vectorizer = TfidfVectorizer()\n",
    "    oth = vectorizer.fit_transform(others['stop_words'])\n",
    "    features = vectorizer.get_feature_names()\n",
    "    df1 = pd.DataFrame(oth.toarray(), columns=features)\n",
    "    vals1 = df1.sum(axis = 0, skipna = True)\n",
    "    vals1 = vals1.sort_values(ascending=False)"
   ]
  },
  {
   "cell_type": "code",
   "execution_count": 387,
   "metadata": {},
   "outputs": [],
   "source": [
    "if not others.empty:\n",
    "    vals = vals[0:10]\n",
    "    vals.plot.bar()"
   ]
  },
  {
   "cell_type": "code",
   "execution_count": 388,
   "metadata": {},
   "outputs": [],
   "source": [
    "if not others.empty:\n",
    "    vals1 = vals1[0:10]\n",
    "    vals1.plot.bar()"
   ]
  },
  {
   "cell_type": "markdown",
   "metadata": {},
   "source": [
    "#### TFIDF on Toxic"
   ]
  },
  {
   "cell_type": "code",
   "execution_count": 389,
   "metadata": {},
   "outputs": [],
   "source": [
    "df = pd.DataFrame()\n",
    "if not toxic.empty:\n",
    "    vectorizer = TfidfVectorizer()\n",
    "    tox = vectorizer.fit_transform(toxic['message'])\n",
    "    features = vectorizer.get_feature_names()\n",
    "    df = pd.DataFrame(tox.toarray(), columns=features)\n",
    "    vals = df.sum(axis = 0, skipna = True)\n",
    "    vals = vals.sort_values(ascending=False)"
   ]
  },
  {
   "cell_type": "code",
   "execution_count": 390,
   "metadata": {},
   "outputs": [],
   "source": [
    "#stop words removed\n",
    "df1 = pd.DataFrame()\n",
    "if not toxic.empty:\n",
    "    vectorizer = TfidfVectorizer()\n",
    "    tox = vectorizer.fit_transform(toxic['stop_words'])\n",
    "    features = vectorizer.get_feature_names()\n",
    "    df1 = pd.DataFrame(tox.toarray(), columns=features)\n",
    "    vals1 = df1.sum(axis = 0, skipna = True)\n",
    "    vals1 = vals1.sort_values(ascending=False)"
   ]
  },
  {
   "cell_type": "code",
   "execution_count": 391,
   "metadata": {},
   "outputs": [],
   "source": [
    "if not toxic.empty:\n",
    "    vals = vals[0:10]\n",
    "    vals.plot.bar()"
   ]
  },
  {
   "cell_type": "code",
   "execution_count": 392,
   "metadata": {},
   "outputs": [],
   "source": [
    "if not toxic.empty:\n",
    "    vals1 = vals1[0:10]\n",
    "    vals1.plot.bar()"
   ]
  },
  {
   "cell_type": "code",
   "execution_count": 393,
   "metadata": {},
   "outputs": [],
   "source": [
    "if not toxic.empty:\n",
    "    arr = toxic['message'].to_list()\n",
    "    arr \n",
    "    len(arr)"
   ]
  },
  {
   "cell_type": "code",
   "execution_count": 394,
   "metadata": {},
   "outputs": [
    {
     "data": {
      "text/html": [
       "<div>\n",
       "<style scoped>\n",
       "    .dataframe tbody tr th:only-of-type {\n",
       "        vertical-align: middle;\n",
       "    }\n",
       "\n",
       "    .dataframe tbody tr th {\n",
       "        vertical-align: top;\n",
       "    }\n",
       "\n",
       "    .dataframe thead th {\n",
       "        text-align: right;\n",
       "    }\n",
       "</style>\n",
       "<table border=\"1\" class=\"dataframe\">\n",
       "  <thead>\n",
       "    <tr style=\"text-align: right;\">\n",
       "      <th></th>\n",
       "      <th>toxicity</th>\n",
       "      <th>severe_toxicity</th>\n",
       "      <th>obscene</th>\n",
       "      <th>identity_attack</th>\n",
       "      <th>insult</th>\n",
       "      <th>threat</th>\n",
       "      <th>sexual_explicit</th>\n",
       "    </tr>\n",
       "  </thead>\n",
       "  <tbody>\n",
       "    <tr>\n",
       "      <th>Shame on you Fox News for denying the truth.</th>\n",
       "      <td>0.04698</td>\n",
       "      <td>0.0</td>\n",
       "      <td>0.0004</td>\n",
       "      <td>0.0003</td>\n",
       "      <td>0.02301</td>\n",
       "      <td>0.00053</td>\n",
       "      <td>0.00004</td>\n",
       "    </tr>\n",
       "  </tbody>\n",
       "</table>\n",
       "</div>"
      ],
      "text/plain": [
       "                                              toxicity  severe_toxicity  \\\n",
       "Shame on you Fox News for denying the truth.   0.04698              0.0   \n",
       "\n",
       "                                              obscene  identity_attack  \\\n",
       "Shame on you Fox News for denying the truth.   0.0004           0.0003   \n",
       "\n",
       "                                               insult   threat  \\\n",
       "Shame on you Fox News for denying the truth.  0.02301  0.00053   \n",
       "\n",
       "                                              sexual_explicit  \n",
       "Shame on you Fox News for denying the truth.          0.00004  "
      ]
     },
     "execution_count": 394,
     "metadata": {},
     "output_type": "execute_result"
    }
   ],
   "source": [
    "if not toxic.empty:\n",
    "    results = Detoxify('unbiased').predict(arr)\n",
    "    newDF = pd.DataFrame(results, index=arr).round(5)\n",
    "newDF"
   ]
  },
  {
   "cell_type": "code",
   "execution_count": null,
   "metadata": {},
   "outputs": [],
   "source": []
  }
 ],
 "metadata": {
  "kernelspec": {
   "display_name": "Python 3",
   "language": "python",
   "name": "python3"
  },
  "language_info": {
   "codemirror_mode": {
    "name": "ipython",
    "version": 3
   },
   "file_extension": ".py",
   "mimetype": "text/x-python",
   "name": "python",
   "nbconvert_exporter": "python",
   "pygments_lexer": "ipython3",
   "version": "3.8.5"
  }
 },
 "nbformat": 4,
 "nbformat_minor": 4
}
