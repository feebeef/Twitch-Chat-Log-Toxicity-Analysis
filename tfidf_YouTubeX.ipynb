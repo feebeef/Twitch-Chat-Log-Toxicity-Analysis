{
 "cells": [
  {
   "cell_type": "markdown",
   "metadata": {},
   "source": [
    "# TF-IDF Scripts"
   ]
  },
  {
   "cell_type": "markdown",
   "metadata": {},
   "source": [
    "### Import Libraries"
   ]
  },
  {
   "cell_type": "code",
   "execution_count": 483,
   "metadata": {},
   "outputs": [
    {
     "name": "stderr",
     "output_type": "stream",
     "text": [
      "[nltk_data] Downloading package stopwords to\n",
      "[nltk_data]     C:\\Users\\kylet\\AppData\\Roaming\\nltk_data...\n",
      "[nltk_data]   Package stopwords is already up-to-date!\n",
      "[nltk_data] Downloading package punkt to\n",
      "[nltk_data]     C:\\Users\\kylet\\AppData\\Roaming\\nltk_data...\n",
      "[nltk_data]   Package punkt is already up-to-date!\n",
      "[nltk_data] Downloading package averaged_perceptron_tagger to\n",
      "[nltk_data]     C:\\Users\\kylet\\AppData\\Roaming\\nltk_data...\n",
      "[nltk_data]   Package averaged_perceptron_tagger is already up-to-\n",
      "[nltk_data]       date!\n"
     ]
    },
    {
     "name": "stdout",
     "output_type": "stream",
     "text": [
      "Requirement already satisfied: detoxify in d:\\anaconda3\\lib\\site-packages (0.2.2)\n",
      "Requirement already satisfied: transformers>=3.2.0 in d:\\anaconda3\\lib\\site-packages (from detoxify) (4.5.1)\n",
      "Requirement already satisfied: torch>=1.7.0 in d:\\anaconda3\\lib\\site-packages (from detoxify) (1.8.1)\n",
      "Requirement already satisfied: sentencepiece>=0.1.94 in d:\\anaconda3\\lib\\site-packages (from detoxify) (0.1.95)\n",
      "Requirement already satisfied: tokenizers<0.11,>=0.10.1 in d:\\anaconda3\\lib\\site-packages (from transformers>=3.2.0->detoxify) (0.10.2)\n",
      "Requirement already satisfied: packaging in d:\\anaconda3\\lib\\site-packages (from transformers>=3.2.0->detoxify) (20.4)\n",
      "Requirement already satisfied: filelock in d:\\anaconda3\\lib\\site-packages (from transformers>=3.2.0->detoxify) (3.0.12)\n",
      "Requirement already satisfied: regex!=2019.12.17 in d:\\anaconda3\\lib\\site-packages (from transformers>=3.2.0->detoxify) (2020.10.15)\n",
      "Requirement already satisfied: tqdm>=4.27 in d:\\anaconda3\\lib\\site-packages (from transformers>=3.2.0->detoxify) (4.50.2)\n",
      "Requirement already satisfied: numpy>=1.17 in d:\\anaconda3\\lib\\site-packages (from transformers>=3.2.0->detoxify) (1.19.2)\n",
      "Requirement already satisfied: requests in d:\\anaconda3\\lib\\site-packages (from transformers>=3.2.0->detoxify) (2.24.0)\n",
      "Requirement already satisfied: sacremoses in d:\\anaconda3\\lib\\site-packages (from transformers>=3.2.0->detoxify) (0.0.45)\n",
      "Requirement already satisfied: typing-extensions in d:\\anaconda3\\lib\\site-packages (from torch>=1.7.0->detoxify) (3.7.4.3)\n",
      "Requirement already satisfied: six in d:\\anaconda3\\lib\\site-packages (from packaging->transformers>=3.2.0->detoxify) (1.15.0)\n",
      "Requirement already satisfied: pyparsing>=2.0.2 in d:\\anaconda3\\lib\\site-packages (from packaging->transformers>=3.2.0->detoxify) (2.4.7)\n",
      "Requirement already satisfied: certifi>=2017.4.17 in d:\\anaconda3\\lib\\site-packages (from requests->transformers>=3.2.0->detoxify) (2020.6.20)\n",
      "Requirement already satisfied: urllib3!=1.25.0,!=1.25.1,<1.26,>=1.21.1 in d:\\anaconda3\\lib\\site-packages (from requests->transformers>=3.2.0->detoxify) (1.25.11)\n",
      "Requirement already satisfied: idna<3,>=2.5 in d:\\anaconda3\\lib\\site-packages (from requests->transformers>=3.2.0->detoxify) (2.10)\n",
      "Requirement already satisfied: chardet<4,>=3.0.2 in d:\\anaconda3\\lib\\site-packages (from requests->transformers>=3.2.0->detoxify) (3.0.4)\n",
      "Requirement already satisfied: click in d:\\anaconda3\\lib\\site-packages (from sacremoses->transformers>=3.2.0->detoxify) (7.1.2)\n",
      "Requirement already satisfied: joblib in d:\\anaconda3\\lib\\site-packages (from sacremoses->transformers>=3.2.0->detoxify) (0.17.0)\n"
     ]
    }
   ],
   "source": [
    "import pandas as pd\n",
    "import numpy as np\n",
    "import nltk\n",
    "from nltk.tokenize.toktok import ToktokTokenizer\n",
    "from nltk import word_tokenize, pos_tag_sents, pos_tag\n",
    "import re\n",
    "from bs4 import BeautifulSoup\n",
    "import unicodedata\n",
    "from nltk.stem import WordNetLemmatizer \n",
    "from nltk.corpus import stopwords\n",
    "from nltk.tokenize import word_tokenize\n",
    "from nltk.stem import PorterStemmer\n",
    "from string import punctuation\n",
    "import os, glob\n",
    "from sklearn.feature_extraction.text import TfidfVectorizer\n",
    "import matplotlib.pyplot as plt\n",
    "\n",
    "nltk.download('stopwords')\n",
    "nltk.download('punkt')\n",
    "nltk.download('averaged_perceptron_tagger')\n",
    "\n",
    "import sys\n",
    "!{sys.executable} -m pip install detoxify\n",
    "\n",
    "from detoxify import Detoxify\n",
    "from collections import Counter"
   ]
  },
  {
   "cell_type": "markdown",
   "metadata": {},
   "source": [
    "### Custom Functions and File Imports"
   ]
  },
  {
   "cell_type": "code",
   "execution_count": 484,
   "metadata": {},
   "outputs": [],
   "source": [
    "stemming = PorterStemmer()\n",
    "stops = set(stopwords.words(\"english\")) \n",
    "counters = []\n",
    "\n",
    "def removeStopWords(row):\n",
    "    stemmed = row['stemmed']\n",
    "    cleaned = [w for w in stemmed if not w in stops]\n",
    "    cleaned = listToString(cleaned)\n",
    "    return cleaned\n",
    "\n",
    "def tokenize(row):\n",
    "    message = row['message'].lower()\n",
    "    tokens = word_tokenize(message)\n",
    "    tok_words = [w for w in tokens if w.isalpha()]\n",
    "    return tok_words\n",
    "    \n",
    "def stem(row):\n",
    "    tokens = row['tokenized']\n",
    "    stemmed = [stemming.stem(word) for word in tokens]\n",
    "    return stemmed\n",
    "\n",
    "def listToString(lst):\n",
    "    text = ' '.join(lst)\n",
    "    return text\n",
    "\n",
    "def posTag(row):\n",
    "    message = row['message']\n",
    "    tokens = word_tokenize(message)\n",
    "    tagged = nltk.pos_tag(tokens)\n",
    "    return tagged\n",
    "\n",
    "def posCounter(row):\n",
    "    message = row['message']\n",
    "    tokens = word_tokenize(message)\n",
    "    tagged = nltk.pos_tag(tokens)\n",
    "    counts = Counter( tag for word,  tag in tagged)\n",
    "    counters.append(counts)"
   ]
  },
  {
   "cell_type": "code",
   "execution_count": 485,
   "metadata": {},
   "outputs": [
    {
     "name": "stdout",
     "output_type": "stream",
     "text": [
      "annotatorA.csv\n",
      "annotatorB.csv\n",
      "annotatorC.csv\n",
      "['annotatorA.csv', 'annotatorB.csv', 'annotatorC.csv']\n"
     ]
    }
   ],
   "source": [
    "os.chdir(r\"D:\\Programs\\Jupyter Notebooks\\Thesis RIP Scripts\\Annotations\\foxnews3\") # CHANGE VALUE PER BATCH\n",
    "files = []\n",
    "for file in glob.glob(\"*.csv\"):\n",
    "    print(file)\n",
    "    files.append(file)\n",
    "    \n",
    "print(files)    "
   ]
  },
  {
   "cell_type": "code",
   "execution_count": 486,
   "metadata": {},
   "outputs": [
    {
     "data": {
      "text/html": [
       "<div>\n",
       "<style scoped>\n",
       "    .dataframe tbody tr th:only-of-type {\n",
       "        vertical-align: middle;\n",
       "    }\n",
       "\n",
       "    .dataframe tbody tr th {\n",
       "        vertical-align: top;\n",
       "    }\n",
       "\n",
       "    .dataframe thead th {\n",
       "        text-align: right;\n",
       "    }\n",
       "</style>\n",
       "<table border=\"1\" class=\"dataframe\">\n",
       "  <thead>\n",
       "    <tr style=\"text-align: right;\">\n",
       "      <th></th>\n",
       "      <th>Unnamed: 0</th>\n",
       "      <th>author</th>\n",
       "      <th>message</th>\n",
       "      <th>time_text</th>\n",
       "      <th>Direct Harassment</th>\n",
       "      <th>Hate Speech</th>\n",
       "      <th>Sexual Harassment</th>\n",
       "      <th>Trolling</th>\n",
       "      <th>Others</th>\n",
       "      <th>Toxic</th>\n",
       "    </tr>\n",
       "  </thead>\n",
       "  <tbody>\n",
       "    <tr>\n",
       "      <th>0</th>\n",
       "      <td>0</td>\n",
       "      <td>username@QetQewrtrr</td>\n",
       "      <td>Woooooo Biden won. Finally!</td>\n",
       "      <td>00:33:00</td>\n",
       "      <td>0.0</td>\n",
       "      <td>0.0</td>\n",
       "      <td>0.0</td>\n",
       "      <td>0.0</td>\n",
       "      <td>0.0</td>\n",
       "      <td>0.0</td>\n",
       "    </tr>\n",
       "    <tr>\n",
       "      <th>1</th>\n",
       "      <td>1</td>\n",
       "      <td>username@Tervylpeav</td>\n",
       "      <td>lol keep wishing</td>\n",
       "      <td>01:01:00</td>\n",
       "      <td>0.0</td>\n",
       "      <td>0.0</td>\n",
       "      <td>0.0</td>\n",
       "      <td>0.0</td>\n",
       "      <td>0.0</td>\n",
       "      <td>0.0</td>\n",
       "    </tr>\n",
       "    <tr>\n",
       "      <th>2</th>\n",
       "      <td>2</td>\n",
       "      <td>username@rLuLTeeaTe</td>\n",
       "      <td>trump 4 the people</td>\n",
       "      <td>01:02:00</td>\n",
       "      <td>0.0</td>\n",
       "      <td>0.0</td>\n",
       "      <td>0.0</td>\n",
       "      <td>0.0</td>\n",
       "      <td>0.0</td>\n",
       "      <td>0.0</td>\n",
       "    </tr>\n",
       "    <tr>\n",
       "      <th>3</th>\n",
       "      <td>3</td>\n",
       "      <td>username@eC MhMeii</td>\n",
       "      <td>USA!!</td>\n",
       "      <td>01:34:00</td>\n",
       "      <td>0.0</td>\n",
       "      <td>0.0</td>\n",
       "      <td>0.0</td>\n",
       "      <td>0.0</td>\n",
       "      <td>0.0</td>\n",
       "      <td>0.0</td>\n",
       "    </tr>\n",
       "    <tr>\n",
       "      <th>4</th>\n",
       "      <td>4</td>\n",
       "      <td>username@AATETMCEAM</td>\n",
       "      <td>PUMP ET UP</td>\n",
       "      <td>01:34:00</td>\n",
       "      <td>0.0</td>\n",
       "      <td>0.0</td>\n",
       "      <td>0.0</td>\n",
       "      <td>0.0</td>\n",
       "      <td>0.0</td>\n",
       "      <td>0.0</td>\n",
       "    </tr>\n",
       "    <tr>\n",
       "      <th>...</th>\n",
       "      <td>...</td>\n",
       "      <td>...</td>\n",
       "      <td>...</td>\n",
       "      <td>...</td>\n",
       "      <td>...</td>\n",
       "      <td>...</td>\n",
       "      <td>...</td>\n",
       "      <td>...</td>\n",
       "      <td>...</td>\n",
       "      <td>...</td>\n",
       "    </tr>\n",
       "    <tr>\n",
       "      <th>78</th>\n",
       "      <td>78</td>\n",
       "      <td>username@RRRAARRAAR</td>\n",
       "      <td>Losers still mad Trump lost, they can't take L...</td>\n",
       "      <td>08:29:00</td>\n",
       "      <td>0.0</td>\n",
       "      <td>0.0</td>\n",
       "      <td>0.0</td>\n",
       "      <td>0.0</td>\n",
       "      <td>0.0</td>\n",
       "      <td>0.0</td>\n",
       "    </tr>\n",
       "    <tr>\n",
       "      <th>79</th>\n",
       "      <td>79</td>\n",
       "      <td>username@biobTsstss</td>\n",
       "      <td>uneducated people would vote for biden. disgra...</td>\n",
       "      <td>08:32:00</td>\n",
       "      <td>0.0</td>\n",
       "      <td>0.0</td>\n",
       "      <td>0.0</td>\n",
       "      <td>0.0</td>\n",
       "      <td>0.0</td>\n",
       "      <td>0.0</td>\n",
       "    </tr>\n",
       "    <tr>\n",
       "      <th>80</th>\n",
       "      <td>80</td>\n",
       "      <td>username@laaeKn enl</td>\n",
       "      <td>ehhh ehhh ehhhhhhhhhh</td>\n",
       "      <td>08:33:00</td>\n",
       "      <td>0.0</td>\n",
       "      <td>0.0</td>\n",
       "      <td>0.0</td>\n",
       "      <td>0.0</td>\n",
       "      <td>0.0</td>\n",
       "      <td>0.0</td>\n",
       "    </tr>\n",
       "    <tr>\n",
       "      <th>81</th>\n",
       "      <td>81</td>\n",
       "      <td>username@yiaaaOaz k</td>\n",
       "      <td>All we know is that we don't know the truth</td>\n",
       "      <td>08:37:00</td>\n",
       "      <td>0.0</td>\n",
       "      <td>0.0</td>\n",
       "      <td>0.0</td>\n",
       "      <td>0.0</td>\n",
       "      <td>0.0</td>\n",
       "      <td>0.0</td>\n",
       "    </tr>\n",
       "    <tr>\n",
       "      <th>82</th>\n",
       "      <td>82</td>\n",
       "      <td>username@tce1ro8rr1</td>\n",
       "      <td>Raise your hand if you remember the Kuwaiti am...</td>\n",
       "      <td>08:38:00</td>\n",
       "      <td>0.0</td>\n",
       "      <td>0.0</td>\n",
       "      <td>0.0</td>\n",
       "      <td>0.0</td>\n",
       "      <td>0.0</td>\n",
       "      <td>0.0</td>\n",
       "    </tr>\n",
       "  </tbody>\n",
       "</table>\n",
       "<p>83 rows × 10 columns</p>\n",
       "</div>"
      ],
      "text/plain": [
       "    Unnamed: 0               author  \\\n",
       "0            0  username@QetQewrtrr   \n",
       "1            1  username@Tervylpeav   \n",
       "2            2  username@rLuLTeeaTe   \n",
       "3            3   username@eC MhMeii   \n",
       "4            4  username@AATETMCEAM   \n",
       "..         ...                  ...   \n",
       "78          78  username@RRRAARRAAR   \n",
       "79          79  username@biobTsstss   \n",
       "80          80  username@laaeKn enl   \n",
       "81          81  username@yiaaaOaz k   \n",
       "82          82  username@tce1ro8rr1   \n",
       "\n",
       "                                              message time_text  \\\n",
       "0                         Woooooo Biden won. Finally!  00:33:00   \n",
       "1                                    lol keep wishing  01:01:00   \n",
       "2                                  trump 4 the people  01:02:00   \n",
       "3                                               USA!!  01:34:00   \n",
       "4                                          PUMP ET UP  01:34:00   \n",
       "..                                                ...       ...   \n",
       "78  Losers still mad Trump lost, they can't take L...  08:29:00   \n",
       "79  uneducated people would vote for biden. disgra...  08:32:00   \n",
       "80                              ehhh ehhh ehhhhhhhhhh  08:33:00   \n",
       "81        All we know is that we don't know the truth  08:37:00   \n",
       "82  Raise your hand if you remember the Kuwaiti am...  08:38:00   \n",
       "\n",
       "    Direct Harassment  Hate Speech  Sexual Harassment  Trolling  Others  Toxic  \n",
       "0                 0.0          0.0                0.0       0.0     0.0    0.0  \n",
       "1                 0.0          0.0                0.0       0.0     0.0    0.0  \n",
       "2                 0.0          0.0                0.0       0.0     0.0    0.0  \n",
       "3                 0.0          0.0                0.0       0.0     0.0    0.0  \n",
       "4                 0.0          0.0                0.0       0.0     0.0    0.0  \n",
       "..                ...          ...                ...       ...     ...    ...  \n",
       "78                0.0          0.0                0.0       0.0     0.0    0.0  \n",
       "79                0.0          0.0                0.0       0.0     0.0    0.0  \n",
       "80                0.0          0.0                0.0       0.0     0.0    0.0  \n",
       "81                0.0          0.0                0.0       0.0     0.0    0.0  \n",
       "82                0.0          0.0                0.0       0.0     0.0    0.0  \n",
       "\n",
       "[83 rows x 10 columns]"
      ]
     },
     "execution_count": 486,
     "metadata": {},
     "output_type": "execute_result"
    }
   ],
   "source": [
    "coder1 = pd.read_csv(files[0])\n",
    "coder1.fillna(0)\n",
    "coder2 = pd.read_csv(files[1])\n",
    "coder2.fillna(0)\n",
    "#coder3 = pd.read_excel('usanews0full_3.xlsx')\n",
    "coder3 = pd.read_csv(files[2])\n",
    "coder3.fillna(0)"
   ]
  },
  {
   "cell_type": "markdown",
   "metadata": {},
   "source": [
    "### Combine Documents Per Label"
   ]
  },
  {
   "cell_type": "code",
   "execution_count": 487,
   "metadata": {},
   "outputs": [
    {
     "data": {
      "text/html": [
       "<div>\n",
       "<style scoped>\n",
       "    .dataframe tbody tr th:only-of-type {\n",
       "        vertical-align: middle;\n",
       "    }\n",
       "\n",
       "    .dataframe tbody tr th {\n",
       "        vertical-align: top;\n",
       "    }\n",
       "\n",
       "    .dataframe thead th {\n",
       "        text-align: right;\n",
       "    }\n",
       "</style>\n",
       "<table border=\"1\" class=\"dataframe\">\n",
       "  <thead>\n",
       "    <tr style=\"text-align: right;\">\n",
       "      <th></th>\n",
       "      <th>Unnamed: 0</th>\n",
       "      <th>message</th>\n",
       "      <th>Direct Harassment</th>\n",
       "    </tr>\n",
       "  </thead>\n",
       "  <tbody>\n",
       "  </tbody>\n",
       "</table>\n",
       "</div>"
      ],
      "text/plain": [
       "Empty DataFrame\n",
       "Columns: [Unnamed: 0, message, Direct Harassment]\n",
       "Index: []"
      ]
     },
     "execution_count": 487,
     "metadata": {},
     "output_type": "execute_result"
    }
   ],
   "source": [
    "dHarassment = pd.DataFrame()\n",
    "temp0 = coder1.loc[coder1['Direct Harassment'] == 1.0]\n",
    "temp1 = coder2.loc[coder2['Direct Harassment'] == 1.0]\n",
    "temp2 = coder3.loc[coder3['Direct Harassment'] == 1.0]\n",
    "\n",
    "dHarassment = pd.concat([temp0, temp1, temp2])\n",
    "dHarassment.drop(dHarassment.columns.difference(['Unnamed: 0', 'message','Direct Harassment']), 1, inplace=True)\n",
    "\n",
    "dHarassment.drop_duplicates(subset =\"message\", keep = False, inplace = True)\n",
    "dHarassment\n",
    "#duplicateRowsDF = dHarassment[dHarassment.duplicated()]\n",
    "#duplicateRowsDF"
   ]
  },
  {
   "cell_type": "code",
   "execution_count": 488,
   "metadata": {
    "scrolled": true
   },
   "outputs": [
    {
     "data": {
      "text/html": [
       "<div>\n",
       "<style scoped>\n",
       "    .dataframe tbody tr th:only-of-type {\n",
       "        vertical-align: middle;\n",
       "    }\n",
       "\n",
       "    .dataframe tbody tr th {\n",
       "        vertical-align: top;\n",
       "    }\n",
       "\n",
       "    .dataframe thead th {\n",
       "        text-align: right;\n",
       "    }\n",
       "</style>\n",
       "<table border=\"1\" class=\"dataframe\">\n",
       "  <thead>\n",
       "    <tr style=\"text-align: right;\">\n",
       "      <th></th>\n",
       "      <th>Unnamed: 0</th>\n",
       "      <th>message</th>\n",
       "      <th>Hate Speech</th>\n",
       "    </tr>\n",
       "  </thead>\n",
       "  <tbody>\n",
       "    <tr>\n",
       "      <th>18</th>\n",
       "      <td>18</td>\n",
       "      <td>Philadelphia is full of riggers</td>\n",
       "      <td>1.0</td>\n",
       "    </tr>\n",
       "    <tr>\n",
       "      <th>44</th>\n",
       "      <td>44</td>\n",
       "      <td>biden is a joke</td>\n",
       "      <td>1.0</td>\n",
       "    </tr>\n",
       "    <tr>\n",
       "      <th>45</th>\n",
       "      <td>45</td>\n",
       "      <td>FOX NEWS OR FAKE NEWS. PLEASE NOT SUPPORT THE ...</td>\n",
       "      <td>1.0</td>\n",
       "    </tr>\n",
       "    <tr>\n",
       "      <th>59</th>\n",
       "      <td>59</td>\n",
       "      <td>how can you live Biden Ben?? you must look int...</td>\n",
       "      <td>1.0</td>\n",
       "    </tr>\n",
       "  </tbody>\n",
       "</table>\n",
       "</div>"
      ],
      "text/plain": [
       "    Unnamed: 0                                            message  Hate Speech\n",
       "18          18                    Philadelphia is full of riggers          1.0\n",
       "44          44                                    biden is a joke          1.0\n",
       "45          45  FOX NEWS OR FAKE NEWS. PLEASE NOT SUPPORT THE ...          1.0\n",
       "59          59  how can you live Biden Ben?? you must look int...          1.0"
      ]
     },
     "execution_count": 488,
     "metadata": {},
     "output_type": "execute_result"
    }
   ],
   "source": [
    "hSpeech = pd.DataFrame()\n",
    "temp0 = coder1.loc[coder1['Hate Speech'] == 1.0]\n",
    "temp1 = coder2.loc[coder2['Hate Speech'] == 1.0]\n",
    "temp2 = coder3.loc[coder3['Hate Speech'] == 1.0]\n",
    "\n",
    "hSpeech = pd.concat([temp0, temp1, temp2])\n",
    "hSpeech.drop(hSpeech.columns.difference(['Unnamed: 0', 'message','Hate Speech']), 1, inplace=True)\n",
    "\n",
    "hSpeech.drop_duplicates(subset =\"message\", keep = False, inplace = True)\n",
    "hSpeech"
   ]
  },
  {
   "cell_type": "code",
   "execution_count": 489,
   "metadata": {},
   "outputs": [
    {
     "data": {
      "text/html": [
       "<div>\n",
       "<style scoped>\n",
       "    .dataframe tbody tr th:only-of-type {\n",
       "        vertical-align: middle;\n",
       "    }\n",
       "\n",
       "    .dataframe tbody tr th {\n",
       "        vertical-align: top;\n",
       "    }\n",
       "\n",
       "    .dataframe thead th {\n",
       "        text-align: right;\n",
       "    }\n",
       "</style>\n",
       "<table border=\"1\" class=\"dataframe\">\n",
       "  <thead>\n",
       "    <tr style=\"text-align: right;\">\n",
       "      <th></th>\n",
       "      <th>Unnamed: 0</th>\n",
       "      <th>message</th>\n",
       "      <th>Sexual Harassment</th>\n",
       "    </tr>\n",
       "  </thead>\n",
       "  <tbody>\n",
       "  </tbody>\n",
       "</table>\n",
       "</div>"
      ],
      "text/plain": [
       "Empty DataFrame\n",
       "Columns: [Unnamed: 0, message, Sexual Harassment]\n",
       "Index: []"
      ]
     },
     "execution_count": 489,
     "metadata": {},
     "output_type": "execute_result"
    }
   ],
   "source": [
    "sHarassment = pd.DataFrame()\n",
    "temp0 = coder1.loc[coder1['Sexual Harassment'] == 1.0]\n",
    "temp1 = coder2.loc[coder2['Sexual Harassment'] == 1.0]\n",
    "temp2 = coder3.loc[coder3['Sexual Harassment'] == 1.0]\n",
    "\n",
    "sHarassment = pd.concat([temp0, temp1, temp2])\n",
    "sHarassment.drop(sHarassment.columns.difference(['Unnamed: 0', 'message','Sexual Harassment']), 1, inplace=True)\n",
    "\n",
    "sHarassment.drop_duplicates(subset =\"message\", keep = False, inplace = True)\n",
    "sHarassment"
   ]
  },
  {
   "cell_type": "code",
   "execution_count": 490,
   "metadata": {},
   "outputs": [
    {
     "data": {
      "text/html": [
       "<div>\n",
       "<style scoped>\n",
       "    .dataframe tbody tr th:only-of-type {\n",
       "        vertical-align: middle;\n",
       "    }\n",
       "\n",
       "    .dataframe tbody tr th {\n",
       "        vertical-align: top;\n",
       "    }\n",
       "\n",
       "    .dataframe thead th {\n",
       "        text-align: right;\n",
       "    }\n",
       "</style>\n",
       "<table border=\"1\" class=\"dataframe\">\n",
       "  <thead>\n",
       "    <tr style=\"text-align: right;\">\n",
       "      <th></th>\n",
       "      <th>Unnamed: 0</th>\n",
       "      <th>message</th>\n",
       "      <th>Trolling</th>\n",
       "    </tr>\n",
       "  </thead>\n",
       "  <tbody>\n",
       "    <tr>\n",
       "      <th>37</th>\n",
       "      <td>37</td>\n",
       "      <td>These people don’t care about your health. It’...</td>\n",
       "      <td>1.0</td>\n",
       "    </tr>\n",
       "  </tbody>\n",
       "</table>\n",
       "</div>"
      ],
      "text/plain": [
       "    Unnamed: 0                                            message  Trolling\n",
       "37          37  These people don’t care about your health. It’...       1.0"
      ]
     },
     "execution_count": 490,
     "metadata": {},
     "output_type": "execute_result"
    }
   ],
   "source": [
    "trolling = pd.DataFrame()\n",
    "temp0 = coder1.loc[coder1['Trolling'] == 1.0]\n",
    "temp1 = coder2.loc[coder2['Trolling'] == 1.0]\n",
    "temp2 = coder3.loc[coder3['Trolling'] == 1.0]\n",
    "\n",
    "trolling = pd.concat([temp0, temp1, temp2])\n",
    "trolling.drop(trolling.columns.difference(['Unnamed: 0', 'message','Trolling']), 1, inplace=True)\n",
    "\n",
    "trolling.drop_duplicates(subset =\"message\", keep = False, inplace = True)\n",
    "trolling"
   ]
  },
  {
   "cell_type": "code",
   "execution_count": 491,
   "metadata": {},
   "outputs": [
    {
     "data": {
      "text/html": [
       "<div>\n",
       "<style scoped>\n",
       "    .dataframe tbody tr th:only-of-type {\n",
       "        vertical-align: middle;\n",
       "    }\n",
       "\n",
       "    .dataframe tbody tr th {\n",
       "        vertical-align: top;\n",
       "    }\n",
       "\n",
       "    .dataframe thead th {\n",
       "        text-align: right;\n",
       "    }\n",
       "</style>\n",
       "<table border=\"1\" class=\"dataframe\">\n",
       "  <thead>\n",
       "    <tr style=\"text-align: right;\">\n",
       "      <th></th>\n",
       "      <th>Unnamed: 0</th>\n",
       "      <th>message</th>\n",
       "      <th>Others</th>\n",
       "    </tr>\n",
       "  </thead>\n",
       "  <tbody>\n",
       "  </tbody>\n",
       "</table>\n",
       "</div>"
      ],
      "text/plain": [
       "Empty DataFrame\n",
       "Columns: [Unnamed: 0, message, Others]\n",
       "Index: []"
      ]
     },
     "execution_count": 491,
     "metadata": {},
     "output_type": "execute_result"
    }
   ],
   "source": [
    "others = pd.DataFrame()\n",
    "temp0 = coder1.loc[coder1['Others'] == 1.0]\n",
    "temp1 = coder2.loc[coder2['Others'] == 1.0]\n",
    "temp2 = coder3.loc[coder3['Others'] == 1.0]\n",
    "\n",
    "others = pd.concat([temp0, temp1, temp2])\n",
    "others.drop(others.columns.difference(['Unnamed: 0', 'message','Others']), 1, inplace=True)\n",
    "\n",
    "others.drop_duplicates(subset =\"message\", keep = False, inplace = True)\n",
    "others"
   ]
  },
  {
   "cell_type": "code",
   "execution_count": 492,
   "metadata": {},
   "outputs": [
    {
     "data": {
      "text/html": [
       "<div>\n",
       "<style scoped>\n",
       "    .dataframe tbody tr th:only-of-type {\n",
       "        vertical-align: middle;\n",
       "    }\n",
       "\n",
       "    .dataframe tbody tr th {\n",
       "        vertical-align: top;\n",
       "    }\n",
       "\n",
       "    .dataframe thead th {\n",
       "        text-align: right;\n",
       "    }\n",
       "</style>\n",
       "<table border=\"1\" class=\"dataframe\">\n",
       "  <thead>\n",
       "    <tr style=\"text-align: right;\">\n",
       "      <th></th>\n",
       "      <th>Unnamed: 0</th>\n",
       "      <th>message</th>\n",
       "      <th>Toxic</th>\n",
       "    </tr>\n",
       "  </thead>\n",
       "  <tbody>\n",
       "  </tbody>\n",
       "</table>\n",
       "</div>"
      ],
      "text/plain": [
       "Empty DataFrame\n",
       "Columns: [Unnamed: 0, message, Toxic]\n",
       "Index: []"
      ]
     },
     "execution_count": 492,
     "metadata": {},
     "output_type": "execute_result"
    }
   ],
   "source": [
    "toxic = pd.DataFrame()\n",
    "temp0 = coder1.loc[coder1['Toxic'] == 1.0]\n",
    "temp1 = coder2.loc[coder2['Toxic'] == 1.0]\n",
    "temp2 = coder3.loc[coder3['Toxic'] == 1.0]\n",
    "\n",
    "toxic = pd.concat([temp0, temp1, temp2])\n",
    "toxic.drop(toxic.columns.difference(['Unnamed: 0', 'message','Toxic']), 1, inplace=True)\n",
    "\n",
    "toxic.drop_duplicates(subset =\"message\", keep = False, inplace = True)\n",
    "toxic"
   ]
  },
  {
   "cell_type": "markdown",
   "metadata": {},
   "source": [
    "## NLP Text Processing Stuff\n"
   ]
  },
  {
   "cell_type": "code",
   "execution_count": 493,
   "metadata": {},
   "outputs": [
    {
     "data": {
      "text/html": [
       "<div>\n",
       "<style scoped>\n",
       "    .dataframe tbody tr th:only-of-type {\n",
       "        vertical-align: middle;\n",
       "    }\n",
       "\n",
       "    .dataframe tbody tr th {\n",
       "        vertical-align: top;\n",
       "    }\n",
       "\n",
       "    .dataframe thead th {\n",
       "        text-align: right;\n",
       "    }\n",
       "</style>\n",
       "<table border=\"1\" class=\"dataframe\">\n",
       "  <thead>\n",
       "    <tr style=\"text-align: right;\">\n",
       "      <th></th>\n",
       "      <th>Unnamed: 0</th>\n",
       "      <th>message</th>\n",
       "      <th>Direct Harassment</th>\n",
       "    </tr>\n",
       "  </thead>\n",
       "  <tbody>\n",
       "  </tbody>\n",
       "</table>\n",
       "</div>"
      ],
      "text/plain": [
       "Empty DataFrame\n",
       "Columns: [Unnamed: 0, message, Direct Harassment]\n",
       "Index: []"
      ]
     },
     "execution_count": 493,
     "metadata": {},
     "output_type": "execute_result"
    }
   ],
   "source": [
    "if not dHarassment.empty:\n",
    "    dHarassment['tokenized'] = dHarassment.apply(tokenize, axis=1)\n",
    "    dHarassment['stemmed'] = dHarassment.apply(stem, axis=1)\n",
    "    dHarassment['stop_words'] = dHarassment.apply(removeStopWords, axis=1)\n",
    "dHarassment"
   ]
  },
  {
   "cell_type": "code",
   "execution_count": 494,
   "metadata": {},
   "outputs": [
    {
     "data": {
      "text/html": [
       "<div>\n",
       "<style scoped>\n",
       "    .dataframe tbody tr th:only-of-type {\n",
       "        vertical-align: middle;\n",
       "    }\n",
       "\n",
       "    .dataframe tbody tr th {\n",
       "        vertical-align: top;\n",
       "    }\n",
       "\n",
       "    .dataframe thead th {\n",
       "        text-align: right;\n",
       "    }\n",
       "</style>\n",
       "<table border=\"1\" class=\"dataframe\">\n",
       "  <thead>\n",
       "    <tr style=\"text-align: right;\">\n",
       "      <th></th>\n",
       "      <th>Unnamed: 0</th>\n",
       "      <th>message</th>\n",
       "      <th>Hate Speech</th>\n",
       "      <th>tokenized</th>\n",
       "      <th>stemmed</th>\n",
       "      <th>stop_words</th>\n",
       "    </tr>\n",
       "  </thead>\n",
       "  <tbody>\n",
       "    <tr>\n",
       "      <th>18</th>\n",
       "      <td>18</td>\n",
       "      <td>Philadelphia is full of riggers</td>\n",
       "      <td>1.0</td>\n",
       "      <td>[philadelphia, is, full, of, riggers]</td>\n",
       "      <td>[philadelphia, is, full, of, rigger]</td>\n",
       "      <td>philadelphia full rigger</td>\n",
       "    </tr>\n",
       "    <tr>\n",
       "      <th>44</th>\n",
       "      <td>44</td>\n",
       "      <td>biden is a joke</td>\n",
       "      <td>1.0</td>\n",
       "      <td>[biden, is, a, joke]</td>\n",
       "      <td>[biden, is, a, joke]</td>\n",
       "      <td>biden joke</td>\n",
       "    </tr>\n",
       "    <tr>\n",
       "      <th>45</th>\n",
       "      <td>45</td>\n",
       "      <td>FOX NEWS OR FAKE NEWS. PLEASE NOT SUPPORT THE ...</td>\n",
       "      <td>1.0</td>\n",
       "      <td>[fox, news, or, fake, news, please, not, suppo...</td>\n",
       "      <td>[fox, news, or, fake, news, pleas, not, suppor...</td>\n",
       "      <td>fox news fake news pleas support demoralis parti</td>\n",
       "    </tr>\n",
       "    <tr>\n",
       "      <th>59</th>\n",
       "      <td>59</td>\n",
       "      <td>how can you live Biden Ben?? you must look int...</td>\n",
       "      <td>1.0</td>\n",
       "      <td>[how, can, you, live, biden, ben, you, must, l...</td>\n",
       "      <td>[how, can, you, live, biden, ben, you, must, l...</td>\n",
       "      <td>live biden ben must look sign countri communis...</td>\n",
       "    </tr>\n",
       "  </tbody>\n",
       "</table>\n",
       "</div>"
      ],
      "text/plain": [
       "    Unnamed: 0                                            message  \\\n",
       "18          18                    Philadelphia is full of riggers   \n",
       "44          44                                    biden is a joke   \n",
       "45          45  FOX NEWS OR FAKE NEWS. PLEASE NOT SUPPORT THE ...   \n",
       "59          59  how can you live Biden Ben?? you must look int...   \n",
       "\n",
       "    Hate Speech                                          tokenized  \\\n",
       "18          1.0              [philadelphia, is, full, of, riggers]   \n",
       "44          1.0                               [biden, is, a, joke]   \n",
       "45          1.0  [fox, news, or, fake, news, please, not, suppo...   \n",
       "59          1.0  [how, can, you, live, biden, ben, you, must, l...   \n",
       "\n",
       "                                              stemmed  \\\n",
       "18               [philadelphia, is, full, of, rigger]   \n",
       "44                               [biden, is, a, joke]   \n",
       "45  [fox, news, or, fake, news, pleas, not, suppor...   \n",
       "59  [how, can, you, live, biden, ben, you, must, l...   \n",
       "\n",
       "                                           stop_words  \n",
       "18                           philadelphia full rigger  \n",
       "44                                         biden joke  \n",
       "45   fox news fake news pleas support demoralis parti  \n",
       "59  live biden ben must look sign countri communis...  "
      ]
     },
     "execution_count": 494,
     "metadata": {},
     "output_type": "execute_result"
    }
   ],
   "source": [
    "if not hSpeech.empty:\n",
    "    hSpeech['tokenized'] = hSpeech.apply(tokenize, axis=1)\n",
    "    hSpeech['stemmed'] = hSpeech.apply(stem, axis=1)\n",
    "    hSpeech['stop_words'] = hSpeech.apply(removeStopWords, axis=1)\n",
    "hSpeech"
   ]
  },
  {
   "cell_type": "code",
   "execution_count": 495,
   "metadata": {},
   "outputs": [
    {
     "data": {
      "text/html": [
       "<div>\n",
       "<style scoped>\n",
       "    .dataframe tbody tr th:only-of-type {\n",
       "        vertical-align: middle;\n",
       "    }\n",
       "\n",
       "    .dataframe tbody tr th {\n",
       "        vertical-align: top;\n",
       "    }\n",
       "\n",
       "    .dataframe thead th {\n",
       "        text-align: right;\n",
       "    }\n",
       "</style>\n",
       "<table border=\"1\" class=\"dataframe\">\n",
       "  <thead>\n",
       "    <tr style=\"text-align: right;\">\n",
       "      <th></th>\n",
       "      <th>Unnamed: 0</th>\n",
       "      <th>message</th>\n",
       "      <th>Sexual Harassment</th>\n",
       "    </tr>\n",
       "  </thead>\n",
       "  <tbody>\n",
       "  </tbody>\n",
       "</table>\n",
       "</div>"
      ],
      "text/plain": [
       "Empty DataFrame\n",
       "Columns: [Unnamed: 0, message, Sexual Harassment]\n",
       "Index: []"
      ]
     },
     "execution_count": 495,
     "metadata": {},
     "output_type": "execute_result"
    }
   ],
   "source": [
    "if not sHarassment.empty:\n",
    "    sHarassment['tokenized'] = sHarassment.apply(tokenize, axis=1)\n",
    "    sHarassment['stemmed'] = sHarassment.apply(stem, axis=1)\n",
    "    sHarassment['stop_words'] = sHarassment.apply(removeStopWords, axis=1)\n",
    "sHarassment"
   ]
  },
  {
   "cell_type": "code",
   "execution_count": 496,
   "metadata": {},
   "outputs": [
    {
     "name": "stdout",
     "output_type": "stream",
     "text": [
      "test\n"
     ]
    },
    {
     "data": {
      "text/html": [
       "<div>\n",
       "<style scoped>\n",
       "    .dataframe tbody tr th:only-of-type {\n",
       "        vertical-align: middle;\n",
       "    }\n",
       "\n",
       "    .dataframe tbody tr th {\n",
       "        vertical-align: top;\n",
       "    }\n",
       "\n",
       "    .dataframe thead th {\n",
       "        text-align: right;\n",
       "    }\n",
       "</style>\n",
       "<table border=\"1\" class=\"dataframe\">\n",
       "  <thead>\n",
       "    <tr style=\"text-align: right;\">\n",
       "      <th></th>\n",
       "      <th>Unnamed: 0</th>\n",
       "      <th>message</th>\n",
       "      <th>Trolling</th>\n",
       "      <th>tokenized</th>\n",
       "      <th>stemmed</th>\n",
       "      <th>stop_words</th>\n",
       "    </tr>\n",
       "  </thead>\n",
       "  <tbody>\n",
       "    <tr>\n",
       "      <th>37</th>\n",
       "      <td>37</td>\n",
       "      <td>These people don’t care about your health. It’...</td>\n",
       "      <td>1.0</td>\n",
       "      <td>[these, people, don, t, care, about, your, hea...</td>\n",
       "      <td>[these, peopl, don, t, care, about, your, heal...</td>\n",
       "      <td>peopl care health nwo crime syndic</td>\n",
       "    </tr>\n",
       "  </tbody>\n",
       "</table>\n",
       "</div>"
      ],
      "text/plain": [
       "    Unnamed: 0                                            message  Trolling  \\\n",
       "37          37  These people don’t care about your health. It’...       1.0   \n",
       "\n",
       "                                            tokenized  \\\n",
       "37  [these, people, don, t, care, about, your, hea...   \n",
       "\n",
       "                                              stemmed  \\\n",
       "37  [these, peopl, don, t, care, about, your, heal...   \n",
       "\n",
       "                            stop_words  \n",
       "37  peopl care health nwo crime syndic  "
      ]
     },
     "execution_count": 496,
     "metadata": {},
     "output_type": "execute_result"
    }
   ],
   "source": [
    "if not trolling.empty:\n",
    "    print('test')\n",
    "    trolling['tokenized'] = trolling.apply(tokenize, axis=1)\n",
    "    trolling['stemmed'] = trolling.apply(stem, axis=1)\n",
    "    trolling['stop_words'] = trolling.apply(removeStopWords, axis=1)\n",
    "trolling"
   ]
  },
  {
   "cell_type": "code",
   "execution_count": 497,
   "metadata": {},
   "outputs": [
    {
     "data": {
      "text/html": [
       "<div>\n",
       "<style scoped>\n",
       "    .dataframe tbody tr th:only-of-type {\n",
       "        vertical-align: middle;\n",
       "    }\n",
       "\n",
       "    .dataframe tbody tr th {\n",
       "        vertical-align: top;\n",
       "    }\n",
       "\n",
       "    .dataframe thead th {\n",
       "        text-align: right;\n",
       "    }\n",
       "</style>\n",
       "<table border=\"1\" class=\"dataframe\">\n",
       "  <thead>\n",
       "    <tr style=\"text-align: right;\">\n",
       "      <th></th>\n",
       "      <th>Unnamed: 0</th>\n",
       "      <th>message</th>\n",
       "      <th>Others</th>\n",
       "    </tr>\n",
       "  </thead>\n",
       "  <tbody>\n",
       "  </tbody>\n",
       "</table>\n",
       "</div>"
      ],
      "text/plain": [
       "Empty DataFrame\n",
       "Columns: [Unnamed: 0, message, Others]\n",
       "Index: []"
      ]
     },
     "execution_count": 497,
     "metadata": {},
     "output_type": "execute_result"
    }
   ],
   "source": [
    "if not others.empty:\n",
    "    others['tokenized'] = others.apply(tokenize, axis=1)\n",
    "    others['stemmed'] = others.apply(stem, axis=1)\n",
    "    others['stop_words'] = others.apply(removeStopWords, axis=1)\n",
    "others"
   ]
  },
  {
   "cell_type": "code",
   "execution_count": 498,
   "metadata": {},
   "outputs": [
    {
     "data": {
      "text/html": [
       "<div>\n",
       "<style scoped>\n",
       "    .dataframe tbody tr th:only-of-type {\n",
       "        vertical-align: middle;\n",
       "    }\n",
       "\n",
       "    .dataframe tbody tr th {\n",
       "        vertical-align: top;\n",
       "    }\n",
       "\n",
       "    .dataframe thead th {\n",
       "        text-align: right;\n",
       "    }\n",
       "</style>\n",
       "<table border=\"1\" class=\"dataframe\">\n",
       "  <thead>\n",
       "    <tr style=\"text-align: right;\">\n",
       "      <th></th>\n",
       "      <th>Unnamed: 0</th>\n",
       "      <th>message</th>\n",
       "      <th>Toxic</th>\n",
       "    </tr>\n",
       "  </thead>\n",
       "  <tbody>\n",
       "  </tbody>\n",
       "</table>\n",
       "</div>"
      ],
      "text/plain": [
       "Empty DataFrame\n",
       "Columns: [Unnamed: 0, message, Toxic]\n",
       "Index: []"
      ]
     },
     "execution_count": 498,
     "metadata": {},
     "output_type": "execute_result"
    }
   ],
   "source": [
    "if not toxic.empty:\n",
    "    toxic['tokenized'] = toxic.apply(tokenize, axis=1)\n",
    "    toxic['stemmed'] = toxic.apply(stem, axis=1)\n",
    "    toxic['stop_words'] = toxic.apply(removeStopWords, axis=1)\n",
    "    toxic['pos'] = toxic.apply(posTag, axis=1)\n",
    "    toxic.apply(posCounter, axis=1)\n",
    "    print(sum(counters, Counter()))\n",
    "toxic"
   ]
  },
  {
   "cell_type": "markdown",
   "metadata": {},
   "source": [
    "### TFIDF Stuff"
   ]
  },
  {
   "cell_type": "markdown",
   "metadata": {},
   "source": [
    "#### TFIDF On Direct Harassment"
   ]
  },
  {
   "cell_type": "code",
   "execution_count": 499,
   "metadata": {},
   "outputs": [],
   "source": [
    "#no text processing\n",
    "df = pd.DataFrame()\n",
    "if not dHarassment.empty:\n",
    "    vectorizer = TfidfVectorizer()\n",
    "    dHar = vectorizer.fit_transform(dHarassment['message'])\n",
    "    features = vectorizer.get_feature_names()\n",
    "    df = pd.DataFrame(dHar.toarray(), columns=features)\n",
    "    vals = df.sum(axis = 0, skipna = True)\n",
    "    vals = vals.sort_values(ascending=False)"
   ]
  },
  {
   "cell_type": "code",
   "execution_count": 500,
   "metadata": {},
   "outputs": [],
   "source": [
    "#stop words removed\n",
    "df1 = pd.DataFrame()\n",
    "if not dHarassment.empty:\n",
    "    vectorizer = TfidfVectorizer()\n",
    "    dHar = vectorizer.fit_transform(dHarassment['stop_words'])\n",
    "    features = vectorizer.get_feature_names()\n",
    "    df1 = pd.DataFrame(dHar.toarray(), columns=features)\n",
    "    vals1 = df1.sum(axis = 0, skipna = True)\n",
    "    vals1 = vals1.sort_values(ascending=False)"
   ]
  },
  {
   "cell_type": "code",
   "execution_count": 501,
   "metadata": {},
   "outputs": [
    {
     "data": {
      "text/html": [
       "<div>\n",
       "<style scoped>\n",
       "    .dataframe tbody tr th:only-of-type {\n",
       "        vertical-align: middle;\n",
       "    }\n",
       "\n",
       "    .dataframe tbody tr th {\n",
       "        vertical-align: top;\n",
       "    }\n",
       "\n",
       "    .dataframe thead th {\n",
       "        text-align: right;\n",
       "    }\n",
       "</style>\n",
       "<table border=\"1\" class=\"dataframe\">\n",
       "  <thead>\n",
       "    <tr style=\"text-align: right;\">\n",
       "      <th></th>\n",
       "    </tr>\n",
       "  </thead>\n",
       "  <tbody>\n",
       "  </tbody>\n",
       "</table>\n",
       "</div>"
      ],
      "text/plain": [
       "Empty DataFrame\n",
       "Columns: []\n",
       "Index: []"
      ]
     },
     "execution_count": 501,
     "metadata": {},
     "output_type": "execute_result"
    }
   ],
   "source": [
    "df.head()"
   ]
  },
  {
   "cell_type": "code",
   "execution_count": 502,
   "metadata": {},
   "outputs": [
    {
     "data": {
      "text/html": [
       "<div>\n",
       "<style scoped>\n",
       "    .dataframe tbody tr th:only-of-type {\n",
       "        vertical-align: middle;\n",
       "    }\n",
       "\n",
       "    .dataframe tbody tr th {\n",
       "        vertical-align: top;\n",
       "    }\n",
       "\n",
       "    .dataframe thead th {\n",
       "        text-align: right;\n",
       "    }\n",
       "</style>\n",
       "<table border=\"1\" class=\"dataframe\">\n",
       "  <thead>\n",
       "    <tr style=\"text-align: right;\">\n",
       "      <th></th>\n",
       "    </tr>\n",
       "  </thead>\n",
       "  <tbody>\n",
       "  </tbody>\n",
       "</table>\n",
       "</div>"
      ],
      "text/plain": [
       "Empty DataFrame\n",
       "Columns: []\n",
       "Index: []"
      ]
     },
     "execution_count": 502,
     "metadata": {},
     "output_type": "execute_result"
    }
   ],
   "source": [
    "df1.head()"
   ]
  },
  {
   "cell_type": "code",
   "execution_count": 503,
   "metadata": {},
   "outputs": [],
   "source": [
    "if not dHarassment.empty:\n",
    "    vals = vals[0:10]\n",
    "    vals.plot.bar()"
   ]
  },
  {
   "cell_type": "code",
   "execution_count": 504,
   "metadata": {},
   "outputs": [],
   "source": [
    "if not dHarassment.empty:\n",
    "    vals1 = vals1[0:10]\n",
    "    vals1.plot.bar()"
   ]
  },
  {
   "cell_type": "markdown",
   "metadata": {},
   "source": [
    "#### TFIDF on Hate Speech"
   ]
  },
  {
   "cell_type": "code",
   "execution_count": 505,
   "metadata": {},
   "outputs": [],
   "source": [
    "df = pd.DataFrame()\n",
    "if not hSpeech.empty:\n",
    "    vectorizer = TfidfVectorizer()\n",
    "    hSpe = vectorizer.fit_transform(hSpeech['message'])\n",
    "    features = vectorizer.get_feature_names()\n",
    "    df = pd.DataFrame(hSpe.toarray(), columns=features)\n",
    "    vals = df.sum(axis = 0, skipna = True)\n",
    "    vals = vals.sort_values(ascending=False)"
   ]
  },
  {
   "cell_type": "code",
   "execution_count": 506,
   "metadata": {},
   "outputs": [],
   "source": [
    "#stop words removed\n",
    "df1 = pd.DataFrame()\n",
    "if not hSpeech.empty:\n",
    "    vectorizer = TfidfVectorizer()\n",
    "    hSpe = vectorizer.fit_transform(hSpeech['stop_words'])\n",
    "    features = vectorizer.get_feature_names()\n",
    "    df1 = pd.DataFrame(hSpe.toarray(), columns=features)\n",
    "    vals1 = df1.sum(axis = 0, skipna = True)\n",
    "    vals1 = vals1.sort_values(ascending=False)"
   ]
  },
  {
   "cell_type": "code",
   "execution_count": 507,
   "metadata": {},
   "outputs": [
    {
     "data": {
      "image/png": "[encoded data removed]",
      "text/plain": [
       "<Figure size 432x288 with 1 Axes>"
      ]
     },
     "metadata": {
      "needs_background": "light"
     },
     "output_type": "display_data"
    }
   ],
   "source": [
    "if not hSpeech.empty:\n",
    "    vals = vals[0:10]\n",
    "    vals.plot.bar()"
   ]
  },
  {
   "cell_type": "code",
   "execution_count": 508,
   "metadata": {},
   "outputs": [
    {
     "data": {
      "image/png": "[encoded data removed]",
      "text/plain": [
       "<Figure size 432x288 with 1 Axes>"
      ]
     },
     "metadata": {
      "needs_background": "light"
     },
     "output_type": "display_data"
    }
   ],
   "source": [
    "if not hSpeech.empty:\n",
    "    vals1 = vals1[0:10]\n",
    "    vals1.plot.bar()"
   ]
  },
  {
   "cell_type": "markdown",
   "metadata": {},
   "source": [
    "#### TFIDF on Sexual Harassment"
   ]
  },
  {
   "cell_type": "code",
   "execution_count": 509,
   "metadata": {},
   "outputs": [],
   "source": [
    "df = pd.DataFrame()\n",
    "if not sHarassment.empty:\n",
    "    vectorizer = TfidfVectorizer()\n",
    "    sHar = vectorizer.fit_transform(sHarassment['message'])\n",
    "    features = vectorizer.get_feature_names()\n",
    "    df = pd.DataFrame(sHar.toarray(), columns=features)\n",
    "    vals = df.sum(axis = 0, skipna = True)\n",
    "    vals = vals.sort_values(ascending=False)"
   ]
  },
  {
   "cell_type": "code",
   "execution_count": 510,
   "metadata": {},
   "outputs": [],
   "source": [
    "#stop words removed\n",
    "df1 = pd.DataFrame()\n",
    "if not sHarassment.empty:\n",
    "    vectorizer = TfidfVectorizer()\n",
    "    sHar = vectorizer.fit_transform(sHarassment['stop_words'])\n",
    "    features = vectorizer.get_feature_names()\n",
    "    df1 = pd.DataFrame(sHar.toarray(), columns=features)\n",
    "    vals1 = df1.sum(axis = 0, skipna = True)\n",
    "    vals1 = vals1.sort_values(ascending=False)"
   ]
  },
  {
   "cell_type": "code",
   "execution_count": 511,
   "metadata": {},
   "outputs": [],
   "source": [
    "if not sHarassment.empty:\n",
    "    vals = vals[0:10]\n",
    "    vals.plot.bar()"
   ]
  },
  {
   "cell_type": "code",
   "execution_count": 512,
   "metadata": {},
   "outputs": [],
   "source": [
    "if not sHarassment.empty:\n",
    "    vals1 = vals1[0:10]\n",
    "    vals1.plot.bar()"
   ]
  },
  {
   "cell_type": "markdown",
   "metadata": {},
   "source": [
    "#### TFIDF on Trolling"
   ]
  },
  {
   "cell_type": "code",
   "execution_count": 513,
   "metadata": {},
   "outputs": [],
   "source": [
    "df = pd.DataFrame()\n",
    "if not trolling.empty:\n",
    "    vectorizer = TfidfVectorizer()\n",
    "    troll = vectorizer.fit_transform(trolling['message'])\n",
    "    features = vectorizer.get_feature_names()\n",
    "    df = pd.DataFrame(troll.toarray(), columns=features)\n",
    "    vals = df.sum(axis = 0, skipna = True)\n",
    "    vals = vals.sort_values(ascending=False)"
   ]
  },
  {
   "cell_type": "code",
   "execution_count": 514,
   "metadata": {},
   "outputs": [],
   "source": [
    "#stop words removed\n",
    "df1 = pd.DataFrame()\n",
    "if not trolling.empty:\n",
    "    vectorizer = TfidfVectorizer()\n",
    "    troll = vectorizer.fit_transform(trolling['stop_words'])\n",
    "    features = vectorizer.get_feature_names()\n",
    "    df1 = pd.DataFrame(troll.toarray(), columns=features)\n",
    "    vals1 = df1.sum(axis = 0, skipna = True)\n",
    "    vals1 = vals1.sort_values(ascending=False)"
   ]
  },
  {
   "cell_type": "code",
   "execution_count": 515,
   "metadata": {},
   "outputs": [
    {
     "data": {
      "image/png": "[encoded data removed]",
      "text/plain": [
       "<Figure size 432x288 with 1 Axes>"
      ]
     },
     "metadata": {
      "needs_background": "light"
     },
     "output_type": "display_data"
    }
   ],
   "source": [
    "if not trolling.empty:\n",
    "    vals = vals[0:10]\n",
    "    vals.plot.bar()"
   ]
  },
  {
   "cell_type": "code",
   "execution_count": 516,
   "metadata": {},
   "outputs": [
    {
     "data": {
      "image/png": "[encoded data removed]",
      "text/plain": [
       "<Figure size 432x288 with 1 Axes>"
      ]
     },
     "metadata": {
      "needs_background": "light"
     },
     "output_type": "display_data"
    }
   ],
   "source": [
    "if not trolling.empty:\n",
    "    vals1 = vals1[0:10]\n",
    "    vals1.plot.bar()"
   ]
  },
  {
   "cell_type": "markdown",
   "metadata": {},
   "source": [
    "#### TFIDF on Others"
   ]
  },
  {
   "cell_type": "code",
   "execution_count": 517,
   "metadata": {},
   "outputs": [],
   "source": [
    "df = pd.DataFrame()\n",
    "if not others.empty:\n",
    "    vectorizer = TfidfVectorizer()\n",
    "    oth = vectorizer.fit_transform(others['message'])\n",
    "    features = vectorizer.get_feature_names()\n",
    "    df = pd.DataFrame(oth.toarray(), columns=features)\n",
    "    vals = df.sum(axis = 0, skipna = True)\n",
    "    vals = vals.sort_values(ascending=False)"
   ]
  },
  {
   "cell_type": "code",
   "execution_count": 518,
   "metadata": {},
   "outputs": [],
   "source": [
    "#stop words removed\n",
    "df1 = pd.DataFrame()\n",
    "if not others.empty:\n",
    "    vectorizer = TfidfVectorizer()\n",
    "    oth = vectorizer.fit_transform(others['stop_words'])\n",
    "    features = vectorizer.get_feature_names()\n",
    "    df1 = pd.DataFrame(oth.toarray(), columns=features)\n",
    "    vals1 = df1.sum(axis = 0, skipna = True)\n",
    "    vals1 = vals1.sort_values(ascending=False)"
   ]
  },
  {
   "cell_type": "code",
   "execution_count": 519,
   "metadata": {},
   "outputs": [],
   "source": [
    "if not others.empty:\n",
    "    vals = vals[0:10]\n",
    "    vals.plot.bar()"
   ]
  },
  {
   "cell_type": "code",
   "execution_count": 520,
   "metadata": {},
   "outputs": [],
   "source": [
    "if not others.empty:\n",
    "    vals1 = vals1[0:10]\n",
    "    vals1.plot.bar()"
   ]
  },
  {
   "cell_type": "markdown",
   "metadata": {},
   "source": [
    "#### TFIDF on Toxic"
   ]
  },
  {
   "cell_type": "code",
   "execution_count": 521,
   "metadata": {},
   "outputs": [],
   "source": [
    "df = pd.DataFrame()\n",
    "if not toxic.empty:\n",
    "    vectorizer = TfidfVectorizer()\n",
    "    tox = vectorizer.fit_transform(toxic['message'])\n",
    "    features = vectorizer.get_feature_names()\n",
    "    df = pd.DataFrame(tox.toarray(), columns=features)\n",
    "    vals = df.sum(axis = 0, skipna = True)\n",
    "    vals = vals.sort_values(ascending=False)"
   ]
  },
  {
   "cell_type": "code",
   "execution_count": 522,
   "metadata": {},
   "outputs": [],
   "source": [
    "#stop words removed\n",
    "df1 = pd.DataFrame()\n",
    "if not toxic.empty:\n",
    "    vectorizer = TfidfVectorizer()\n",
    "    tox = vectorizer.fit_transform(toxic['stop_words'])\n",
    "    features = vectorizer.get_feature_names()\n",
    "    df1 = pd.DataFrame(tox.toarray(), columns=features)\n",
    "    vals1 = df1.sum(axis = 0, skipna = True)\n",
    "    vals1 = vals1.sort_values(ascending=False)"
   ]
  },
  {
   "cell_type": "code",
   "execution_count": 523,
   "metadata": {},
   "outputs": [],
   "source": [
    "if not toxic.empty:\n",
    "    vals = vals[0:10]\n",
    "    vals.plot.bar()"
   ]
  },
  {
   "cell_type": "code",
   "execution_count": 524,
   "metadata": {},
   "outputs": [],
   "source": [
    "if not toxic.empty:\n",
    "    vals1 = vals1[0:10]\n",
    "    vals1.plot.bar()"
   ]
  },
  {
   "cell_type": "code",
   "execution_count": 525,
   "metadata": {},
   "outputs": [],
   "source": [
    "if not toxic.empty:\n",
    "    arr = toxic['message'].to_list()\n",
    "    arr \n",
    "    len(arr)"
   ]
  },
  {
   "cell_type": "code",
   "execution_count": 526,
   "metadata": {},
   "outputs": [
    {
     "data": {
      "text/html": [
       "<div>\n",
       "<style scoped>\n",
       "    .dataframe tbody tr th:only-of-type {\n",
       "        vertical-align: middle;\n",
       "    }\n",
       "\n",
       "    .dataframe tbody tr th {\n",
       "        vertical-align: top;\n",
       "    }\n",
       "\n",
       "    .dataframe thead th {\n",
       "        text-align: right;\n",
       "    }\n",
       "</style>\n",
       "<table border=\"1\" class=\"dataframe\">\n",
       "  <thead>\n",
       "    <tr style=\"text-align: right;\">\n",
       "      <th></th>\n",
       "    </tr>\n",
       "  </thead>\n",
       "  <tbody>\n",
       "  </tbody>\n",
       "</table>\n",
       "</div>"
      ],
      "text/plain": [
       "Empty DataFrame\n",
       "Columns: []\n",
       "Index: []"
      ]
     },
     "execution_count": 526,
     "metadata": {},
     "output_type": "execute_result"
    }
   ],
   "source": [
    "newDF = pd.DataFrame()\n",
    "if not toxic.empty:\n",
    "    results = Detoxify('unbiased').predict(arr)\n",
    "    newDF = pd.DataFrame(results, index=arr).round(5)\n",
    "newDF"
   ]
  },
  {
   "cell_type": "code",
   "execution_count": null,
   "metadata": {},
   "outputs": [],
   "source": []
  }
 ],
 "metadata": {
  "kernelspec": {
   "display_name": "Python 3",
   "language": "python",
   "name": "python3"
  },
  "language_info": {
   "codemirror_mode": {
    "name": "ipython",
    "version": 3
   },
   "file_extension": ".py",
   "mimetype": "text/x-python",
   "name": "python",
   "nbconvert_exporter": "python",
   "pygments_lexer": "ipython3",
   "version": "3.8.5"
  }
 },
 "nbformat": 4,
 "nbformat_minor": 4
}
