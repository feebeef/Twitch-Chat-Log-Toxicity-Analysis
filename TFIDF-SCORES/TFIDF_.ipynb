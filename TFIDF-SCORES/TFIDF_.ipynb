{
 "cells": [
  {
   "cell_type": "code",
   "execution_count": 1,
   "metadata": {},
   "outputs": [],
   "source": [
    "import pandas as pd\n",
    "import numpy as np\n",
    "import nltk\n",
    "import time\n",
    "import matplotlib.pyplot as plt\n",
    "import seaborn as sns\n",
    "import os, glob\n",
    "import csv\n",
    "from functools import reduce\n",
    "import re\n",
    "import string"
   ]
  },
  {
   "cell_type": "code",
   "execution_count": 2,
   "metadata": {},
   "outputs": [
    {
     "name": "stdout",
     "output_type": "stream",
     "text": [
      "['foxnews_FULL.csv', 'rae_FULL.csv', 'terror_FULL.csv', 'usanews.csv', 'pew0.csv', 'nogla0.csv', 'drdisrespect_FULL.csv', 'gaming_channels_GENRE.csv', 'news_channel_GENRE.csv']\n"
     ]
    }
   ],
   "source": [
    "import numpy as np\n",
    "labels = [\"Direct Harassment\", \"Hate Speech\",\"Sexual Harassment\",\"Trolling\", \"Others\", \"Toxic\"]\n",
    "\n",
    "batch_files = ['usanews.csv', 'foxnews0.csv', 'foxnews1.csv', 'foxnews2.csv', 'foxnews3.csv', \n",
    "                'nogla0.csv','pew0.csv', 'rae0_0.csv', \n",
    "                 'rae0_1.csv', 'terror0_0.csv', 'terror0_1.csv']\n",
    "\n",
    "vid_files = [\"foxnews_FULL.csv\", \"rae_FULL.csv\",  \"terror_FULL.csv\",\n",
    "             \"usanews.csv\" , \"pew0.csv\", \"nogla0.csv\", \"drdisrespect_FULL.csv\"]\n",
    "genre_files = [\"gaming_channels_GENRE.csv\", \"news_channel_GENRE.csv\" ]\n",
    "\n",
    "files = []\n",
    "files.extend(vid_files)\n",
    "files.extend(genre_files)\n",
    "print(files)\n"
   ]
  },
  {
   "cell_type": "code",
   "execution_count": 3,
   "metadata": {},
   "outputs": [],
   "source": [
    "from sklearn.feature_extraction.text import TfidfVectorizer\n",
    "def get_tfidf_vect(documents, a, b):\n",
    "    vectorizer = TfidfVectorizer(ngram_range=(a,b), max_df=0.85, analyzer = 'word', min_df=1, max_features=10000, stop_words='english', lowercase=True)\n",
    "    vector = vectorizer.fit_transform(documents)\n",
    "    feature_names = np.array(vectorizer.get_feature_names())\n",
    "    return pd.DataFrame(vector.todense(), columns=feature_names), vector, feature_names"
   ]
  },
  {
   "cell_type": "code",
   "execution_count": 4,
   "metadata": {},
   "outputs": [],
   "source": [
    "def get_combined_tfidf_values_per_label(tfidf_df):\n",
    "    combined_tfidf = pd.DataFrame(columns= (list(features) + labels))\n",
    "    for label in labels:\n",
    "        combined_scores = tfidf_df[tfidf_df[label] == 1][features].sum()\n",
    "        to_append = list(combined_scores) + [0,0,0,0,0,0]\n",
    "        row = pd.Series(to_append, index = (list(features) + labels))\n",
    "        combined_tfidf = combined_tfidf.append(row, ignore_index=True)\n",
    "        combined_tfidf.loc[combined_tfidf.index[-1],label] = 1.0\n",
    "    return combined_tfidf"
   ]
  },
  {
   "cell_type": "code",
   "execution_count": 5,
   "metadata": {},
   "outputs": [],
   "source": [
    "from scipy.stats import spearmanr\n",
    "def get_corr_vals(df):\n",
    "    features = df.columns.difference(labels)\n",
    "    pvals = {}\n",
    "    spm = {}\n",
    "    for label in labels:\n",
    "        p_values = {}\n",
    "        sp_coeff = {}\n",
    "        for f in features:\n",
    "            #print(f)\n",
    "            sp, pval = spearmanr(df[label], df[f])\n",
    "            p_values[f] = pval\n",
    "            sp_coeff[f] = sp\n",
    "        pvals[label + \" p-val\"] = p_values\n",
    "        spm[label + \" corr coeff\"] = sp_coeff\n",
    "        \n",
    "        x = pd.DataFrame.from_dict(pvals)\n",
    "        y = pd.DataFrame.from_dict(spm)\n",
    "        z = pd.concat([x,y], axis=1)\n",
    "        z = z.reindex(sorted(z.columns), axis=1)\n",
    "    return z\n"
   ]
  },
  {
   "cell_type": "code",
   "execution_count": 13,
   "metadata": {},
   "outputs": [],
   "source": [
    "src_folder = \"../Annotations/CSVs/\"\n",
    "dest_folder = \"tfidf_scores_WORDS_per_video/\"\n",
    "\n",
    "for file in files:\n",
    "    #read file\n",
    "    df = pd.read_csv(src_folder + file, index_col = 0)\n",
    "    #get words, POS SEQ\n",
    "    df[\"words\"] = df[\"words\"].replace(np.nan, '', regex=True)\n",
    "    \n",
    "    #tfidf of words\n",
    "    tfidf_df, vector, features = get_tfidf_vect(df['words'], 2,3)\n",
    "    tfidf_df[labels] = df[labels] #add tthe labels\n",
    "    \n",
    "    #combine tfidf values per label\n",
    "    combined_tfidf = get_combined_tfidf_values_per_label(tfidf_df)\n",
    "    combined_tfidf.to_csv(dest_folder + file)\n",
    "    "
   ]
  },
  {
   "cell_type": "code",
   "execution_count": null,
   "metadata": {},
   "outputs": [],
   "source": [
    "#pd.concat([d.reset_index(drop=True) for d in [df1, df2]], axis=1)"
   ]
  },
  {
   "cell_type": "markdown",
   "metadata": {},
   "source": [
    "# Word/s Correlation"
   ]
  },
  {
   "cell_type": "code",
   "execution_count": 6,
   "metadata": {},
   "outputs": [
    {
     "name": "stderr",
     "output_type": "stream",
     "text": [
      "C:\\Users\\Phoebe\\anaconda3\\lib\\site-packages\\scipy\\stats\\stats.py:4196: SpearmanRConstantInputWarning: An input array is constant; the correlation coefficent is not defined.\n",
      "  warnings.warn(SpearmanRConstantInputWarning())\n"
     ]
    }
   ],
   "source": [
    "src_folder = \"tfidf_scores_WORDS_per_video/\"\n",
    "dest_folder = \"corr_words_per_label/\"\n",
    "for file in files:\n",
    "    #read file\n",
    "    df = pd.read_csv(src_folder + file, index_col = 0)\n",
    "    df = get_corr_vals(df)\n",
    "    df.to_csv(\"corr_words_per_label/\" + file)"
   ]
  },
  {
   "cell_type": "markdown",
   "metadata": {},
   "source": [
    "# POS Tag TFIDF"
   ]
  },
  {
   "cell_type": "code",
   "execution_count": 13,
   "metadata": {},
   "outputs": [],
   "source": [
    "files = [\"foxnews_FULL.csv\", \"rae_FULL.csv\",  \"terror_FULL.csv\",\n",
    "             \"usanews.csv\" , \"pew0.csv\", \"nogla0.csv\", \"gaming_channels_GENRE.csv\", \"news_channel_GENRE.csv\" , \"drdisrespect_FULL.csv\"]\n",
    "\n",
    "src_folder = \"../Annotations/CSVs/\"\n",
    "dest_folder = \"tfidf_scores_POS_per_video/\"\n",
    "\n",
    "for file in files:\n",
    "    #read file\n",
    "    df = pd.read_csv(src_folder + file, index_col = 0)\n",
    "    #get words, POS SEQ\n",
    "    df[\"POS-SEQ\"] = df[\"POS-SEQ\"].replace(np.nan, '', regex=True)\n",
    "    \n",
    "    #tfidf of words\n",
    "    tfidf_df, vector, features = get_tfidf_vect(df['POS-SEQ'], 2,3)\n",
    "    tfidf_df[labels] = df[labels] #add tthe labels\n",
    "    \n",
    "    #combine tfidf values per label\n",
    "    combined_tfidf = get_combined_tfidf_values_per_label(tfidf_df)\n",
    "    combined_tfidf.to_csv(dest_folder + file)\n",
    "    "
   ]
  },
  {
   "cell_type": "markdown",
   "metadata": {},
   "source": [
    "# POS TAG Correlational"
   ]
  },
  {
   "cell_type": "code",
   "execution_count": 14,
   "metadata": {},
   "outputs": [],
   "source": [
    "src_folder = \"tfidf_scores_POS_per_video/\"\n",
    "dest_folder = \"corr_pos_seq_per_label/\"\n",
    "\n",
    "for file in files:\n",
    "    #read file\n",
    "    df = pd.read_csv(src_folder + file, index_col = 0)\n",
    "    df = get_corr_vals(df)\n",
    "    df.to_csv(dest_folder + file)"
   ]
  },
  {
   "cell_type": "code",
   "execution_count": null,
   "metadata": {},
   "outputs": [],
   "source": []
  }
 ],
 "metadata": {
  "kernelspec": {
   "display_name": "Python 3",
   "language": "python",
   "name": "python3"
  },
  "language_info": {
   "codemirror_mode": {
    "name": "ipython",
    "version": 3
   },
   "file_extension": ".py",
   "mimetype": "text/x-python",
   "name": "python",
   "nbconvert_exporter": "python",
   "pygments_lexer": "ipython3",
   "version": "3.8.5"
  }
 },
 "nbformat": 4,
 "nbformat_minor": 4
}
