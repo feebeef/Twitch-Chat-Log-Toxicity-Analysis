{
 "cells": [
  {
   "cell_type": "code",
   "execution_count": 481,
   "metadata": {},
   "outputs": [],
   "source": [
    "#https://stackoverflow.com/questions/20186344/ipynb-import-another-ipynb-file\n",
    "#dependencies seaborn, import_ipynb\n",
    "import import_ipynb\n",
    "import seaborn as sb"
   ]
  },
  {
   "cell_type": "code",
   "execution_count": 208,
   "metadata": {},
   "outputs": [],
   "source": [
    "import pandas as pd\n",
    "import numpy as np\n",
    "import os\n",
    "\n",
    "from nltk import agreement\n",
    "#data = pd.read_csv('FremontBridge.csv', index_col='Date', parse_dates=True)\n",
    "#data.head()\n",
    "#number of batches\n",
    "batches = 14\n",
    "#returns streams dataframe with kappa values for each\n",
    "class BatchMerger:\n",
    "    \n",
    "    def __init__(self, name, batch_numbers):\n",
    "        self.name = name\n",
    "        self.batch_numbers = batch_numbers\n",
    "        self.folder = \"Annotations/Batch \"\n",
    "        self.batch_numbers = batch_numbers\n",
    "        self.labels =  [\"Direct Harassment\", \"Hate Speech\", \"Sexual Harassment\", \"Trolling\", \"Others\", \"Toxic\"]\n",
    "        \n",
    "    \n",
    "    def __getFilePaths(self, batch_number):\n",
    "            batch_number = (\"0\" if batch_number>10 else \"00\") + str(batch_number) + \"/\"\n",
    "            path = self.folder + batch_number\n",
    "            return [path+fn for fn in list(os.listdir(path)) if fn.endswith(\".csv\")]\n",
    "    \n",
    "    def __convertFilesToDataFrames(self, files):\n",
    "        dfs = [(pd.read_csv(file)\n",
    "                 .replace(r'^\\s*$', np.nan, regex=True)\n",
    "                 .fillna(0)\n",
    "                 .replace(np.nan,0))\n",
    "                 for file in files ]\n",
    "        for df in dfs:\n",
    "            df[self.labels] = df[self.labels].astype(float)\n",
    "            df.drop('Unnamed: 0', inplace=True, axis=1)\n",
    "        return dfs\n",
    "    \n",
    "    def __getKapaScores(self, dataframes, bn):\n",
    "        kapa_scores = {}\n",
    "        formatted_codes = []\n",
    "        for label in self.labels:\n",
    "            col_code1 = dataframes[0][label]\n",
    "            col_code2 = dataframes[1][label]\n",
    "            col_code3 = dataframes[2][label]\n",
    "            formatted_codes =  [[1,i,col_code1[i]] for i in range(len(col_code1))] + [[2,i,col_code2[i]] for i in range(len(col_code2))] + [[3,i,col_code3[i]] for i in range(len(col_code3))]\n",
    "            kappa = agreement.AnnotationTask(data=formatted_codes)\n",
    "            try:\n",
    "                kappa = kappa.multi_kappa()\n",
    "            except ZeroDivisionError:\n",
    "                kappa = 1.0\n",
    "            kapa_scores[label] = kappa\n",
    "        return pd.DataFrame(list(kapa_scores.values()), index = [self.labels], columns = ['Batch ' + str(bn)]).T\n",
    "    \n",
    "    def run_kappa(self):\n",
    "        kappa_scores = []\n",
    "        for bn in self.batch_numbers:\n",
    "            files = self.__getFilePaths(bn) #print(files)\n",
    "            dataframes = self.__convertFilesToDataFrames(files)\n",
    "            kappa_scores.append(self.__getKapaScores(dataframes, bn))\n",
    "        \n",
    "        display(pd.concat(kappa_scores))\n",
    "            "
   ]
  },
  {
   "cell_type": "code",
   "execution_count": 209,
   "metadata": {},
   "outputs": [
    {
     "data": {
      "text/html": [
       "<div>\n",
       "<style scoped>\n",
       "    .dataframe tbody tr th:only-of-type {\n",
       "        vertical-align: middle;\n",
       "    }\n",
       "\n",
       "    .dataframe tbody tr th {\n",
       "        vertical-align: top;\n",
       "    }\n",
       "\n",
       "    .dataframe thead tr th {\n",
       "        text-align: left;\n",
       "    }\n",
       "</style>\n",
       "<table border=\"1\" class=\"dataframe\">\n",
       "  <thead>\n",
       "    <tr>\n",
       "      <th></th>\n",
       "      <th>Direct Harassment</th>\n",
       "      <th>Hate Speech</th>\n",
       "      <th>Sexual Harassment</th>\n",
       "      <th>Trolling</th>\n",
       "      <th>Others</th>\n",
       "      <th>Toxic</th>\n",
       "    </tr>\n",
       "  </thead>\n",
       "  <tbody>\n",
       "    <tr>\n",
       "      <th>Batch1</th>\n",
       "      <td>0.268640</td>\n",
       "      <td>0.214844</td>\n",
       "      <td>0.089585</td>\n",
       "      <td>0.334526</td>\n",
       "      <td>0.046781</td>\n",
       "      <td>0.171894</td>\n",
       "    </tr>\n",
       "    <tr>\n",
       "      <th>Batch2</th>\n",
       "      <td>0.218001</td>\n",
       "      <td>0.182441</td>\n",
       "      <td>0.260770</td>\n",
       "      <td>0.111427</td>\n",
       "      <td>0.018003</td>\n",
       "      <td>0.112156</td>\n",
       "    </tr>\n",
       "  </tbody>\n",
       "</table>\n",
       "</div>"
      ],
      "text/plain": [
       "       Direct Harassment Hate Speech Sexual Harassment  Trolling    Others  \\\n",
       "Batch1          0.268640    0.214844          0.089585  0.334526  0.046781   \n",
       "Batch2          0.218001    0.182441          0.260770  0.111427  0.018003   \n",
       "\n",
       "           Toxic  \n",
       "Batch1  0.171894  \n",
       "Batch2  0.112156  "
      ]
     },
     "metadata": {},
     "output_type": "display_data"
    }
   ],
   "source": [
    "b = BatchMerger(\"Test\", [1,2])\n",
    "usa_news = b.run_kappa()\n"
   ]
  },
  {
   "cell_type": "code",
   "execution_count": 138,
   "metadata": {},
   "outputs": [],
   "source": [
    "#os.listdir('Annotations/Batch 001')"
   ]
  },
  {
   "cell_type": "code",
   "execution_count": null,
   "metadata": {},
   "outputs": [],
   "source": []
  },
  {
   "cell_type": "code",
   "execution_count": null,
   "metadata": {},
   "outputs": [],
   "source": []
  }
 ],
 "metadata": {
  "kernelspec": {
   "display_name": "Python 3",
   "language": "python",
   "name": "python3"
  },
  "language_info": {
   "codemirror_mode": {
    "name": "ipython",
    "version": 3
   },
   "file_extension": ".py",
   "mimetype": "text/x-python",
   "name": "python",
   "nbconvert_exporter": "python",
   "pygments_lexer": "ipython3",
   "version": "3.8.5"
  }
 },
 "nbformat": 4,
 "nbformat_minor": 4
}
