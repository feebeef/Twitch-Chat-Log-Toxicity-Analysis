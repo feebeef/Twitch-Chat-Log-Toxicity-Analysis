{
 "cells": [
  {
   "cell_type": "markdown",
   "metadata": {},
   "source": [
    "# Scripts for calculating Kappas"
   ]
  },
  {
   "cell_type": "markdown",
   "metadata": {},
   "source": [
    "#### Import Libraries"
   ]
  },
  {
   "cell_type": "code",
   "execution_count": 90,
   "metadata": {},
   "outputs": [],
   "source": [
    "from nltk import agreement\n",
    "import pandas as pd\n",
    "import os, glob\n",
    "import numpy as np\n",
    "import seaborn as sns\n",
    "import matplotlib.pyplot as plt"
   ]
  },
  {
   "cell_type": "markdown",
   "metadata": {},
   "source": [
    "## Kappas per Batch\n",
    "ref: https://learnaitech.com/how-to-compute-inter-rater-reliablity-metrics-cohens-kappa-fleisss-kappa-cronbach-alpha-kripndorff-alpha-scotts-pi-inter-class-correlation-in-python/"
   ]
  },
  {
   "cell_type": "code",
   "execution_count": 91,
   "metadata": {},
   "outputs": [
    {
     "name": "stdout",
     "output_type": "stream",
     "text": [
      "aless_enri.csv\n",
      "faye_posadas.csv\n",
      "kate_ermitano.csv\n",
      "['aless_enri.csv', 'faye_posadas.csv', 'kate_ermitano.csv']\n"
     ]
    }
   ],
   "source": [
    "os.chdir(\"D:\\Programs\\Jupyter Notebooks\\IAA\\Annotations\\Batch 004\") # CHANGE VALUE PER BATCH\n",
    "files = []\n",
    "for file in glob.glob(\"*.csv\"):\n",
    "    print(file)\n",
    "    files.append(file)\n",
    "    \n",
    "print(files)"
   ]
  },
  {
   "cell_type": "code",
   "execution_count": 92,
   "metadata": {
    "scrolled": true
   },
   "outputs": [],
   "source": [
    "coder1 = pd.read_csv(files[0])\n",
    "coder1.fillna(0)\n",
    "coder2 = pd.read_csv(files[1])\n",
    "coder2.fillna(0)\n",
    "coder3 = pd.read_excel('usanews0full_3.xlsx')\n",
    "coder3.fillna(0)\n",
    "\n",
    "coder1 = coder1.replace(np.nan,0)\n",
    "coder2 = coder2.replace(np.nan,0)\n",
    "coder3 = coder3.replace(np.nan,0)"
   ]
  },
  {
   "cell_type": "code",
   "execution_count": 93,
   "metadata": {},
   "outputs": [],
   "source": [
    "coder1.drop(coder1.columns.difference(['Direct Harassment','Hate Speech', 'Sexual Harassment', 'Trolling', 'Others', 'Toxic']), 1, inplace=True)\n",
    "coder2.drop(coder2.columns.difference(['Direct Harassment','Hate Speech', 'Sexual Harassment', 'Trolling', 'Others', 'Toxic']), 1, inplace=True)\n",
    "coder3.drop(coder3.columns.difference(['Direct Harassment','Hate Speech', 'Sexual Harassment', 'Trolling', 'Others', 'Toxic']), 1, inplace=True)\n",
    "\n",
    "columns = coder1.columns\n"
   ]
  },
  {
   "cell_type": "code",
   "execution_count": 94,
   "metadata": {},
   "outputs": [
    {
     "name": "stdout",
     "output_type": "stream",
     "text": [
      "Direct Harassment: 0.6120752785075196\n",
      "Hate Speech: 0.5238590403844156\n",
      "Sexual Harassment: 0.4648829431438333\n",
      "Trolling: 0.5376277219654975\n",
      "Others: 0.46674277474013154\n",
      "Toxic: 0.4202460173422055\n"
     ]
    }
   ],
   "source": [
    "data = []\n",
    "for col in columns:\n",
    "    col_code1 = coder1[col]\n",
    "    col_code2 = coder2[col]\n",
    "    col_code3 = coder3[col]\n",
    "    \n",
    "    formatted_codes = [[1,i,col_code1[i]] for i in range(len(col_code1))] + [[2,i,col_code2[i]] for i in range(len(col_code2))]  + [[3,i,col_code3[i]] for i in range(len(col_code3))]\n",
    "    kappa = agreement.AnnotationTask(data=formatted_codes)\n",
    "    kappa = kappa.multi_kappa()\n",
    "    print(f'{col}: {kappa}')\n",
    "    data.append(kappa)"
   ]
  },
  {
   "cell_type": "code",
   "execution_count": 95,
   "metadata": {},
   "outputs": [
    {
     "data": {
      "image/png": "[encoded data removed]",
      "text/plain": [
       "<Figure size 432x288 with 1 Axes>"
      ]
     },
     "metadata": {
      "needs_background": "light"
     },
     "output_type": "display_data"
    }
   ],
   "source": [
    "objects = ('Direct Harassment', 'Hate Speech', 'Sexual Harassment', 'Trolling', 'Others', 'Toxic')\n",
    "y_pos = np.arange(len(objects))\n",
    "\n",
    "plt.bar(y_pos, data, align='center', alpha=0.5)\n",
    "plt.xticks(y_pos, objects)\n",
    "plt.xticks(rotation=90)\n",
    "plt.ylabel('Kappa Score')\n",
    "plt.title('Fleiss Kappa Scores per Category')\n",
    "axes = plt.gca()\n",
    "axes.set_ylim([0,1])\n",
    "plt.show()"
   ]
  },
  {
   "cell_type": "markdown",
   "metadata": {},
   "source": [
    "## Kappas per Video"
   ]
  },
  {
   "cell_type": "markdown",
   "metadata": {},
   "source": [
    "## Kappas per Channel"
   ]
  },
  {
   "cell_type": "code",
   "execution_count": null,
   "metadata": {},
   "outputs": [],
   "source": []
  }
 ],
 "metadata": {
  "kernelspec": {
   "display_name": "Python 3",
   "language": "python",
   "name": "python3"
  },
  "language_info": {
   "codemirror_mode": {
    "name": "ipython",
    "version": 3
   },
   "file_extension": ".py",
   "mimetype": "text/x-python",
   "name": "python",
   "nbconvert_exporter": "python",
   "pygments_lexer": "ipython3",
   "version": "3.8.5"
  }
 },
 "nbformat": 4,
 "nbformat_minor": 4
}
