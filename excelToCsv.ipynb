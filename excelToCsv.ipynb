{
 "cells": [
  {
   "cell_type": "markdown",
   "metadata": {},
   "source": [
    "# Excel to CSV Convert\n",
    "Just to make life easier"
   ]
  },
  {
   "cell_type": "code",
   "execution_count": 72,
   "metadata": {},
   "outputs": [],
   "source": [
    "import pandas as pd\n",
    "import numpy as np\n",
    "import nltk\n",
    "from nltk.tokenize.toktok import ToktokTokenizer\n",
    "from nltk import word_tokenize, pos_tag_sents, pos_tag\n",
    "import re\n",
    "from bs4 import BeautifulSoup\n",
    "import unicodedata\n",
    "from nltk.stem import WordNetLemmatizer \n",
    "from nltk.corpus import stopwords\n",
    "from nltk.tokenize import word_tokenize\n",
    "from nltk.stem import PorterStemmer\n",
    "from string import punctuation\n",
    "import os, glob\n",
    "from sklearn.feature_extraction.text import TfidfVectorizer\n",
    "import matplotlib.pyplot as plt"
   ]
  },
  {
   "cell_type": "code",
   "execution_count": 73,
   "metadata": {},
   "outputs": [
    {
     "name": "stdout",
     "output_type": "stream",
     "text": [
      "marybelle_tandoc.xlsx\n",
      "samantha_santos.xlsx\n",
      "['marybelle_tandoc.xlsx', 'samantha_santos.xlsx']\n"
     ]
    }
   ],
   "source": [
    "os.chdir(\"D:\\Programs\\Jupyter Notebooks\\Thesis RIP Scripts\\Annotations\\Batch 014\") # CHANGE VALUE PER BATCH\n",
    "files = []\n",
    "for file in glob.glob(\"*.xlsx\"):\n",
    "    print(file)\n",
    "    files.append(file)\n",
    "    \n",
    "print(files)    "
   ]
  },
  {
   "cell_type": "code",
   "execution_count": 74,
   "metadata": {},
   "outputs": [],
   "source": [
    "for file in files:\n",
    "    df = pd.read_excel(file)\n",
    "    os.remove(file)\n",
    "    file = file.replace('.xlsx', '')\n",
    "    df.to_csv(file+'.csv', encoding='utf-8', index=False)"
   ]
  },
  {
   "cell_type": "code",
   "execution_count": 75,
   "metadata": {},
   "outputs": [
    {
     "name": "stdout",
     "output_type": "stream",
     "text": [
      "diego_manzano.csv\n",
      "marybelle_tandoc.csv\n",
      "samantha_santos.csv\n",
      "['diego_manzano.csv', 'marybelle_tandoc.csv', 'samantha_santos.csv']\n"
     ]
    }
   ],
   "source": [
    "#os.chdir(\"D:\\Programs\\Jupyter Notebooks\\Thesis RIP Scripts\\Annotations\\Batch 005\") # CHANGE VALUE PER BATCH\n",
    "files = []\n",
    "for file in glob.glob(\"*.csv\"):\n",
    "    print(file)\n",
    "    files.append(file)\n",
    "    \n",
    "print(files)    "
   ]
  },
  {
   "cell_type": "code",
   "execution_count": 76,
   "metadata": {},
   "outputs": [
    {
     "name": "stdout",
     "output_type": "stream",
     "text": [
      "      Unnamed: 0                                            message  \\\n",
      "0           7898                                                  F   \n",
      "1           7899                                            LMAOOOO   \n",
      "2           7900                                      :_pewdieFRIP:   \n",
      "3           7901  :_pewdieFRIP::_pewdieFRIP::_pewdieFRIP::_pewdi...   \n",
      "4           7902                also jack: \"kill my partner please\"   \n",
      "...          ...                                                ...   \n",
      "1894        9792                                           bye jack   \n",
      "1895        9793                                             byeeee   \n",
      "1896        9794                                            #ERROR!   \n",
      "1897        9795                                         later yall   \n",
      "1898        9796                                          bye felix   \n",
      "\n",
      "                   author time_text  Direct Harassment  Hate Speech  \\\n",
      "0      username@ SS  GGGS   1:39:41                NaN          NaN   \n",
      "1     username@htaCPtt hi   1:39:41                NaN          NaN   \n",
      "2     username@kéekekPreP   1:39:42                NaN          NaN   \n",
      "3     username@adeRadaaRR   1:39:42                NaN          NaN   \n",
      "4     username@aHaHHHaaHH   1:39:43                NaN          NaN   \n",
      "...                   ...       ...                ...          ...   \n",
      "1894  username@KlAAeeAlKA   2:16:45                NaN          NaN   \n",
      "1895  username@eerosrroGs   2:16:46                NaN          NaN   \n",
      "1896  username@ByyyeyoBoe   2:16:46                NaN          NaN   \n",
      "1897  username@mmerJeJree   2:16:46                NaN          NaN   \n",
      "1898  username@aMM eifSao   2:16:46                NaN          NaN   \n",
      "\n",
      "      Sexual Harassment  Trolling  Others  Toxic  \n",
      "0                   NaN       NaN     NaN    NaN  \n",
      "1                   NaN       NaN     NaN    NaN  \n",
      "2                   NaN       NaN     NaN    NaN  \n",
      "3                   NaN       NaN     NaN    NaN  \n",
      "4                   NaN       NaN     NaN    NaN  \n",
      "...                 ...       ...     ...    ...  \n",
      "1894                NaN       NaN     NaN    NaN  \n",
      "1895                NaN       NaN     NaN    NaN  \n",
      "1896                NaN       NaN     NaN    NaN  \n",
      "1897                NaN       NaN     NaN    NaN  \n",
      "1898                NaN       NaN     NaN    NaN  \n",
      "\n",
      "[1899 rows x 10 columns]\n",
      "      Unnamed: 0                                            message  \\\n",
      "0           7898                                                  F   \n",
      "1           7899                                            LMAOOOO   \n",
      "2           7900                                      :_pewdieFRIP:   \n",
      "3           7901  :_pewdieFRIP::_pewdieFRIP::_pewdieFRIP::_pewdi...   \n",
      "4           7902                also jack: \"kill my partner please\"   \n",
      "...          ...                                                ...   \n",
      "1894        9792                                           bye jack   \n",
      "1895        9793                                             byeeee   \n",
      "1896        9794                                            #ERROR!   \n",
      "1897        9795                                         later yall   \n",
      "1898        9796                                          bye felix   \n",
      "\n",
      "                   author time_text  Direct Harassment  Hate Speech  \\\n",
      "0      username@ SS  GGGS  01:39:41                NaN          NaN   \n",
      "1     username@htaCPtt hi  01:39:41                NaN          NaN   \n",
      "2     username@kéekekPreP  01:39:42                NaN          NaN   \n",
      "3     username@adeRadaaRR  01:39:42                NaN          NaN   \n",
      "4     username@aHaHHHaaHH  01:39:43                NaN          NaN   \n",
      "...                   ...       ...                ...          ...   \n",
      "1894  username@KlAAeeAlKA  02:16:45                NaN          NaN   \n",
      "1895  username@eerosrroGs  02:16:46                NaN          NaN   \n",
      "1896  username@ByyyeyoBoe  02:16:46                NaN          NaN   \n",
      "1897  username@mmerJeJree  02:16:46                NaN          NaN   \n",
      "1898  username@aMM eifSao  02:16:46                NaN          NaN   \n",
      "\n",
      "      Sexual Harassment  Trolling  Others  Toxic  \n",
      "0                   NaN       NaN     NaN    NaN  \n",
      "1                   NaN       NaN     NaN    NaN  \n",
      "2                   NaN       NaN     NaN    NaN  \n",
      "3                   NaN       NaN     NaN    NaN  \n",
      "4                   NaN       NaN     1.0    1.0  \n",
      "...                 ...       ...     ...    ...  \n",
      "1894                NaN       NaN     NaN    NaN  \n",
      "1895                NaN       NaN     NaN    NaN  \n",
      "1896                NaN       NaN     NaN    NaN  \n",
      "1897                NaN       NaN     NaN    NaN  \n",
      "1898                NaN       NaN     NaN    NaN  \n",
      "\n",
      "[1899 rows x 10 columns]\n",
      "      Unnamed: 0                                            message  \\\n",
      "0           7898                                                  F   \n",
      "1           7899                                            LMAOOOO   \n",
      "2           7900                                      :_pewdieFRIP:   \n",
      "3           7901  :_pewdieFRIP::_pewdieFRIP::_pewdieFRIP::_pewdi...   \n",
      "4           7902                also jack: \"kill my partner please\"   \n",
      "...          ...                                                ...   \n",
      "1894        9792                                           bye jack   \n",
      "1895        9793                                             byeeee   \n",
      "1896        9794                                            #ERROR!   \n",
      "1897        9795                                         later yall   \n",
      "1898        9796                                          bye felix   \n",
      "\n",
      "                   author time_text  Direct Harassment  Hate Speech  \\\n",
      "0      username@ SS  GGGS  01:39:41                NaN          NaN   \n",
      "1     username@htaCPtt hi  01:39:41                NaN          NaN   \n",
      "2     username@kéekekPreP  01:39:42                NaN          NaN   \n",
      "3     username@adeRadaaRR  01:39:42                NaN          NaN   \n",
      "4     username@aHaHHHaaHH  01:39:43                NaN          NaN   \n",
      "...                   ...       ...                ...          ...   \n",
      "1894  username@KlAAeeAlKA  02:16:45                NaN          NaN   \n",
      "1895  username@eerosrroGs  02:16:46                NaN          NaN   \n",
      "1896  username@ByyyeyoBoe  02:16:46                NaN          NaN   \n",
      "1897  username@mmerJeJree  02:16:46                NaN          NaN   \n",
      "1898  username@aMM eifSao  02:16:46                NaN          NaN   \n",
      "\n",
      "      Sexual Harassment  Trolling  Others  Toxic  \n",
      "0                   NaN       NaN     NaN    NaN  \n",
      "1                   NaN       NaN     NaN    NaN  \n",
      "2                   NaN       NaN     NaN    NaN  \n",
      "3                   NaN       NaN     NaN    NaN  \n",
      "4                   NaN       NaN     NaN    NaN  \n",
      "...                 ...       ...     ...    ...  \n",
      "1894                NaN       NaN     NaN    NaN  \n",
      "1895                NaN       NaN     NaN    NaN  \n",
      "1896                NaN       NaN     NaN    NaN  \n",
      "1897                NaN       NaN     NaN    NaN  \n",
      "1898                NaN       NaN     NaN    NaN  \n",
      "\n",
      "[1899 rows x 10 columns]\n"
     ]
    }
   ],
   "source": [
    "for file in files:\n",
    "    coder = pd.read_csv(file)\n",
    "    print(coder)"
   ]
  }
 ],
 "metadata": {
  "kernelspec": {
   "display_name": "Python 3",
   "language": "python",
   "name": "python3"
  },
  "language_info": {
   "codemirror_mode": {
    "name": "ipython",
    "version": 3
   },
   "file_extension": ".py",
   "mimetype": "text/x-python",
   "name": "python",
   "nbconvert_exporter": "python",
   "pygments_lexer": "ipython3",
   "version": "3.8.5"
  }
 },
 "nbformat": 4,
 "nbformat_minor": 4
}
