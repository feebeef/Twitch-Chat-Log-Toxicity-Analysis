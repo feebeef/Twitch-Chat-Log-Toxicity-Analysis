{
 "cells": [
  {
   "cell_type": "markdown",
   "metadata": {},
   "source": [
    "# Excel to CSV Convert\n",
    "Just to make life easier"
   ]
  },
  {
   "cell_type": "code",
   "execution_count": 77,
   "metadata": {},
   "outputs": [],
   "source": [
    "import pandas as pd\n",
    "import numpy as np\n",
    "import nltk\n",
    "from nltk.tokenize.toktok import ToktokTokenizer\n",
    "from nltk import word_tokenize, pos_tag_sents, pos_tag\n",
    "import re\n",
    "from bs4 import BeautifulSoup\n",
    "import unicodedata\n",
    "from nltk.stem import WordNetLemmatizer \n",
    "from nltk.corpus import stopwords\n",
    "from nltk.tokenize import word_tokenize\n",
    "from nltk.stem import PorterStemmer\n",
    "from string import punctuation\n",
    "import os, glob\n",
    "from sklearn.feature_extraction.text import TfidfVectorizer\n",
    "import matplotlib.pyplot as plt"
   ]
  },
  {
   "cell_type": "code",
   "execution_count": 78,
   "metadata": {},
   "outputs": [
    {
     "name": "stdout",
     "output_type": "stream",
     "text": [
      "luis_raymundo.xlsx\n",
      "['luis_raymundo.xlsx']\n"
     ]
    }
   ],
   "source": [
    "os.chdir(\"D:\\Programs\\Jupyter Notebooks\\Thesis RIP Scripts\\Annotations\\Batch 003\") # CHANGE VALUE PER BATCH\n",
    "files = []\n",
    "for file in glob.glob(\"*.xlsx\"):\n",
    "    print(file)\n",
    "    files.append(file)\n",
    "    \n",
    "print(files)    "
   ]
  },
  {
   "cell_type": "code",
   "execution_count": 79,
   "metadata": {},
   "outputs": [],
   "source": [
    "for file in files:\n",
    "    df = pd.read_excel(file)\n",
    "    os.remove(file)\n",
    "    file = file.replace('.xlsx', '')\n",
    "    df.to_csv(file+'.csv', encoding='utf-8', index=False)"
   ]
  },
  {
   "cell_type": "code",
   "execution_count": 80,
   "metadata": {},
   "outputs": [
    {
     "name": "stdout",
     "output_type": "stream",
     "text": [
      "katrina_ruzol.csv\n",
      "luis_raymundo.csv\n",
      "samantha_santos.csv\n",
      "['katrina_ruzol.csv', 'luis_raymundo.csv', 'samantha_santos.csv']\n"
     ]
    }
   ],
   "source": [
    "#os.chdir(\"D:\\Programs\\Jupyter Notebooks\\Thesis RIP Scripts\\Annotations\\Batch 005\") # CHANGE VALUE PER BATCH\n",
    "files = []\n",
    "for file in glob.glob(\"*.csv\"):\n",
    "    print(file)\n",
    "    files.append(file)\n",
    "    \n",
    "print(files)    "
   ]
  },
  {
   "cell_type": "code",
   "execution_count": 81,
   "metadata": {},
   "outputs": [
    {
     "name": "stdout",
     "output_type": "stream",
     "text": [
      "      Unnamed: 0                                            message  \\\n",
      "0         6000.0                       ❤Let's Turn ILLINOIS Red!!!!   \n",
      "1         6001.0     Just got some emergency food from the sponsor.   \n",
      "2         6002.0  STAR TREK BACKS UP TRUMP AND SPACE FORCE!✈✈✈✈✈...   \n",
      "3         6003.0     Promises made, promises kept. Big Daddy Trump!   \n",
      "4         6004.0            Tromp on the establishment - vote Trump   \n",
      "...          ...                                                ...   \n",
      "2997      8997.0                               Trinidad loves Trump   \n",
      "2998      8998.0         Use ballot to crash radical left tomorrow!   \n",
      "2999      8999.0                        Throw Obama in the Garbage!   \n",
      "3000         NaN                                                NaN   \n",
      "3001         NaN                                                NaN   \n",
      "\n",
      "                   author time_text  Direct Harassment  Hate Speech  \\\n",
      "0     username@eamKaeolll  37:27:00                NaN          1.0   \n",
      "1     username@onnnnnnone  37:27:00                NaN          NaN   \n",
      "2     username@HBHBBHBBHB  37:27:00                NaN          NaN   \n",
      "3     username@OkigigBeie  37:27:00                NaN          NaN   \n",
      "4     username@oEo EEoCyC  37:27:00                NaN          NaN   \n",
      "...                   ...       ...                ...          ...   \n",
      "2997  username@mr lcdoode  50:14:00                NaN          NaN   \n",
      "2998  username@e f ee hee  50:14:00                NaN          NaN   \n",
      "2999  username@watsctweoa  50:15:00                NaN          NaN   \n",
      "3000                  NaN       NaN                NaN          NaN   \n",
      "3001                  NaN       NaN                NaN          NaN   \n",
      "\n",
      "      Sexual Harassment  Trolling  Others  Toxic  \n",
      "0                   NaN       NaN     NaN    1.0  \n",
      "1                   NaN       NaN     NaN    NaN  \n",
      "2                   NaN       1.0     NaN    NaN  \n",
      "3                   NaN       1.0     NaN    NaN  \n",
      "4                   NaN       NaN     NaN    NaN  \n",
      "...                 ...       ...     ...    ...  \n",
      "2997                NaN       NaN     NaN    NaN  \n",
      "2998                NaN       NaN     NaN    NaN  \n",
      "2999                NaN       1.0     NaN    NaN  \n",
      "3000                NaN       NaN     NaN    NaN  \n",
      "3001                NaN       NaN     NaN    NaN  \n",
      "\n",
      "[3002 rows x 10 columns]\n",
      "      Unnamed: 0                                            message  \\\n",
      "0           6000                       ❤Let's Turn ILLINOIS Red!!!!   \n",
      "1           6001     Just got some emergency food from the sponsor.   \n",
      "2           6002  STAR TREK BACKS UP TRUMP AND SPACE FORCE!✈✈✈✈✈...   \n",
      "3           6003     Promises made, promises kept. Big Daddy Trump!   \n",
      "4           6004            Tromp on the establishment - vote Trump   \n",
      "...          ...                                                ...   \n",
      "2995        8995                                         PENCE 2024   \n",
      "2996        8996                    WHAT A TEAM! TRUMP / PENCE 2020   \n",
      "2997        8997                               Trinidad loves Trump   \n",
      "2998        8998         Use ballot to crash radical left tomorrow!   \n",
      "2999        8999                        Throw Obama in the Garbage!   \n",
      "\n",
      "                   author            time_text  Direct Harassment  \\\n",
      "0     username@eamKaeolll  1900-01-01 13:27:00                NaN   \n",
      "1     username@onnnnnnone  1900-01-01 13:27:00                NaN   \n",
      "2     username@HBHBBHBBHB  1900-01-01 13:27:00                NaN   \n",
      "3     username@OkigigBeie  1900-01-01 13:27:00                NaN   \n",
      "4     username@oEo EEoCyC  1900-01-01 13:27:00                NaN   \n",
      "...                   ...                  ...                ...   \n",
      "2995  username@TrtttPoaax  1900-01-02 02:14:00                NaN   \n",
      "2996  username@Beircahnrr  1900-01-02 02:14:00                NaN   \n",
      "2997  username@mr lcdoode  1900-01-02 02:14:00                NaN   \n",
      "2998  username@e f ee hee  1900-01-02 02:14:00                NaN   \n",
      "2999  username@watsctweoa  1900-01-02 02:15:00                NaN   \n",
      "\n",
      "      Hate Speech  Sexual Harassment  Trolling  Others  Toxic  \n",
      "0             NaN                NaN       NaN     NaN    NaN  \n",
      "1             NaN                NaN       1.0     NaN    NaN  \n",
      "2             NaN                NaN       1.0     NaN    NaN  \n",
      "3             NaN                NaN       NaN     NaN    NaN  \n",
      "4             NaN                NaN       NaN     NaN    NaN  \n",
      "...           ...                ...       ...     ...    ...  \n",
      "2995          NaN                NaN       NaN     NaN    NaN  \n",
      "2996          NaN                NaN       NaN     NaN    NaN  \n",
      "2997          NaN                NaN       NaN     NaN    NaN  \n",
      "2998          NaN                NaN       NaN     1.0    NaN  \n",
      "2999          NaN                NaN       NaN     NaN    NaN  \n",
      "\n",
      "[3000 rows x 10 columns]\n",
      "      Unnamed: 0                                            message  \\\n",
      "0         6000.0                       ❤Let's Turn ILLINOIS Red!!!!   \n",
      "1         6001.0     Just got some emergency food from the sponsor.   \n",
      "2         6002.0  STAR TREK BACKS UP TRUMP AND SPACE FORCE!✈✈✈✈✈...   \n",
      "3         6003.0     Promises made, promises kept. Big Daddy Trump!   \n",
      "4         6004.0            Tromp on the establishment - vote Trump   \n",
      "...          ...                                                ...   \n",
      "2997      8997.0                               Trinidad loves Trump   \n",
      "2998      8998.0         Use ballot to crash radical left tomorrow!   \n",
      "2999      8999.0                        Throw Obama in the Garbage!   \n",
      "3000         NaN                                                NaN   \n",
      "3001         NaN                                                NaN   \n",
      "\n",
      "                   author time_text  Direct Harassment  Hate Speech  \\\n",
      "0     username@eamKaeolll  37:27:00                NaN          NaN   \n",
      "1     username@onnnnnnone  37:27:00                NaN          NaN   \n",
      "2     username@HBHBBHBBHB  37:27:00                NaN          NaN   \n",
      "3     username@OkigigBeie  37:27:00                NaN          NaN   \n",
      "4     username@oEo EEoCyC  37:27:00                NaN          NaN   \n",
      "...                   ...       ...                ...          ...   \n",
      "2997  username@mr lcdoode  50:14:00                NaN          NaN   \n",
      "2998  username@e f ee hee  50:14:00                NaN          NaN   \n",
      "2999  username@watsctweoa  50:15:00                NaN          NaN   \n",
      "3000                  NaN       NaN                NaN          NaN   \n",
      "3001                  NaN       NaN                NaN          NaN   \n",
      "\n",
      "      Sexual Harassment  Trolling  Others  Toxic  Unnamed: 10  Unnamed: 11  \n",
      "0                   NaN       NaN     NaN    NaN          NaN          NaN  \n",
      "1                   NaN       NaN     NaN    NaN          NaN          NaN  \n",
      "2                   NaN       NaN     NaN    NaN          NaN          NaN  \n",
      "3                   NaN       NaN     NaN    NaN          NaN          NaN  \n",
      "4                   NaN       NaN     NaN    NaN          NaN          NaN  \n",
      "...                 ...       ...     ...    ...          ...          ...  \n",
      "2997                NaN       NaN     NaN    NaN          NaN          NaN  \n",
      "2998                NaN       NaN     NaN    NaN          NaN          NaN  \n",
      "2999                NaN       NaN     NaN    NaN          NaN          NaN  \n",
      "3000                NaN       NaN     NaN    NaN          NaN          NaN  \n",
      "3001                NaN       NaN     NaN    NaN          NaN          NaN  \n",
      "\n",
      "[3002 rows x 12 columns]\n"
     ]
    }
   ],
   "source": [
    "for file in files:\n",
    "    coder = pd.read_csv(file)\n",
    "    print(coder)"
   ]
  }
 ],
 "metadata": {
  "kernelspec": {
   "display_name": "Python 3",
   "language": "python",
   "name": "python3"
  },
  "language_info": {
   "codemirror_mode": {
    "name": "ipython",
    "version": 3
   },
   "file_extension": ".py",
   "mimetype": "text/x-python",
   "name": "python",
   "nbconvert_exporter": "python",
   "pygments_lexer": "ipython3",
   "version": "3.8.5"
  }
 },
 "nbformat": 4,
 "nbformat_minor": 4
}
