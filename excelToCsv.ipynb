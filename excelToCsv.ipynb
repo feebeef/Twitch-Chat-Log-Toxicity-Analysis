{
 "cells": [
  {
   "cell_type": "markdown",
   "metadata": {},
   "source": [
    "# Excel to CSV Convert\n",
    "Just to make life easier"
   ]
  },
  {
   "cell_type": "code",
   "execution_count": 1,
   "metadata": {},
   "outputs": [],
   "source": [
    "import pandas as pd\n",
    "import numpy as np\n",
    "import nltk\n",
    "from nltk.tokenize.toktok import ToktokTokenizer\n",
    "from nltk import word_tokenize, pos_tag_sents, pos_tag\n",
    "import re\n",
    "from bs4 import BeautifulSoup\n",
    "import unicodedata\n",
    "from nltk.stem import WordNetLemmatizer \n",
    "from nltk.corpus import stopwords\n",
    "from nltk.tokenize import word_tokenize\n",
    "from nltk.stem import PorterStemmer\n",
    "from string import punctuation\n",
    "import os, glob\n",
    "from sklearn.feature_extraction.text import TfidfVectorizer\n",
    "import matplotlib.pyplot as plt"
   ]
  },
  {
   "cell_type": "code",
   "execution_count": 2,
   "metadata": {},
   "outputs": [
    {
     "name": "stdout",
     "output_type": "stream",
     "text": [
      "nicholas_custodio.xlsx\n",
      "['nicholas_custodio.xlsx']\n"
     ]
    }
   ],
   "source": [
    "os.chdir(\"D:\\Programs\\Jupyter Notebooks\\Thesis RIP Scripts\\Annotations\\Batch 002\") # CHANGE VALUE PER BATCH\n",
    "files = []\n",
    "for file in glob.glob(\"*.xlsx\"):\n",
    "    print(file)\n",
    "    files.append(file)\n",
    "    \n",
    "print(files)    "
   ]
  },
  {
   "cell_type": "code",
   "execution_count": 3,
   "metadata": {},
   "outputs": [],
   "source": [
    "for file in files:\n",
    "    df = pd.read_excel(file)\n",
    "    os.remove(file)\n",
    "    file = file.replace('.xlsx', '')\n",
    "    df.to_csv(file+'.csv', encoding='utf-8', index=False)"
   ]
  },
  {
   "cell_type": "code",
   "execution_count": 4,
   "metadata": {},
   "outputs": [
    {
     "name": "stdout",
     "output_type": "stream",
     "text": [
      "jan_ren.csv\n",
      "nicholas_custodio.csv\n",
      "yka_gonzales.csv\n",
      "['jan_ren.csv', 'nicholas_custodio.csv', 'yka_gonzales.csv']\n"
     ]
    }
   ],
   "source": [
    "#os.chdir(\"D:\\Programs\\Jupyter Notebooks\\Thesis RIP Scripts\\Annotations\\Batch 005\") # CHANGE VALUE PER BATCH\n",
    "files = []\n",
    "for file in glob.glob(\"*.csv\"):\n",
    "    print(file)\n",
    "    files.append(file)\n",
    "    \n",
    "print(files)    "
   ]
  },
  {
   "cell_type": "code",
   "execution_count": 5,
   "metadata": {},
   "outputs": [
    {
     "name": "stdout",
     "output_type": "stream",
     "text": [
      "<class 'pandas.core.frame.DataFrame'>\n",
      "RangeIndex: 3000 entries, 0 to 2999\n",
      "Data columns (total 10 columns):\n",
      " #   Column             Non-Null Count  Dtype  \n",
      "---  ------             --------------  -----  \n",
      " 0   Unnamed: 0         3000 non-null   int64  \n",
      " 1   message            3000 non-null   object \n",
      " 2   author             3000 non-null   object \n",
      " 3   time_text          3000 non-null   object \n",
      " 4   Direct Harassment  61 non-null     float64\n",
      " 5   Hate Speech        56 non-null     float64\n",
      " 6   Sexual Harassment  17 non-null     float64\n",
      " 7   Trolling           63 non-null     float64\n",
      " 8   Others             11 non-null     float64\n",
      " 9   Toxic              44 non-null     float64\n",
      "dtypes: float64(6), int64(1), object(3)\n",
      "memory usage: 234.5+ KB\n",
      "<class 'pandas.core.frame.DataFrame'>\n",
      "RangeIndex: 3000 entries, 0 to 2999\n",
      "Data columns (total 10 columns):\n",
      " #   Column             Non-Null Count  Dtype  \n",
      "---  ------             --------------  -----  \n",
      " 0   Unnamed: 0         3000 non-null   int64  \n",
      " 1   message            3000 non-null   object \n",
      " 2   author             3000 non-null   object \n",
      " 3   time_text          3000 non-null   object \n",
      " 4   Direct Harassment  343 non-null    float64\n",
      " 5   Hate Speech        297 non-null    float64\n",
      " 6   Sexual Harassment  33 non-null     float64\n",
      " 7   Trolling           341 non-null    float64\n",
      " 8   Others             17 non-null     float64\n",
      " 9   Toxic              710 non-null    float64\n",
      "dtypes: float64(6), int64(1), object(3)\n",
      "memory usage: 234.5+ KB\n",
      "<class 'pandas.core.frame.DataFrame'>\n",
      "RangeIndex: 3000 entries, 0 to 2999\n",
      "Data columns (total 10 columns):\n",
      " #   Column             Non-Null Count  Dtype  \n",
      "---  ------             --------------  -----  \n",
      " 0   Unnamed: 0         3000 non-null   int64  \n",
      " 1   message            3000 non-null   object \n",
      " 2   author             3000 non-null   object \n",
      " 3   time_text          3000 non-null   object \n",
      " 4   Direct Harassment  119 non-null    float64\n",
      " 5   Hate Speech        334 non-null    float64\n",
      " 6   Sexual Harassment  14 non-null     float64\n",
      " 7   Trolling           85 non-null     float64\n",
      " 8   Others             16 non-null     float64\n",
      " 9   Toxic              96 non-null     float64\n",
      "dtypes: float64(6), int64(1), object(3)\n",
      "memory usage: 234.5+ KB\n"
     ]
    }
   ],
   "source": [
    "for file in files:\n",
    "    coder = pd.read_csv(file)\n",
    "    coder.info()"
   ]
  }
 ],
 "metadata": {
  "kernelspec": {
   "display_name": "Python 3",
   "language": "python",
   "name": "python3"
  },
  "language_info": {
   "codemirror_mode": {
    "name": "ipython",
    "version": 3
   },
   "file_extension": ".py",
   "mimetype": "text/x-python",
   "name": "python",
   "nbconvert_exporter": "python",
   "pygments_lexer": "ipython3",
   "version": "3.8.5"
  }
 },
 "nbformat": 4,
 "nbformat_minor": 4
}
